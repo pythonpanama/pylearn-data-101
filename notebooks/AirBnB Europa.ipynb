{
 "cells": [
  {
   "cell_type": "markdown",
   "id": "76a5bb4d",
   "metadata": {},
   "source": [
    "# AirBNB Europa\n",
    "\n"
   ]
  },
  {
   "cell_type": "code",
   "execution_count": 2,
   "id": "19d17c02",
   "metadata": {},
   "outputs": [],
   "source": [
    "from pathlib import Path\n",
    "\n",
    "import csv\n",
    "import time\n",
    "import re\n",
    "\n",
    "import matplotlib.pyplot as plt\n",
    "\n",
    "import numpy as np\n",
    "import pandas as pd\n",
    "from tqdm import tqdm\n",
    "import seaborn as sns\n",
    "\n",
    "\n",
    "%matplotlib inline"
   ]
  },
  {
   "cell_type": "markdown",
   "id": "a6025afa",
   "metadata": {},
   "source": [
    "## Configuración\n",
    "\n",
    "Fuente de datos para Europa \n",
    "Fuente de datos para Madrid https://www.kaggle.com/datasets/rusiano/madrid-airbnb-data"
   ]
  },
  {
   "cell_type": "code",
   "execution_count": 3,
   "id": "0f2bf504",
   "metadata": {},
   "outputs": [],
   "source": [
    "data_folder = Path().cwd().parent / 'data'\n",
    "\n",
    "csv_file = data_folder / 'Aemf1.csv'"
   ]
  },
  {
   "cell_type": "markdown",
   "id": "775402e3",
   "metadata": {},
   "source": [
    "## Carga de datos"
   ]
  },
  {
   "cell_type": "code",
   "execution_count": 4,
   "id": "bbb102bb",
   "metadata": {},
   "outputs": [
    {
     "data": {
      "text/plain": [
       "(41714, 19)"
      ]
     },
     "execution_count": 4,
     "metadata": {},
     "output_type": "execute_result"
    }
   ],
   "source": [
    "df = pd.read_csv(csv_file)\n",
    "\n",
    "df.shape"
   ]
  },
  {
   "cell_type": "code",
   "execution_count": null,
   "id": "076ff218",
   "metadata": {},
   "outputs": [],
   "source": []
  }
 ],
 "metadata": {
  "kernelspec": {
   "display_name": "Python 3 (ipykernel)",
   "language": "python",
   "name": "python3"
  },
  "language_info": {
   "codemirror_mode": {
    "name": "ipython",
    "version": 3
   },
   "file_extension": ".py",
   "mimetype": "text/x-python",
   "name": "python",
   "nbconvert_exporter": "python",
   "pygments_lexer": "ipython3",
   "version": "3.10.6"
  },
  "toc": {
   "base_numbering": 1,
   "nav_menu": {},
   "number_sections": true,
   "sideBar": true,
   "skip_h1_title": true,
   "title_cell": "Table of Contents",
   "title_sidebar": "Contents",
   "toc_cell": false,
   "toc_position": {},
   "toc_section_display": true,
   "toc_window_display": false
  }
 },
 "nbformat": 4,
 "nbformat_minor": 5
}
