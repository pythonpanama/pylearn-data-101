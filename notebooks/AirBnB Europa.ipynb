{
 "cells": [
  {
   "cell_type": "markdown",
   "id": "2c67abd2",
   "metadata": {},
   "source": [
    "# AirBNB Europa\n",
    "\n"
   ]
  },
  {
   "cell_type": "code",
   "execution_count": 17,
   "id": "0f4dbb58",
   "metadata": {},
   "outputs": [],
   "source": [
    "from pathlib import Path\n",
    "\n",
    "import csv\n",
    "import time\n",
    "import re\n",
    "\n",
    "import matplotlib.pyplot as plt\n",
    "\n",
    "import numpy as np\n",
    "import pandas as pd\n",
    "from tqdm import tqdm\n",
    "import seaborn as sns\n",
    "\n",
    "\n",
    "%matplotlib inline"
   ]
  },
  {
   "cell_type": "markdown",
   "id": "7ac0752e",
   "metadata": {},
   "source": [
    "## Configuración\n",
    "\n",
    "Fuente de datos para Europa https://www.kaggle.com/datasets/dipeshkhemani/airbnb-cleaned-europe-dataset\n"
   ]
  },
  {
   "cell_type": "code",
   "execution_count": 18,
   "id": "7f536aba",
   "metadata": {},
   "outputs": [],
   "source": [
    "data_folder = Path().cwd().parent / 'data'\n",
    "\n",
    "europe_file = data_folder / 'airbnb_europe' / 'Aemf1.csv'"
   ]
  },
  {
   "cell_type": "markdown",
   "id": "0d54efa7",
   "metadata": {},
   "source": [
    "## Carga de datos\n",
    "\n",
    "### Datos Europa"
   ]
  },
  {
   "cell_type": "code",
   "execution_count": 19,
   "id": "c0fb0eda",
   "metadata": {},
   "outputs": [],
   "source": [
    "df = pd.read_csv(europe_file)\n",
    "\n",
    "df.shape"
   ]
  },
  {
   "cell_type": "markdown",
   "id": "3e4d0a48",
   "metadata": {},
   "source": [
    "## EDA\n",
    "\n",
    "### EDA datos Europa"
   ]
  },
  {
   "cell_type": "code",
   "execution_count": 20,
   "id": "0cee997a",
   "metadata": {},
   "outputs": [],
   "source": [
    "df.info()"
   ]
  },
  {
   "cell_type": "code",
   "execution_count": 21,
   "id": "ac813330",
   "metadata": {},
   "outputs": [],
   "source": [
    "df.describe()"
   ]
  },
  {
   "cell_type": "code",
   "execution_count": 22,
   "id": "37914467",
   "metadata": {},
   "outputs": [],
   "source": [
    "df['City'].value_counts()"
   ]
  },
  {
   "cell_type": "code",
   "execution_count": 23,
   "id": "6b69d024",
   "metadata": {},
   "outputs": [],
   "source": [
    "df['Day'].value_counts()"
   ]
  },
  {
   "cell_type": "code",
   "execution_count": 24,
   "id": "1408eff0",
   "metadata": {},
   "outputs": [],
   "source": [
    "df['Room Type'].value_counts()"
   ]
  },
  {
   "cell_type": "markdown",
   "id": "e324b138",
   "metadata": {},
   "source": [
    "### Limpieza de datos"
   ]
  },
  {
   "cell_type": "code",
   "execution_count": 9,
   "id": "59e36281",
   "metadata": {},
   "outputs": [],
   "source": [
    "city_mapping = {\n",
    "    'Rome': 0,\n",
    "    'Paris': 1,\n",
    "    'Lisbon': 2,\n",
    "    'Athens': 3,\n",
    "    'Budapest': 4,\n",
    "    'Vienna': 5,\n",
    "    'Barcelona': 6,\n",
    "    'Berlin': 7,\n",
    "    'Amsterdam': 8\n",
    "}\n",
    "df['City'] = df['City'].map(city_mapping)"
   ]
  },
  {
   "cell_type": "code",
   "execution_count": 10,
   "id": "83d79e5f",
   "metadata": {},
   "outputs": [],
   "source": [
    "day_mapping = {\n",
    "    \"Weekday\": 0,\n",
    "    \"Weekend\": 1,\n",
    "}\n",
    "\n",
    "df['Day'] = df['Day'].map(day_mapping)"
   ]
  },
  {
   "cell_type": "code",
   "execution_count": 11,
   "id": "787c2a29",
   "metadata": {},
   "outputs": [],
   "source": [
    "room_type_mapping = {\n",
    "    \"Entire\": 0,\n",
    "    \"Private\": 1,\n",
    "    \"Shared\": 2,\n",
    "}\n",
    "\n",
    "df['Room Type'] = df['Room Type'].map(day_mapping)"
   ]
  },
  {
   "cell_type": "code",
   "execution_count": 16,
   "id": "cb189827",
   "metadata": {},
   "outputs": [],
   "source": [
    "corr = df.corr()\n",
    "corr.style.background_gradient(cmap='coolwarm')\n",
    "\n",
    "plt.matshow(df.corr())\n",
    "plt.show()\n"
   ]
  },
  {
   "cell_type": "code",
   "execution_count": null,
   "id": "36aca00b",
   "metadata": {},
   "outputs": [],
   "source": []
  }
 ],
 "metadata": {
  "kernelspec": {
   "display_name": "Python 3 (ipykernel)",
   "language": "python",
   "name": "python3"
  },
  "language_info": {
   "codemirror_mode": {
    "name": "ipython",
    "version": 3
   },
   "file_extension": ".py",
   "mimetype": "text/x-python",
   "name": "python",
   "nbconvert_exporter": "python",
   "pygments_lexer": "ipython3",
   "version": "3.10.6"
  },
  "toc": {
   "base_numbering": 1,
   "nav_menu": {},
   "number_sections": true,
   "sideBar": true,
   "skip_h1_title": true,
   "title_cell": "Table of Contents",
   "title_sidebar": "Contents",
   "toc_cell": false,
   "toc_position": {},
   "toc_section_display": true,
   "toc_window_display": true
  }
 },
 "nbformat": 4,
 "nbformat_minor": 5
}
