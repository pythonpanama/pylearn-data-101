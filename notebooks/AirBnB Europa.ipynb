{
 "cells": [
  {
   "cell_type": "markdown",
   "id": "ca98af59",
   "metadata": {},
   "source": [
    "# AirBNB Europa\n",
    "\n"
   ]
  },
  {
   "cell_type": "code",
   "execution_count": 2,
   "id": "1e992e90",
   "metadata": {},
   "outputs": [],
   "source": [
    "from pathlib import Path\n",
    "\n",
    "import csv\n",
    "import time\n",
    "import re\n",
    "\n",
    "import matplotlib.pyplot as plt\n",
    "\n",
    "import numpy as np\n",
    "import pandas as pd\n",
    "from tqdm import tqdm\n",
    "import seaborn as sns\n",
    "\n",
    "\n",
    "%matplotlib inline"
   ]
  },
  {
   "cell_type": "markdown",
   "id": "6c7f6375",
   "metadata": {},
   "source": [
    "## Configuración\n",
    "\n",
    "Fuente de datos para Europa https://www.kaggle.com/datasets/dipeshkhemani/airbnb-cleaned-europe-dataset\n"
   ]
  },
  {
   "cell_type": "code",
   "execution_count": 18,
   "id": "52aed674",
   "metadata": {},
   "outputs": [],
   "source": [
    "data_folder = Path().cwd().parent / 'data'\n",
    "\n",
    "europe_file = data_folder / 'airbnb_europe' / 'Aemf1.csv'"
   ]
  },
  {
   "cell_type": "markdown",
   "id": "5d77ab2d",
   "metadata": {},
   "source": [
    "## Carga de datos\n",
    "\n",
    "### Datos Europa"
   ]
  },
  {
   "cell_type": "code",
   "execution_count": 19,
   "id": "fddb884b",
   "metadata": {},
   "outputs": [
    {
     "data": {
      "text/plain": [
       "(41714, 19)"
      ]
     },
     "execution_count": 19,
     "metadata": {},
     "output_type": "execute_result"
    }
   ],
   "source": [
    "df = pd.read_csv(europe_file)\n",
    "\n",
    "df.shape"
   ]
  },
  {
   "cell_type": "markdown",
   "id": "c23dcaba",
   "metadata": {},
   "source": [
    "## EDA\n",
    "\n",
    "### EDA datos Europa"
   ]
  },
  {
   "cell_type": "code",
   "execution_count": 20,
   "id": "03d46a10",
   "metadata": {},
   "outputs": [
    {
     "name": "stdout",
     "output_type": "stream",
     "text": [
      "<class 'pandas.core.frame.DataFrame'>\n",
      "RangeIndex: 41714 entries, 0 to 41713\n",
      "Data columns (total 19 columns):\n",
      " #   Column                       Non-Null Count  Dtype  \n",
      "---  ------                       --------------  -----  \n",
      " 0   City                         41714 non-null  object \n",
      " 1   Price                        41714 non-null  float64\n",
      " 2   Day                          41714 non-null  object \n",
      " 3   Room Type                    41714 non-null  object \n",
      " 4   Shared Room                  41714 non-null  bool   \n",
      " 5   Private Room                 41714 non-null  bool   \n",
      " 6   Person Capacity              41714 non-null  float64\n",
      " 7   Superhost                    41714 non-null  bool   \n",
      " 8   Multiple Rooms               41714 non-null  int64  \n",
      " 9   Business                     41714 non-null  int64  \n",
      " 10  Cleanliness Rating           41714 non-null  float64\n",
      " 11  Guest Satisfaction           41714 non-null  float64\n",
      " 12  Bedrooms                     41714 non-null  int64  \n",
      " 13  City Center (km)             41714 non-null  float64\n",
      " 14  Metro Distance (km)          41714 non-null  float64\n",
      " 15  Attraction Index             41714 non-null  float64\n",
      " 16  Normalised Attraction Index  41714 non-null  float64\n",
      " 17  Restraunt Index              41714 non-null  float64\n",
      " 18  Normalised Restraunt Index   41714 non-null  float64\n",
      "dtypes: bool(3), float64(10), int64(3), object(3)\n",
      "memory usage: 5.2+ MB\n"
     ]
    }
   ],
   "source": [
    "df.info()"
   ]
  },
  {
   "cell_type": "code",
   "execution_count": 22,
   "id": "27ed006c",
   "metadata": {},
   "outputs": [
    {
     "data": {
      "text/html": [
       "<div>\n",
       "<style scoped>\n",
       "    .dataframe tbody tr th:only-of-type {\n",
       "        vertical-align: middle;\n",
       "    }\n",
       "\n",
       "    .dataframe tbody tr th {\n",
       "        vertical-align: top;\n",
       "    }\n",
       "\n",
       "    .dataframe thead th {\n",
       "        text-align: right;\n",
       "    }\n",
       "</style>\n",
       "<table border=\"1\" class=\"dataframe\">\n",
       "  <thead>\n",
       "    <tr style=\"text-align: right;\">\n",
       "      <th></th>\n",
       "      <th>Price</th>\n",
       "      <th>Person Capacity</th>\n",
       "      <th>Multiple Rooms</th>\n",
       "      <th>Business</th>\n",
       "      <th>Cleanliness Rating</th>\n",
       "      <th>Guest Satisfaction</th>\n",
       "      <th>Bedrooms</th>\n",
       "      <th>City Center (km)</th>\n",
       "      <th>Metro Distance (km)</th>\n",
       "      <th>Attraction Index</th>\n",
       "      <th>Normalised Attraction Index</th>\n",
       "      <th>Restraunt Index</th>\n",
       "      <th>Normalised Restraunt Index</th>\n",
       "    </tr>\n",
       "  </thead>\n",
       "  <tbody>\n",
       "    <tr>\n",
       "      <th>count</th>\n",
       "      <td>41714.000000</td>\n",
       "      <td>41714.000000</td>\n",
       "      <td>41714.000000</td>\n",
       "      <td>41714.000000</td>\n",
       "      <td>41714.000000</td>\n",
       "      <td>41714.000000</td>\n",
       "      <td>41714.000000</td>\n",
       "      <td>41714.000000</td>\n",
       "      <td>41714.000000</td>\n",
       "      <td>41714.000000</td>\n",
       "      <td>41714.000000</td>\n",
       "      <td>41714.000000</td>\n",
       "      <td>41714.000000</td>\n",
       "    </tr>\n",
       "    <tr>\n",
       "      <th>mean</th>\n",
       "      <td>260.094423</td>\n",
       "      <td>3.237235</td>\n",
       "      <td>0.295273</td>\n",
       "      <td>0.341180</td>\n",
       "      <td>9.442274</td>\n",
       "      <td>93.103179</td>\n",
       "      <td>1.165939</td>\n",
       "      <td>2.679792</td>\n",
       "      <td>0.603921</td>\n",
       "      <td>293.905990</td>\n",
       "      <td>11.719658</td>\n",
       "      <td>626.692618</td>\n",
       "      <td>25.553590</td>\n",
       "    </tr>\n",
       "    <tr>\n",
       "      <th>std</th>\n",
       "      <td>279.408493</td>\n",
       "      <td>1.299459</td>\n",
       "      <td>0.456171</td>\n",
       "      <td>0.474112</td>\n",
       "      <td>0.889173</td>\n",
       "      <td>8.141745</td>\n",
       "      <td>0.638157</td>\n",
       "      <td>1.996684</td>\n",
       "      <td>0.706206</td>\n",
       "      <td>235.750055</td>\n",
       "      <td>8.379161</td>\n",
       "      <td>520.644720</td>\n",
       "      <td>18.484572</td>\n",
       "    </tr>\n",
       "    <tr>\n",
       "      <th>min</th>\n",
       "      <td>34.779339</td>\n",
       "      <td>2.000000</td>\n",
       "      <td>0.000000</td>\n",
       "      <td>0.000000</td>\n",
       "      <td>2.000000</td>\n",
       "      <td>20.000000</td>\n",
       "      <td>0.000000</td>\n",
       "      <td>0.015045</td>\n",
       "      <td>0.002301</td>\n",
       "      <td>15.152201</td>\n",
       "      <td>0.926301</td>\n",
       "      <td>19.576924</td>\n",
       "      <td>0.592757</td>\n",
       "    </tr>\n",
       "    <tr>\n",
       "      <th>25%</th>\n",
       "      <td>144.016085</td>\n",
       "      <td>2.000000</td>\n",
       "      <td>0.000000</td>\n",
       "      <td>0.000000</td>\n",
       "      <td>9.000000</td>\n",
       "      <td>90.000000</td>\n",
       "      <td>1.000000</td>\n",
       "      <td>1.275913</td>\n",
       "      <td>0.236693</td>\n",
       "      <td>124.371614</td>\n",
       "      <td>5.510735</td>\n",
       "      <td>210.459574</td>\n",
       "      <td>11.132052</td>\n",
       "    </tr>\n",
       "    <tr>\n",
       "      <th>50%</th>\n",
       "      <td>203.819274</td>\n",
       "      <td>3.000000</td>\n",
       "      <td>0.000000</td>\n",
       "      <td>0.000000</td>\n",
       "      <td>10.000000</td>\n",
       "      <td>95.000000</td>\n",
       "      <td>1.000000</td>\n",
       "      <td>2.253237</td>\n",
       "      <td>0.391220</td>\n",
       "      <td>228.920599</td>\n",
       "      <td>9.951086</td>\n",
       "      <td>519.583509</td>\n",
       "      <td>21.814414</td>\n",
       "    </tr>\n",
       "    <tr>\n",
       "      <th>75%</th>\n",
       "      <td>297.373358</td>\n",
       "      <td>4.000000</td>\n",
       "      <td>1.000000</td>\n",
       "      <td>1.000000</td>\n",
       "      <td>10.000000</td>\n",
       "      <td>98.000000</td>\n",
       "      <td>1.000000</td>\n",
       "      <td>3.584489</td>\n",
       "      <td>0.678702</td>\n",
       "      <td>394.000201</td>\n",
       "      <td>15.467009</td>\n",
       "      <td>860.708156</td>\n",
       "      <td>36.821356</td>\n",
       "    </tr>\n",
       "    <tr>\n",
       "      <th>max</th>\n",
       "      <td>18545.450285</td>\n",
       "      <td>6.000000</td>\n",
       "      <td>1.000000</td>\n",
       "      <td>1.000000</td>\n",
       "      <td>10.000000</td>\n",
       "      <td>100.000000</td>\n",
       "      <td>10.000000</td>\n",
       "      <td>25.284557</td>\n",
       "      <td>14.273577</td>\n",
       "      <td>4513.563486</td>\n",
       "      <td>100.000000</td>\n",
       "      <td>6696.156772</td>\n",
       "      <td>100.000000</td>\n",
       "    </tr>\n",
       "  </tbody>\n",
       "</table>\n",
       "</div>"
      ],
      "text/plain": [
       "              Price  Person Capacity  Multiple Rooms      Business  \\\n",
       "count  41714.000000     41714.000000    41714.000000  41714.000000   \n",
       "mean     260.094423         3.237235        0.295273      0.341180   \n",
       "std      279.408493         1.299459        0.456171      0.474112   \n",
       "min       34.779339         2.000000        0.000000      0.000000   \n",
       "25%      144.016085         2.000000        0.000000      0.000000   \n",
       "50%      203.819274         3.000000        0.000000      0.000000   \n",
       "75%      297.373358         4.000000        1.000000      1.000000   \n",
       "max    18545.450285         6.000000        1.000000      1.000000   \n",
       "\n",
       "       Cleanliness Rating  Guest Satisfaction      Bedrooms  City Center (km)  \\\n",
       "count        41714.000000        41714.000000  41714.000000      41714.000000   \n",
       "mean             9.442274           93.103179      1.165939          2.679792   \n",
       "std              0.889173            8.141745      0.638157          1.996684   \n",
       "min              2.000000           20.000000      0.000000          0.015045   \n",
       "25%              9.000000           90.000000      1.000000          1.275913   \n",
       "50%             10.000000           95.000000      1.000000          2.253237   \n",
       "75%             10.000000           98.000000      1.000000          3.584489   \n",
       "max             10.000000          100.000000     10.000000         25.284557   \n",
       "\n",
       "       Metro Distance (km)  Attraction Index  Normalised Attraction Index  \\\n",
       "count         41714.000000      41714.000000                 41714.000000   \n",
       "mean              0.603921        293.905990                    11.719658   \n",
       "std               0.706206        235.750055                     8.379161   \n",
       "min               0.002301         15.152201                     0.926301   \n",
       "25%               0.236693        124.371614                     5.510735   \n",
       "50%               0.391220        228.920599                     9.951086   \n",
       "75%               0.678702        394.000201                    15.467009   \n",
       "max              14.273577       4513.563486                   100.000000   \n",
       "\n",
       "       Restraunt Index  Normalised Restraunt Index  \n",
       "count     41714.000000                41714.000000  \n",
       "mean        626.692618                   25.553590  \n",
       "std         520.644720                   18.484572  \n",
       "min          19.576924                    0.592757  \n",
       "25%         210.459574                   11.132052  \n",
       "50%         519.583509                   21.814414  \n",
       "75%         860.708156                   36.821356  \n",
       "max        6696.156772                  100.000000  "
      ]
     },
     "execution_count": 22,
     "metadata": {},
     "output_type": "execute_result"
    }
   ],
   "source": [
    "df.describe()"
   ]
  },
  {
   "cell_type": "code",
   "execution_count": 23,
   "id": "5266b3e0",
   "metadata": {},
   "outputs": [
    {
     "data": {
      "text/plain": [
       "Rome         9027\n",
       "Paris        6688\n",
       "Lisbon       5763\n",
       "Athens       5280\n",
       "Budapest     4022\n",
       "Vienna       3537\n",
       "Barcelona    2833\n",
       "Berlin       2484\n",
       "Amsterdam    2080\n",
       "Name: City, dtype: int64"
      ]
     },
     "execution_count": 23,
     "metadata": {},
     "output_type": "execute_result"
    }
   ],
   "source": [
    "df_e['City'].value_counts()"
   ]
  },
  {
   "cell_type": "code",
   "execution_count": null,
   "id": "b51fe1aa",
   "metadata": {},
   "outputs": [],
   "source": []
  }
 ],
 "metadata": {
  "kernelspec": {
   "display_name": "Python 3 (ipykernel)",
   "language": "python",
   "name": "python3"
  },
  "language_info": {
   "codemirror_mode": {
    "name": "ipython",
    "version": 3
   },
   "file_extension": ".py",
   "mimetype": "text/x-python",
   "name": "python",
   "nbconvert_exporter": "python",
   "pygments_lexer": "ipython3",
   "version": "3.10.6"
  },
  "toc": {
   "base_numbering": 1,
   "nav_menu": {},
   "number_sections": true,
   "sideBar": true,
   "skip_h1_title": true,
   "title_cell": "Table of Contents",
   "title_sidebar": "Contents",
   "toc_cell": false,
   "toc_position": {},
   "toc_section_display": true,
   "toc_window_display": true
  }
 },
 "nbformat": 4,
 "nbformat_minor": 5
}
