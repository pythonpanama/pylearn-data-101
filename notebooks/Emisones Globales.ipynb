{
 "cells": [
  {
   "cell_type": "markdown",
   "id": "2c67abd2",
   "metadata": {},
   "source": [
    "# Emisiones globales\n"
   ]
  },
  {
   "cell_type": "code",
   "execution_count": 1,
   "id": "0f4dbb58",
   "metadata": {},
   "outputs": [],
   "source": [
    "from pathlib import Path\n",
    "\n",
    "import csv\n",
    "import time\n",
    "import re\n",
    "\n",
    "import matplotlib.pyplot as plt\n",
    "\n",
    "import numpy as np\n",
    "import pandas as pd\n",
    "from tqdm import tqdm\n",
    "import seaborn as sns\n",
    "\n",
    "\n",
    "%matplotlib inline"
   ]
  },
  {
   "cell_type": "markdown",
   "id": "7ac0752e",
   "metadata": {},
   "source": [
    "## Configuración\n",
    " \n",
    "El dataset  https://www.kaggle.com/datasets/ashishraut64/global-methane-emissions\n",
    "\n"
   ]
  },
  {
   "cell_type": "code",
   "execution_count": 2,
   "id": "7f536aba",
   "metadata": {},
   "outputs": [],
   "source": [
    "data_folder = Path().cwd().parent / 'data'\n",
    "\n",
    "work_folder =  data_folder / 'global_emissions' \n",
    "\n",
    "csv_file = work_folder / 'Methane_final.csv'"
   ]
  },
  {
   "cell_type": "markdown",
   "id": "0d54efa7",
   "metadata": {},
   "source": [
    "## Carga de datos\n",
    "\n",
    "El csv contiene el indice asi que usamos `index_col` para no incluirlo."
   ]
  },
  {
   "cell_type": "code",
   "execution_count": 3,
   "id": "c0fb0eda",
   "metadata": {},
   "outputs": [
    {
     "name": "stdout",
     "output_type": "stream",
     "text": [
      "Filas: 1,548 columnas: 8\n"
     ]
    }
   ],
   "source": [
    "df = pd.read_csv(csv_file, index_col=[0])\n",
    "\n",
    "print(f'Filas: {df.shape[0]:,} columnas: {df.shape[1]}')"
   ]
  },
  {
   "cell_type": "markdown",
   "id": "e41c7cd4",
   "metadata": {},
   "source": [
    "## Funciones"
   ]
  },
  {
   "cell_type": "code",
   "execution_count": 4,
   "id": "55cf19b5",
   "metadata": {},
   "outputs": [],
   "source": [
    "def print_memory(dfm):\n",
    "    memory_usage = dfm.memory_usage(deep=True)\n",
    "    print(\"--- Memory consumption ---\")\n",
    "    print(memory_usage, end=\"\\n\\n\")\n",
    "    print(f'{memory_usage.sum()/1024/1024:,.2f} MB')"
   ]
  },
  {
   "cell_type": "markdown",
   "id": "3e4d0a48",
   "metadata": {},
   "source": [
    "## EDA\n",
    "\n",
    "### Descripcion de los datos"
   ]
  },
  {
   "cell_type": "code",
   "execution_count": 5,
   "id": "0cee997a",
   "metadata": {},
   "outputs": [
    {
     "name": "stdout",
     "output_type": "stream",
     "text": [
      "<class 'pandas.core.frame.DataFrame'>\n",
      "Int64Index: 1548 entries, 0 to 1547\n",
      "Data columns (total 8 columns):\n",
      " #   Column     Non-Null Count  Dtype  \n",
      "---  ------     --------------  -----  \n",
      " 0   region     1548 non-null   object \n",
      " 1   country    1548 non-null   object \n",
      " 2   emissions  1548 non-null   float64\n",
      " 3   type       1548 non-null   object \n",
      " 4   segment    1548 non-null   object \n",
      " 5   reason     1548 non-null   object \n",
      " 6   baseYear   1548 non-null   object \n",
      " 7   notes      1548 non-null   object \n",
      "dtypes: float64(1), object(7)\n",
      "memory usage: 108.8+ KB\n"
     ]
    }
   ],
   "source": [
    "df.info()"
   ]
  },
  {
   "cell_type": "code",
   "execution_count": 6,
   "id": "c8ddc947",
   "metadata": {},
   "outputs": [
    {
     "name": "stdout",
     "output_type": "stream",
     "text": [
      "--- Memory consumption ---\n",
      "Index         12384\n",
      "region       104900\n",
      "country      101751\n",
      "emissions     12384\n",
      "type          97839\n",
      "segment      108362\n",
      "reason        95970\n",
      "baseYear      96003\n",
      "notes        585077\n",
      "dtype: int64\n",
      "\n",
      "1.16 MB\n"
     ]
    }
   ],
   "source": [
    "print_memory(df)"
   ]
  },
  {
   "cell_type": "markdown",
   "id": "c1abc746",
   "metadata": {},
   "source": [
    "### Renombrando las columnas\n",
    "\n",
    "Acostumbro usar columnas en snake case. La razon para eliminar los espacios es q se puede utilizar la notacion con punto. Por ejempl0 `df.guest_satisfaction`\n"
   ]
  },
  {
   "cell_type": "code",
   "execution_count": 7,
   "id": "638dd4c0",
   "metadata": {},
   "outputs": [
    {
     "name": "stdout",
     "output_type": "stream",
     "text": [
      "<class 'pandas.core.frame.DataFrame'>\n",
      "Int64Index: 1548 entries, 0 to 1547\n",
      "Data columns (total 8 columns):\n",
      " #   Column     Non-Null Count  Dtype  \n",
      "---  ------     --------------  -----  \n",
      " 0   region     1548 non-null   object \n",
      " 1   country    1548 non-null   object \n",
      " 2   emissions  1548 non-null   float64\n",
      " 3   type       1548 non-null   object \n",
      " 4   segment    1548 non-null   object \n",
      " 5   reason     1548 non-null   object \n",
      " 6   baseyear   1548 non-null   object \n",
      " 7   notes      1548 non-null   object \n",
      "dtypes: float64(1), object(7)\n",
      "memory usage: 108.8+ KB\n"
     ]
    }
   ],
   "source": [
    "col_renaming_dict = {}\n",
    "for col in df.columns:\n",
    "    val = col.lower().replace(\" \", \"_\").replace('(', '').replace(')', '')\n",
    "    col_renaming_dict[col] = val\n",
    "    # print(f'{col}: {val}')\n",
    "    \n",
    "df.rename(columns=col_renaming_dict, inplace=True)\n",
    "df.info()"
   ]
  },
  {
   "cell_type": "markdown",
   "id": "8f4c47ed",
   "metadata": {},
   "source": [
    "### Tamano del dataframe\n"
   ]
  },
  {
   "cell_type": "code",
   "execution_count": 8,
   "id": "8a1c010f",
   "metadata": {},
   "outputs": [
    {
     "name": "stdout",
     "output_type": "stream",
     "text": [
      "--- Memory consumption ---\n",
      "Index         12384\n",
      "region       104900\n",
      "country      101751\n",
      "emissions     12384\n",
      "type          97839\n",
      "segment      108362\n",
      "reason        95970\n",
      "baseyear      96003\n",
      "notes        585077\n",
      "dtype: int64\n",
      "\n",
      "1.16 MB\n"
     ]
    }
   ],
   "source": [
    "memory_usage = df.memory_usage(deep=True)\n",
    "print(\"--- Memory consumption ---\")\n",
    "print(memory_usage, end=\"\\n\\n\")\n",
    "print(f'{memory_usage.sum()/1024/1024:,.2f} MB')"
   ]
  },
  {
   "cell_type": "code",
   "execution_count": 9,
   "id": "ac813330",
   "metadata": {},
   "outputs": [
    {
     "data": {
      "text/html": [
       "<div>\n",
       "<style scoped>\n",
       "    .dataframe tbody tr th:only-of-type {\n",
       "        vertical-align: middle;\n",
       "    }\n",
       "\n",
       "    .dataframe tbody tr th {\n",
       "        vertical-align: top;\n",
       "    }\n",
       "\n",
       "    .dataframe thead th {\n",
       "        text-align: right;\n",
       "    }\n",
       "</style>\n",
       "<table border=\"1\" class=\"dataframe\">\n",
       "  <thead>\n",
       "    <tr style=\"text-align: right;\">\n",
       "      <th></th>\n",
       "      <th>emissions</th>\n",
       "    </tr>\n",
       "  </thead>\n",
       "  <tbody>\n",
       "    <tr>\n",
       "      <th>count</th>\n",
       "      <td>1548.000000</td>\n",
       "    </tr>\n",
       "    <tr>\n",
       "      <th>mean</th>\n",
       "      <td>643.255972</td>\n",
       "    </tr>\n",
       "    <tr>\n",
       "      <th>std</th>\n",
       "      <td>5566.238201</td>\n",
       "    </tr>\n",
       "    <tr>\n",
       "      <th>min</th>\n",
       "      <td>0.000459</td>\n",
       "    </tr>\n",
       "    <tr>\n",
       "      <th>25%</th>\n",
       "      <td>2.659361</td>\n",
       "    </tr>\n",
       "    <tr>\n",
       "      <th>50%</th>\n",
       "      <td>24.064669</td>\n",
       "    </tr>\n",
       "    <tr>\n",
       "      <th>75%</th>\n",
       "      <td>128.419594</td>\n",
       "    </tr>\n",
       "    <tr>\n",
       "      <th>max</th>\n",
       "      <td>141953.765625</td>\n",
       "    </tr>\n",
       "  </tbody>\n",
       "</table>\n",
       "</div>"
      ],
      "text/plain": [
       "           emissions\n",
       "count    1548.000000\n",
       "mean      643.255972\n",
       "std      5566.238201\n",
       "min         0.000459\n",
       "25%         2.659361\n",
       "50%        24.064669\n",
       "75%       128.419594\n",
       "max    141953.765625"
      ]
     },
     "execution_count": 9,
     "metadata": {},
     "output_type": "execute_result"
    }
   ],
   "source": [
    "df.describe()"
   ]
  },
  {
   "cell_type": "code",
   "execution_count": 10,
   "id": "6e18818f",
   "metadata": {},
   "outputs": [
    {
     "data": {
      "text/html": [
       "<div>\n",
       "<style scoped>\n",
       "    .dataframe tbody tr th:only-of-type {\n",
       "        vertical-align: middle;\n",
       "    }\n",
       "\n",
       "    .dataframe tbody tr th {\n",
       "        vertical-align: top;\n",
       "    }\n",
       "\n",
       "    .dataframe thead th {\n",
       "        text-align: right;\n",
       "    }\n",
       "</style>\n",
       "<table border=\"1\" class=\"dataframe\">\n",
       "  <thead>\n",
       "    <tr style=\"text-align: right;\">\n",
       "      <th></th>\n",
       "      <th>region</th>\n",
       "      <th>country</th>\n",
       "      <th>emissions</th>\n",
       "      <th>type</th>\n",
       "      <th>segment</th>\n",
       "      <th>reason</th>\n",
       "      <th>baseyear</th>\n",
       "      <th>notes</th>\n",
       "    </tr>\n",
       "  </thead>\n",
       "  <tbody>\n",
       "    <tr>\n",
       "      <th>0</th>\n",
       "      <td>Africa</td>\n",
       "      <td>Algeria</td>\n",
       "      <td>257.611206</td>\n",
       "      <td>Agriculture</td>\n",
       "      <td>Total</td>\n",
       "      <td>All</td>\n",
       "      <td>2019-2021</td>\n",
       "      <td>Average based on United Nations Framework Conv...</td>\n",
       "    </tr>\n",
       "    <tr>\n",
       "      <th>1</th>\n",
       "      <td>Africa</td>\n",
       "      <td>Algeria</td>\n",
       "      <td>0.052000</td>\n",
       "      <td>Energy</td>\n",
       "      <td>Bioenergy</td>\n",
       "      <td>All</td>\n",
       "      <td>2022</td>\n",
       "      <td>Estimates from end-uses are for 2020 or 2021 (...</td>\n",
       "    </tr>\n",
       "    <tr>\n",
       "      <th>2</th>\n",
       "      <td>Africa</td>\n",
       "      <td>Algeria</td>\n",
       "      <td>130.798996</td>\n",
       "      <td>Energy</td>\n",
       "      <td>Gas pipelines and LNG facilities</td>\n",
       "      <td>Fugitive</td>\n",
       "      <td>2022</td>\n",
       "      <td>Not available</td>\n",
       "    </tr>\n",
       "    <tr>\n",
       "      <th>3</th>\n",
       "      <td>Africa</td>\n",
       "      <td>Algeria</td>\n",
       "      <td>69.741898</td>\n",
       "      <td>Energy</td>\n",
       "      <td>Gas pipelines and LNG facilities</td>\n",
       "      <td>Vented</td>\n",
       "      <td>2022</td>\n",
       "      <td>Not available</td>\n",
       "    </tr>\n",
       "    <tr>\n",
       "      <th>4</th>\n",
       "      <td>Africa</td>\n",
       "      <td>Algeria</td>\n",
       "      <td>213.987000</td>\n",
       "      <td>Energy</td>\n",
       "      <td>Onshore gas</td>\n",
       "      <td>Fugitive</td>\n",
       "      <td>2022</td>\n",
       "      <td>Not available</td>\n",
       "    </tr>\n",
       "  </tbody>\n",
       "</table>\n",
       "</div>"
      ],
      "text/plain": [
       "   region  country   emissions         type                           segment  \\\n",
       "0  Africa  Algeria  257.611206  Agriculture                             Total   \n",
       "1  Africa  Algeria    0.052000       Energy                         Bioenergy   \n",
       "2  Africa  Algeria  130.798996       Energy  Gas pipelines and LNG facilities   \n",
       "3  Africa  Algeria   69.741898       Energy  Gas pipelines and LNG facilities   \n",
       "4  Africa  Algeria  213.987000       Energy                       Onshore gas   \n",
       "\n",
       "     reason   baseyear                                              notes  \n",
       "0       All  2019-2021  Average based on United Nations Framework Conv...  \n",
       "1       All       2022  Estimates from end-uses are for 2020 or 2021 (...  \n",
       "2  Fugitive       2022                                      Not available  \n",
       "3    Vented       2022                                      Not available  \n",
       "4  Fugitive       2022                                      Not available  "
      ]
     },
     "execution_count": 10,
     "metadata": {},
     "output_type": "execute_result"
    }
   ],
   "source": [
    "df.head()"
   ]
  },
  {
   "cell_type": "markdown",
   "id": "a49d1d92",
   "metadata": {},
   "source": [
    "### Categorias"
   ]
  },
  {
   "cell_type": "markdown",
   "id": "69526229",
   "metadata": {},
   "source": [
    "#### Explorando categorias"
   ]
  },
  {
   "cell_type": "code",
   "execution_count": 11,
   "id": "37914467",
   "metadata": {},
   "outputs": [
    {
     "data": {
      "text/plain": [
       "Africa                       406\n",
       "Europe                       302\n",
       "Asia Pacific                 270\n",
       "Middle East                  187\n",
       "Central and South America    183\n",
       "Russia & Caspian              96\n",
       "North America                 61\n",
       "World                         22\n",
       "Other                         21\n",
       "Name: region, dtype: int64"
      ]
     },
     "execution_count": 11,
     "metadata": {},
     "output_type": "execute_result"
    }
   ],
   "source": [
    "df['region'].value_counts()"
   ]
  },
  {
   "cell_type": "code",
   "execution_count": 12,
   "id": "6b69d024",
   "metadata": {},
   "outputs": [
    {
     "data": {
      "text/plain": [
       "World                       22\n",
       "Iran                        22\n",
       "European Union              22\n",
       "Russia                      22\n",
       "Kazakhstan                  22\n",
       "                            ..\n",
       "Central African Republic     3\n",
       "Liberia                      3\n",
       "Sierra Leone                 3\n",
       "Seychelles                   3\n",
       "Gambia                       3\n",
       "Name: country, Length: 105, dtype: int64"
      ]
     },
     "execution_count": 12,
     "metadata": {},
     "output_type": "execute_result"
    }
   ],
   "source": [
    "df['country'].value_counts()"
   ]
  },
  {
   "cell_type": "code",
   "execution_count": 13,
   "id": "1408eff0",
   "metadata": {},
   "outputs": [
    {
     "data": {
      "text/plain": [
       "Energy         1233\n",
       "Agriculture     105\n",
       "Other           105\n",
       "Waste           105\n",
       "Name: type, dtype: int64"
      ]
     },
     "execution_count": 13,
     "metadata": {},
     "output_type": "execute_result"
    }
   ],
   "source": [
    "df['type'].value_counts()"
   ]
  },
  {
   "cell_type": "code",
   "execution_count": 14,
   "id": "4b671428",
   "metadata": {},
   "outputs": [
    {
     "data": {
      "text/plain": [
       "Total                                             414\n",
       "Onshore oil                                       217\n",
       "Gas pipelines and LNG facilities                  164\n",
       "Offshore oil                                      159\n",
       "Onshore gas                                       144\n",
       "Offshore gas                                      118\n",
       "Other from oil and gas                             98\n",
       "Bioenergy                                          93\n",
       "Other from coal                                    66\n",
       "Steam coal                                         30\n",
       "Coking coal                                        24\n",
       "Satellite-detected large oil and gas emissions     21\n",
       "Name: segment, dtype: int64"
      ]
     },
     "execution_count": 14,
     "metadata": {},
     "output_type": "execute_result"
    }
   ],
   "source": [
    "df['segment'].value_counts()"
   ]
  },
  {
   "cell_type": "code",
   "execution_count": 15,
   "id": "810d0e19",
   "metadata": {},
   "outputs": [
    {
     "data": {
      "text/plain": [
       "2022         1233\n",
       "2019-2021     315\n",
       "Name: baseyear, dtype: int64"
      ]
     },
     "execution_count": 15,
     "metadata": {},
     "output_type": "execute_result"
    }
   ],
   "source": [
    "df['baseyear'].value_counts()"
   ]
  },
  {
   "cell_type": "markdown",
   "id": "f9083862",
   "metadata": {},
   "source": [
    "#### Convirtiendo columnas en datos categoricos"
   ]
  },
  {
   "cell_type": "code",
   "execution_count": 16,
   "id": "85837bef",
   "metadata": {},
   "outputs": [],
   "source": [
    "categorical_columns =['region', 'country', 'type', 'segment']\n",
    "for cat in categorical_columns:\n",
    "    df[cat] = df[cat].astype('category')"
   ]
  },
  {
   "cell_type": "code",
   "execution_count": 17,
   "id": "cd8d3bbc",
   "metadata": {},
   "outputs": [
    {
     "name": "stdout",
     "output_type": "stream",
     "text": [
      "--- Memory consumption ---\n",
      "Index         12384\n",
      "region         2460\n",
      "country       12608\n",
      "emissions     12384\n",
      "type           1975\n",
      "segment        2728\n",
      "reason        95970\n",
      "baseyear      96003\n",
      "notes        585077\n",
      "dtype: int64\n",
      "\n",
      "0.78 MB\n"
     ]
    }
   ],
   "source": [
    "print_memory(df)"
   ]
  },
  {
   "cell_type": "markdown",
   "id": "b7cfbdc7",
   "metadata": {},
   "source": [
    "### Descripcion de los datos numericos"
   ]
  },
  {
   "cell_type": "code",
   "execution_count": 18,
   "id": "51da0eb3",
   "metadata": {
    "scrolled": true
   },
   "outputs": [
    {
     "data": {
      "text/html": [
       "<div>\n",
       "<style scoped>\n",
       "    .dataframe tbody tr th:only-of-type {\n",
       "        vertical-align: middle;\n",
       "    }\n",
       "\n",
       "    .dataframe tbody tr th {\n",
       "        vertical-align: top;\n",
       "    }\n",
       "\n",
       "    .dataframe thead th {\n",
       "        text-align: right;\n",
       "    }\n",
       "</style>\n",
       "<table border=\"1\" class=\"dataframe\">\n",
       "  <thead>\n",
       "    <tr style=\"text-align: right;\">\n",
       "      <th></th>\n",
       "      <th>emissions</th>\n",
       "    </tr>\n",
       "  </thead>\n",
       "  <tbody>\n",
       "    <tr>\n",
       "      <th>count</th>\n",
       "      <td>1548.000000</td>\n",
       "    </tr>\n",
       "    <tr>\n",
       "      <th>mean</th>\n",
       "      <td>643.255972</td>\n",
       "    </tr>\n",
       "    <tr>\n",
       "      <th>std</th>\n",
       "      <td>5566.238201</td>\n",
       "    </tr>\n",
       "    <tr>\n",
       "      <th>min</th>\n",
       "      <td>0.000459</td>\n",
       "    </tr>\n",
       "    <tr>\n",
       "      <th>25%</th>\n",
       "      <td>2.659361</td>\n",
       "    </tr>\n",
       "    <tr>\n",
       "      <th>50%</th>\n",
       "      <td>24.064669</td>\n",
       "    </tr>\n",
       "    <tr>\n",
       "      <th>75%</th>\n",
       "      <td>128.419594</td>\n",
       "    </tr>\n",
       "    <tr>\n",
       "      <th>max</th>\n",
       "      <td>141953.765625</td>\n",
       "    </tr>\n",
       "  </tbody>\n",
       "</table>\n",
       "</div>"
      ],
      "text/plain": [
       "           emissions\n",
       "count    1548.000000\n",
       "mean      643.255972\n",
       "std      5566.238201\n",
       "min         0.000459\n",
       "25%         2.659361\n",
       "50%        24.064669\n",
       "75%       128.419594\n",
       "max    141953.765625"
      ]
     },
     "execution_count": 18,
     "metadata": {},
     "output_type": "execute_result"
    }
   ],
   "source": [
    "df.describe()"
   ]
  },
  {
   "cell_type": "markdown",
   "id": "67e5a23e",
   "metadata": {},
   "source": [
    "#### Box plots"
   ]
  },
  {
   "cell_type": "code",
   "execution_count": 19,
   "id": "4d4fcbf7",
   "metadata": {
    "scrolled": true
   },
   "outputs": [
    {
     "data": {
      "text/plain": [
       "<Axes: >"
      ]
     },
     "execution_count": 19,
     "metadata": {},
     "output_type": "execute_result"
    },
    {
     "data": {
      "image/png": "[encoded data removed]",
      "text/plain": [
       "<Figure size 640x480 with 1 Axes>"
      ]
     },
     "metadata": {},
     "output_type": "display_data"
    }
   ],
   "source": [
    "df.boxplot(column='emissions')"
   ]
  },
  {
   "cell_type": "code",
   "execution_count": 20,
   "id": "af22ed94",
   "metadata": {},
   "outputs": [
    {
     "data": {
      "image/png": "[encoded data removed]",
      "text/plain": [
       "<Figure size 640x480 with 1 Axes>"
      ]
     },
     "metadata": {},
     "output_type": "display_data"
    }
   ],
   "source": [
    "sns.boxplot(x=\"region\", y=\"emissions\", data=df)\n",
    "\n",
    "plt.show()"
   ]
  },
  {
   "cell_type": "markdown",
   "id": "a8c53efa",
   "metadata": {},
   "source": [
    "### Matriz de Correlación"
   ]
  },
  {
   "cell_type": "code",
   "execution_count": 21,
   "id": "baac0de8",
   "metadata": {},
   "outputs": [
    {
     "name": "stderr",
     "output_type": "stream",
     "text": [
      "/tmp/ipykernel_475952/2331704588.py:1: FutureWarning: The default value of numeric_only in DataFrame.corr is deprecated. In a future version, it will default to False. Select only valid columns or specify the value of numeric_only to silence this warning.\n",
      "  corr = df.corr()\n"
     ]
    },
    {
     "data": {
      "text/html": [
       "<style type=\"text/css\">\n",
       "#T_7cb45_row0_col0 {\n",
       "  background-color: #3b4cc0;\n",
       "  color: #f1f1f1;\n",
       "}\n",
       "</style>\n",
       "<table id=\"T_7cb45\">\n",
       "  <thead>\n",
       "    <tr>\n",
       "      <th class=\"blank level0\" >&nbsp;</th>\n",
       "      <th id=\"T_7cb45_level0_col0\" class=\"col_heading level0 col0\" >emissions</th>\n",
       "    </tr>\n",
       "  </thead>\n",
       "  <tbody>\n",
       "    <tr>\n",
       "      <th id=\"T_7cb45_level0_row0\" class=\"row_heading level0 row0\" >emissions</th>\n",
       "      <td id=\"T_7cb45_row0_col0\" class=\"data row0 col0\" >1.000000</td>\n",
       "    </tr>\n",
       "  </tbody>\n",
       "</table>\n"
      ],
      "text/plain": [
       "<pandas.io.formats.style.Styler at 0x7f95d2c1f7f0>"
      ]
     },
     "execution_count": 21,
     "metadata": {},
     "output_type": "execute_result"
    }
   ],
   "source": [
    "corr = df.corr()\n",
    "corr.style.background_gradient(cmap='coolwarm')\n"
   ]
  },
  {
   "cell_type": "code",
   "execution_count": 22,
   "id": "45419978",
   "metadata": {},
   "outputs": [
    {
     "data": {
      "text/plain": [
       "<matplotlib.collections.PathCollection at 0x7f95d4db7b50>"
      ]
     },
     "execution_count": 22,
     "metadata": {},
     "output_type": "execute_result"
    },
    {
     "data": {
      "image/png": "[encoded data removed]",
      "text/plain": [
       "<Figure size 640x480 with 1 Axes>"
      ]
     },
     "metadata": {},
     "output_type": "display_data"
    }
   ],
   "source": [
    "plt.scatter(df['country'], df['emissions'])"
   ]
  },
  {
   "cell_type": "markdown",
   "id": "d43da070",
   "metadata": {},
   "source": [
    "### Histrogramas"
   ]
  },
  {
   "cell_type": "code",
   "execution_count": 23,
   "id": "368cceed",
   "metadata": {},
   "outputs": [
    {
     "data": {
      "image/png": "[encoded data removed]",
      "text/plain": [
       "<Figure size 1500x1000 with 1 Axes>"
      ]
     },
     "metadata": {},
     "output_type": "display_data"
    }
   ],
   "source": [
    "df.hist(bins=150, figsize=(15, 10))\n",
    "plt.show()"
   ]
  },
  {
   "cell_type": "markdown",
   "id": "d46c3abf",
   "metadata": {},
   "source": [
    "## Guardando el dataframe\n"
   ]
  },
  {
   "cell_type": "code",
   "execution_count": 29,
   "id": "1c61bebe",
   "metadata": {},
   "outputs": [
    {
     "name": "stdout",
     "output_type": "stream",
     "text": [
      "35970\n"
     ]
    }
   ],
   "source": [
    "parquet_file = data_folder / f'{csv_file.stem}.parquet'\n",
    "df.to_parquet(parquet_file)\n",
    "\n",
    "print(parquet_file.stat().st_size)\n",
    "\n"
   ]
  },
  {
   "cell_type": "code",
   "execution_count": 30,
   "id": "cec53b81",
   "metadata": {},
   "outputs": [
    {
     "name": "stdout",
     "output_type": "stream",
     "text": [
      "<class 'pandas.core.frame.DataFrame'>\n",
      "Int64Index: 1548 entries, 0 to 1547\n",
      "Data columns (total 8 columns):\n",
      " #   Column     Non-Null Count  Dtype   \n",
      "---  ------     --------------  -----   \n",
      " 0   region     1548 non-null   category\n",
      " 1   country    1548 non-null   category\n",
      " 2   emissions  1548 non-null   float64 \n",
      " 3   type       1548 non-null   category\n",
      " 4   segment    1548 non-null   category\n",
      " 5   reason     1548 non-null   object  \n",
      " 6   baseyear   1548 non-null   object  \n",
      " 7   notes      1548 non-null   object  \n",
      "dtypes: category(4), float64(1), object(3)\n",
      "memory usage: 72.4+ KB\n"
     ]
    }
   ],
   "source": [
    "dfp = pd.read_parquet(parquet_file)\n",
    "\n",
    "dfp.info()"
   ]
  },
  {
   "cell_type": "code",
   "execution_count": null,
   "id": "756a2296",
   "metadata": {},
   "outputs": [],
   "source": []
  }
 ],
 "metadata": {
  "kernelspec": {
   "display_name": "Python 3 (ipykernel)",
   "language": "python",
   "name": "python3"
  },
  "language_info": {
   "codemirror_mode": {
    "name": "ipython",
    "version": 3
   },
   "file_extension": ".py",
   "mimetype": "text/x-python",
   "name": "python",
   "nbconvert_exporter": "python",
   "pygments_lexer": "ipython3",
   "version": "3.10.6"
  },
  "toc": {
   "base_numbering": 1,
   "nav_menu": {},
   "number_sections": true,
   "sideBar": true,
   "skip_h1_title": true,
   "title_cell": "Table of Contents",
   "title_sidebar": "Contents",
   "toc_cell": false,
   "toc_position": {},
   "toc_section_display": true,
   "toc_window_display": true
  }
 },
 "nbformat": 4,
 "nbformat_minor": 5
}
