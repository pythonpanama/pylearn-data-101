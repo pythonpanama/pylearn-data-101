{
 "cells": [
  {
   "cell_type": "markdown",
   "id": "97e19b79",
   "metadata": {},
   "source": [
    "# USA Real Estate\n",
    "\n",
    "\n",
    "Fuente: https://www.kaggle.com/datasets/ahmedshahriarsakib/usa-real-estate-dataset\n"
   ]
  },
  {
   "cell_type": "code",
   "execution_count": 27,
   "id": "1323e7c7",
   "metadata": {},
   "outputs": [],
   "source": [
    "from pathlib import Path\n",
    "import json\n",
    "import csv\n",
    "import time\n",
    "import re\n",
    "\n",
    "import matplotlib.pyplot as plt\n",
    "\n",
    "import numpy as np\n",
    "import pandas as pd\n",
    "from tqdm import tqdm\n",
    "import seaborn as sns\n",
    "\n",
    "\n",
    "%matplotlib inline"
   ]
  },
  {
   "cell_type": "markdown",
   "id": "552fe04d",
   "metadata": {},
   "source": [
    "## Configuración"
   ]
  },
  {
   "cell_type": "code",
   "execution_count": 28,
   "id": "2c203d84",
   "metadata": {},
   "outputs": [
    {
     "name": "stdout",
     "output_type": "stream",
     "text": [
      "Folder /home/luiscberrocal/PycharmProjects/pylearn-data-101/data/house_pricing existe: True\n"
     ]
    }
   ],
   "source": [
    "data_folder = Path().cwd().parent / 'data' / 'house_pricing'\n",
    "\n",
    "csv_file = data_folder / 'realtor-data.csv'\n",
    "\n",
    "print(f'Folder {data_folder} existe: {data_folder.exists()}')"
   ]
  },
  {
   "cell_type": "markdown",
   "id": "aa268510",
   "metadata": {},
   "source": [
    "## Carga de datos"
   ]
  },
  {
   "cell_type": "code",
   "execution_count": 29,
   "id": "aed7bb4f",
   "metadata": {},
   "outputs": [
    {
     "data": {
      "text/html": [
       "<div>\n",
       "<style scoped>\n",
       "    .dataframe tbody tr th:only-of-type {\n",
       "        vertical-align: middle;\n",
       "    }\n",
       "\n",
       "    .dataframe tbody tr th {\n",
       "        vertical-align: top;\n",
       "    }\n",
       "\n",
       "    .dataframe thead th {\n",
       "        text-align: right;\n",
       "    }\n",
       "</style>\n",
       "<table border=\"1\" class=\"dataframe\">\n",
       "  <thead>\n",
       "    <tr style=\"text-align: right;\">\n",
       "      <th></th>\n",
       "      <th>status</th>\n",
       "      <th>price</th>\n",
       "      <th>bed</th>\n",
       "      <th>bath</th>\n",
       "      <th>acre_lot</th>\n",
       "      <th>full_address</th>\n",
       "      <th>street</th>\n",
       "      <th>city</th>\n",
       "      <th>state</th>\n",
       "      <th>zip_code</th>\n",
       "      <th>house_size</th>\n",
       "      <th>sold_date</th>\n",
       "    </tr>\n",
       "  </thead>\n",
       "  <tbody>\n",
       "    <tr>\n",
       "      <th>0</th>\n",
       "      <td>for_sale</td>\n",
       "      <td>105000.0</td>\n",
       "      <td>3.0</td>\n",
       "      <td>2.0</td>\n",
       "      <td>0.12</td>\n",
       "      <td>Sector Yahuecas Titulo # V84, Adjuntas, PR, 00601</td>\n",
       "      <td>Sector Yahuecas Titulo # V84</td>\n",
       "      <td>Adjuntas</td>\n",
       "      <td>Puerto Rico</td>\n",
       "      <td>601.0</td>\n",
       "      <td>920.0</td>\n",
       "      <td>&lt;NA&gt;</td>\n",
       "    </tr>\n",
       "    <tr>\n",
       "      <th>1</th>\n",
       "      <td>for_sale</td>\n",
       "      <td>80000.0</td>\n",
       "      <td>4.0</td>\n",
       "      <td>2.0</td>\n",
       "      <td>0.08</td>\n",
       "      <td>Km 78 9 Carr # 135, Adjuntas, PR, 00601</td>\n",
       "      <td>Km 78 9 Carr # 135</td>\n",
       "      <td>Adjuntas</td>\n",
       "      <td>Puerto Rico</td>\n",
       "      <td>601.0</td>\n",
       "      <td>1527.0</td>\n",
       "      <td>&lt;NA&gt;</td>\n",
       "    </tr>\n",
       "    <tr>\n",
       "      <th>2</th>\n",
       "      <td>for_sale</td>\n",
       "      <td>67000.0</td>\n",
       "      <td>2.0</td>\n",
       "      <td>1.0</td>\n",
       "      <td>0.15</td>\n",
       "      <td>556G 556-G 16 St, Juana Diaz, PR, 00795</td>\n",
       "      <td>556G 556-G 16 St</td>\n",
       "      <td>Juana Diaz</td>\n",
       "      <td>Puerto Rico</td>\n",
       "      <td>795.0</td>\n",
       "      <td>748.0</td>\n",
       "      <td>&lt;NA&gt;</td>\n",
       "    </tr>\n",
       "    <tr>\n",
       "      <th>3</th>\n",
       "      <td>for_sale</td>\n",
       "      <td>145000.0</td>\n",
       "      <td>4.0</td>\n",
       "      <td>2.0</td>\n",
       "      <td>0.10</td>\n",
       "      <td>R5 Comunidad El Paraso Calle De Oro R-5 Ponce,...</td>\n",
       "      <td>R5 Comunidad El Paraso Calle De Oro R-5 Ponce</td>\n",
       "      <td>Ponce</td>\n",
       "      <td>Puerto Rico</td>\n",
       "      <td>731.0</td>\n",
       "      <td>1800.0</td>\n",
       "      <td>&lt;NA&gt;</td>\n",
       "    </tr>\n",
       "    <tr>\n",
       "      <th>4</th>\n",
       "      <td>for_sale</td>\n",
       "      <td>65000.0</td>\n",
       "      <td>6.0</td>\n",
       "      <td>2.0</td>\n",
       "      <td>0.05</td>\n",
       "      <td>14 Navarro, Mayaguez, PR, 00680</td>\n",
       "      <td>14 Navarro</td>\n",
       "      <td>Mayaguez</td>\n",
       "      <td>Puerto Rico</td>\n",
       "      <td>680.0</td>\n",
       "      <td>&lt;NA&gt;</td>\n",
       "      <td>&lt;NA&gt;</td>\n",
       "    </tr>\n",
       "  </tbody>\n",
       "</table>\n",
       "</div>"
      ],
      "text/plain": [
       "     status     price  bed  bath  acre_lot  \\\n",
       "0  for_sale  105000.0  3.0   2.0      0.12   \n",
       "1  for_sale   80000.0  4.0   2.0      0.08   \n",
       "2  for_sale   67000.0  2.0   1.0      0.15   \n",
       "3  for_sale  145000.0  4.0   2.0      0.10   \n",
       "4  for_sale   65000.0  6.0   2.0      0.05   \n",
       "\n",
       "                                        full_address  \\\n",
       "0  Sector Yahuecas Titulo # V84, Adjuntas, PR, 00601   \n",
       "1            Km 78 9 Carr # 135, Adjuntas, PR, 00601   \n",
       "2            556G 556-G 16 St, Juana Diaz, PR, 00795   \n",
       "3  R5 Comunidad El Paraso Calle De Oro R-5 Ponce,...   \n",
       "4                    14 Navarro, Mayaguez, PR, 00680   \n",
       "\n",
       "                                          street        city        state  \\\n",
       "0                   Sector Yahuecas Titulo # V84    Adjuntas  Puerto Rico   \n",
       "1                             Km 78 9 Carr # 135    Adjuntas  Puerto Rico   \n",
       "2                               556G 556-G 16 St  Juana Diaz  Puerto Rico   \n",
       "3  R5 Comunidad El Paraso Calle De Oro R-5 Ponce       Ponce  Puerto Rico   \n",
       "4                                     14 Navarro    Mayaguez  Puerto Rico   \n",
       "\n",
       "   zip_code  house_size sold_date  \n",
       "0     601.0       920.0      <NA>  \n",
       "1     601.0      1527.0      <NA>  \n",
       "2     795.0       748.0      <NA>  \n",
       "3     731.0      1800.0      <NA>  \n",
       "4     680.0        <NA>      <NA>  "
      ]
     },
     "execution_count": 29,
     "metadata": {},
     "output_type": "execute_result"
    }
   ],
   "source": [
    "# %timeit df = pd.read_csv(csv_file)\n",
    "df = pd.read_csv(csv_file, engine='pyarrow', dtype_backend='pyarrow')\n",
    "df.head()"
   ]
  },
  {
   "cell_type": "markdown",
   "id": "2b2d16d6",
   "metadata": {},
   "source": [
    "### Shape\n",
    "\n",
    "Filas y columnas"
   ]
  },
  {
   "cell_type": "code",
   "execution_count": 30,
   "id": "a7018819",
   "metadata": {},
   "outputs": [
    {
     "name": "stdout",
     "output_type": "stream",
     "text": [
      "Filas 733159 Columnas: 12\n"
     ]
    }
   ],
   "source": [
    "print(f'Filas {df.shape[0]} Columnas: {df.shape[1]}')"
   ]
  },
  {
   "cell_type": "markdown",
   "id": "714e779c",
   "metadata": {},
   "source": [
    "### Info\n",
    "\n",
    "Nombre y tipo de columnas"
   ]
  },
  {
   "cell_type": "code",
   "execution_count": 31,
   "id": "ad690114",
   "metadata": {},
   "outputs": [
    {
     "name": "stdout",
     "output_type": "stream",
     "text": [
      "<class 'pandas.core.frame.DataFrame'>\n",
      "RangeIndex: 733159 entries, 0 to 733158\n",
      "Data columns (total 12 columns):\n",
      " #   Column        Non-Null Count   Dtype               \n",
      "---  ------        --------------   -----               \n",
      " 0   status        733159 non-null  string[pyarrow]     \n",
      " 1   price         733088 non-null  double[pyarrow]     \n",
      " 2   bed           617177 non-null  double[pyarrow]     \n",
      " 3   bath          621407 non-null  double[pyarrow]     \n",
      " 4   acre_lot      572378 non-null  double[pyarrow]     \n",
      " 5   full_address  733159 non-null  string[pyarrow]     \n",
      " 6   street        733159 non-null  string[pyarrow]     \n",
      " 7   city          733159 non-null  string[pyarrow]     \n",
      " 8   state         733159 non-null  string[pyarrow]     \n",
      " 9   zip_code      732957 non-null  double[pyarrow]     \n",
      " 10  house_size    520772 non-null  double[pyarrow]     \n",
      " 11  sold_date     347237 non-null  date32[day][pyarrow]\n",
      "dtypes: date32[day][pyarrow](1), double[pyarrow](6), string[pyarrow](5)\n",
      "memory usage: 108.5 MB\n"
     ]
    }
   ],
   "source": [
    "df.info()"
   ]
  },
  {
   "cell_type": "markdown",
   "id": "fd970a1a",
   "metadata": {},
   "source": [
    "### Describe\n"
   ]
  },
  {
   "cell_type": "code",
   "execution_count": 32,
   "id": "f19e3e0f",
   "metadata": {},
   "outputs": [
    {
     "data": {
      "text/html": [
       "<div>\n",
       "<style scoped>\n",
       "    .dataframe tbody tr th:only-of-type {\n",
       "        vertical-align: middle;\n",
       "    }\n",
       "\n",
       "    .dataframe tbody tr th {\n",
       "        vertical-align: top;\n",
       "    }\n",
       "\n",
       "    .dataframe thead th {\n",
       "        text-align: right;\n",
       "    }\n",
       "</style>\n",
       "<table border=\"1\" class=\"dataframe\">\n",
       "  <thead>\n",
       "    <tr style=\"text-align: right;\">\n",
       "      <th></th>\n",
       "      <th>price</th>\n",
       "      <th>bed</th>\n",
       "      <th>bath</th>\n",
       "      <th>acre_lot</th>\n",
       "      <th>zip_code</th>\n",
       "      <th>house_size</th>\n",
       "      <th>sold_date</th>\n",
       "    </tr>\n",
       "  </thead>\n",
       "  <tbody>\n",
       "    <tr>\n",
       "      <th>count</th>\n",
       "      <td>7.330880e+05</td>\n",
       "      <td>617177.000000</td>\n",
       "      <td>621407.000000</td>\n",
       "      <td>572378.000000</td>\n",
       "      <td>732957.000000</td>\n",
       "      <td>5.207720e+05</td>\n",
       "      <td>347237</td>\n",
       "    </tr>\n",
       "    <tr>\n",
       "      <th>mean</th>\n",
       "      <td>7.257017e+05</td>\n",
       "      <td>3.422041</td>\n",
       "      <td>2.540473</td>\n",
       "      <td>19.058585</td>\n",
       "      <td>5736.101623</td>\n",
       "      <td>2.192527e+03</td>\n",
       "      <td>2008-11-08</td>\n",
       "    </tr>\n",
       "    <tr>\n",
       "      <th>min</th>\n",
       "      <td>0.000000e+00</td>\n",
       "      <td>1.000000</td>\n",
       "      <td>1.000000</td>\n",
       "      <td>0.000000</td>\n",
       "      <td>601.000000</td>\n",
       "      <td>1.000000e+02</td>\n",
       "      <td>1901-01-01</td>\n",
       "    </tr>\n",
       "    <tr>\n",
       "      <th>25%</th>\n",
       "      <td>2.375000e+05</td>\n",
       "      <td>2.000000</td>\n",
       "      <td>2.000000</td>\n",
       "      <td>0.140000</td>\n",
       "      <td>2492.000000</td>\n",
       "      <td>1.195000e+03</td>\n",
       "      <td>2002-08-26</td>\n",
       "    </tr>\n",
       "    <tr>\n",
       "      <th>50%</th>\n",
       "      <td>4.190000e+05</td>\n",
       "      <td>3.000000</td>\n",
       "      <td>2.000000</td>\n",
       "      <td>0.350000</td>\n",
       "      <td>6001.000000</td>\n",
       "      <td>1.714000e+03</td>\n",
       "      <td>2009-07-22</td>\n",
       "    </tr>\n",
       "    <tr>\n",
       "      <th>75%</th>\n",
       "      <td>7.250000e+05</td>\n",
       "      <td>4.000000</td>\n",
       "      <td>3.000000</td>\n",
       "      <td>1.380000</td>\n",
       "      <td>7928.000000</td>\n",
       "      <td>2.547250e+03</td>\n",
       "      <td>2017-10-12</td>\n",
       "    </tr>\n",
       "    <tr>\n",
       "      <th>max</th>\n",
       "      <td>8.750000e+08</td>\n",
       "      <td>123.000000</td>\n",
       "      <td>198.000000</td>\n",
       "      <td>100000.000000</td>\n",
       "      <td>99999.000000</td>\n",
       "      <td>1.450112e+06</td>\n",
       "      <td>2023-03-01</td>\n",
       "    </tr>\n",
       "    <tr>\n",
       "      <th>std</th>\n",
       "      <td>1.768769e+06</td>\n",
       "      <td>2.028735</td>\n",
       "      <td>2.002442</td>\n",
       "      <td>1022.007111</td>\n",
       "      <td>3764.935565</td>\n",
       "      <td>3.141461e+03</td>\n",
       "      <td>NaN</td>\n",
       "    </tr>\n",
       "  </tbody>\n",
       "</table>\n",
       "</div>"
      ],
      "text/plain": [
       "              price            bed           bath       acre_lot  \\\n",
       "count  7.330880e+05  617177.000000  621407.000000  572378.000000   \n",
       "mean   7.257017e+05       3.422041       2.540473      19.058585   \n",
       "min    0.000000e+00       1.000000       1.000000       0.000000   \n",
       "25%    2.375000e+05       2.000000       2.000000       0.140000   \n",
       "50%    4.190000e+05       3.000000       2.000000       0.350000   \n",
       "75%    7.250000e+05       4.000000       3.000000       1.380000   \n",
       "max    8.750000e+08     123.000000     198.000000  100000.000000   \n",
       "std    1.768769e+06       2.028735       2.002442    1022.007111   \n",
       "\n",
       "            zip_code    house_size   sold_date  \n",
       "count  732957.000000  5.207720e+05      347237  \n",
       "mean     5736.101623  2.192527e+03  2008-11-08  \n",
       "min       601.000000  1.000000e+02  1901-01-01  \n",
       "25%      2492.000000  1.195000e+03  2002-08-26  \n",
       "50%      6001.000000  1.714000e+03  2009-07-22  \n",
       "75%      7928.000000  2.547250e+03  2017-10-12  \n",
       "max     99999.000000  1.450112e+06  2023-03-01  \n",
       "std      3764.935565  3.141461e+03         NaN  "
      ]
     },
     "execution_count": 32,
     "metadata": {},
     "output_type": "execute_result"
    }
   ],
   "source": [
    "df.describe()"
   ]
  },
  {
   "cell_type": "code",
   "execution_count": 33,
   "id": "890dbca4",
   "metadata": {},
   "outputs": [
    {
     "data": {
      "text/plain": [
       "state\n",
       "New Jersey        191280\n",
       "Massachusetts     175248\n",
       "Connecticut        89776\n",
       "New York           66088\n",
       "New Hampshire      51394\n",
       "Vermont            46460\n",
       "Maine              36650\n",
       "Rhode Island       29596\n",
       "Puerto Rico        24679\n",
       "Pennsylvania       17148\n",
       "Virgin Islands      2573\n",
       "Delaware            2135\n",
       "Georgia               50\n",
       "Virginia              31\n",
       "South Carolina        25\n",
       "Tennessee             20\n",
       "Wyoming                3\n",
       "West Virginia          3\n",
       "Name: count, dtype: int64[pyarrow]"
      ]
     },
     "execution_count": 33,
     "metadata": {},
     "output_type": "execute_result"
    }
   ],
   "source": [
    "df['state'].value_counts()"
   ]
  },
  {
   "cell_type": "markdown",
   "id": "868816f8",
   "metadata": {},
   "source": [
    "## Limpieza de datos"
   ]
  },
  {
   "cell_type": "markdown",
   "id": "90303f5b",
   "metadata": {},
   "source": [
    "### Renombrar columnas"
   ]
  },
  {
   "cell_type": "code",
   "execution_count": 35,
   "id": "9634a78a",
   "metadata": {},
   "outputs": [],
   "source": [
    "create_column_dict = True\n",
    "\n",
    "if create_column_dict:\n",
    "    column_dict = {}\n",
    "    for col in df.columns:\n",
    "        column_dict[col] = col\n",
    "    column_mapping_file = data_folder / 'column_mapping.json'\n",
    "    with open(column_mapping_file, 'w') as f:\n",
    "        json.dump(column_dict, f)"
   ]
  },
  {
   "cell_type": "code",
   "execution_count": 36,
   "id": "1f81a117",
   "metadata": {},
   "outputs": [],
   "source": [
    "column_dict = {\n",
    "  \"acre_lot\": \"Lot area (acres)\",\n",
    "  \"full_address\": \"Full Address\",\n",
    "  \"state\": \"estate\",\n",
    "  \"zip_code\": \"Zip code\",\n",
    "  \"house_size\": \"House size (square feet)\",\n",
    "}"
   ]
  },
  {
   "cell_type": "code",
   "execution_count": 39,
   "id": "a8f4ce40",
   "metadata": {},
   "outputs": [],
   "source": [
    "df = df.rename(columns=column_dict)"
   ]
  },
  {
   "cell_type": "code",
   "execution_count": 40,
   "id": "4a785338",
   "metadata": {},
   "outputs": [
    {
     "name": "stdout",
     "output_type": "stream",
     "text": [
      "<class 'pandas.core.frame.DataFrame'>\n",
      "Index: 733159 entries, 0 to 733158\n",
      "Data columns (total 12 columns):\n",
      " #   Column                    Non-Null Count   Dtype               \n",
      "---  ------                    --------------   -----               \n",
      " 0   status                    733159 non-null  string[pyarrow]     \n",
      " 1   price                     733088 non-null  double[pyarrow]     \n",
      " 2   bed                       617177 non-null  double[pyarrow]     \n",
      " 3   bath                      621407 non-null  double[pyarrow]     \n",
      " 4   Lot area (acres)          572378 non-null  double[pyarrow]     \n",
      " 5   Full Address              733159 non-null  string[pyarrow]     \n",
      " 6   street                    733159 non-null  string[pyarrow]     \n",
      " 7   city                      733159 non-null  string[pyarrow]     \n",
      " 8   estate                    733159 non-null  string[pyarrow]     \n",
      " 9   Zip code                  732957 non-null  double[pyarrow]     \n",
      " 10  House size (square feet)  520772 non-null  double[pyarrow]     \n",
      " 11  sold_date                 347237 non-null  date32[day][pyarrow]\n",
      "dtypes: date32[day][pyarrow](1), double[pyarrow](6), string[pyarrow](5)\n",
      "memory usage: 114.1 MB\n"
     ]
    }
   ],
   "source": [
    "df.info()"
   ]
  },
  {
   "cell_type": "markdown",
   "id": "593a7112",
   "metadata": {},
   "source": [
    "### Using map to rename states"
   ]
  },
  {
   "cell_type": "code",
   "execution_count": 41,
   "id": "fdbde2fa",
   "metadata": {},
   "outputs": [
    {
     "name": "stdout",
     "output_type": "stream",
     "text": [
      "{'Alabama': 'AL', 'Alaska': 'AK', 'Arizona': 'AZ', 'Arkansas': 'AR', 'California': 'CA', 'Colorado': 'CO', 'Connecticut': 'CT', 'Delaware': 'DE', 'Florida': 'FL', 'Georgia': 'GA', 'Hawaii': 'HI', 'Idaho': 'ID', 'Illinois': 'IL', 'Indiana': 'IN', 'Iowa': 'IA', 'Kansas': 'KS', 'Kentucky': 'KY', 'Louisiana': 'LA', 'Maine': 'ME', 'Maryland': 'MD', 'Massachusetts': 'MA', 'Michigan': 'MI', 'Minnesota': 'MN', 'Mississippi': 'MS', 'Missouri': 'MO', 'Montana': 'MT', 'Nebraska': 'NE', 'Nevada': 'NV', 'New Hampshire': 'NH', 'New Jersey': 'NJ', 'New Mexico': 'NM', 'New York': 'NY', 'North Carolina': 'NC', 'North Dakota': 'ND', 'Ohio': 'OH', 'Oklahoma': 'OK', 'Oregon': 'OR', 'Pennsylvania': 'PA', 'Rhode Island': 'RI', 'South Carolina': 'SC', 'South Dakota': 'SD', 'Tennessee': 'TN', 'Texas': 'TX', 'Utah': 'UT', 'Vermont': 'VT', 'Virginia': 'VA', 'Washington': 'WA', 'West Virginia': 'WV', 'Wisconsin': 'WI', 'Wyoming': 'WY'}\n"
     ]
    }
   ],
   "source": [
    "us_state_file = Path.cwd() / 'us_states.json'\n",
    "\n",
    "with open(us_state_file, 'r') as f:\n",
    "    us_states = json.load(f)\n",
    "    \n",
    "print(us_states)"
   ]
  },
  {
   "cell_type": "code",
   "execution_count": 43,
   "id": "ae993533",
   "metadata": {},
   "outputs": [
    {
     "data": {
      "text/plain": [
       "estate\n",
       "NJ    191280\n",
       "MA    175248\n",
       "CT     89776\n",
       "NY     66088\n",
       "NH     51394\n",
       "VT     46460\n",
       "ME     36650\n",
       "RI     29596\n",
       "PA     17148\n",
       "DE      2135\n",
       "GA        50\n",
       "VA        31\n",
       "SC        25\n",
       "TN        20\n",
       "WY         3\n",
       "WV         3\n",
       "Name: count, dtype: int64"
      ]
     },
     "execution_count": 43,
     "metadata": {},
     "output_type": "execute_result"
    }
   ],
   "source": [
    "df['estate']=df['estate'].map(us_states)\n",
    "\n",
    "df['estate'].value_counts()"
   ]
  },
  {
   "cell_type": "markdown",
   "id": "18864b0f",
   "metadata": {},
   "source": [
    "### Revisando los datos de los precios"
   ]
  },
  {
   "cell_type": "code",
   "execution_count": 48,
   "id": "ad33dea1",
   "metadata": {},
   "outputs": [
    {
     "data": {
      "text/plain": [
       "<Axes: >"
      ]
     },
     "execution_count": 48,
     "metadata": {},
     "output_type": "execute_result"
    },
    {
     "data": {
      "image/png": "[encoded data removed]",
      "text/plain": [
       "<Figure size 640x480 with 1 Axes>"
      ]
     },
     "metadata": {},
     "output_type": "display_data"
    }
   ],
   "source": [
    "df['price'].hist()"
   ]
  },
  {
   "cell_type": "markdown",
   "id": "38217915",
   "metadata": {},
   "source": [
    "#### Finding prices == 0.0 "
   ]
  },
  {
   "cell_type": "code",
   "execution_count": 50,
   "id": "50ed6e57",
   "metadata": {},
   "outputs": [
    {
     "name": "stdout",
     "output_type": "stream",
     "text": [
      "(39, 12)\n"
     ]
    }
   ],
   "source": [
    "zeros = df.loc[df['price'] == 0.0]\n",
    "\n",
    "print(zeros.shape)"
   ]
  },
  {
   "cell_type": "code",
   "execution_count": 51,
   "id": "8fcbf8ba",
   "metadata": {},
   "outputs": [
    {
     "data": {
      "text/html": [
       "<div>\n",
       "<style scoped>\n",
       "    .dataframe tbody tr th:only-of-type {\n",
       "        vertical-align: middle;\n",
       "    }\n",
       "\n",
       "    .dataframe tbody tr th {\n",
       "        vertical-align: top;\n",
       "    }\n",
       "\n",
       "    .dataframe thead th {\n",
       "        text-align: right;\n",
       "    }\n",
       "</style>\n",
       "<table border=\"1\" class=\"dataframe\">\n",
       "  <thead>\n",
       "    <tr style=\"text-align: right;\">\n",
       "      <th></th>\n",
       "      <th>status</th>\n",
       "      <th>price</th>\n",
       "      <th>bed</th>\n",
       "      <th>bath</th>\n",
       "      <th>Lot area (acres)</th>\n",
       "      <th>Full Address</th>\n",
       "      <th>street</th>\n",
       "      <th>city</th>\n",
       "      <th>estate</th>\n",
       "      <th>Zip code</th>\n",
       "      <th>House size (square feet)</th>\n",
       "      <th>sold_date</th>\n",
       "    </tr>\n",
       "  </thead>\n",
       "  <tbody>\n",
       "    <tr>\n",
       "      <th>465599</th>\n",
       "      <td>for_sale</td>\n",
       "      <td>0.0</td>\n",
       "      <td>&lt;NA&gt;</td>\n",
       "      <td>&lt;NA&gt;</td>\n",
       "      <td>0.17</td>\n",
       "      <td>535 E 29th St, Paterson, NJ, 07504</td>\n",
       "      <td>535 E 29th St</td>\n",
       "      <td>Paterson</td>\n",
       "      <td>NJ</td>\n",
       "      <td>7504.0</td>\n",
       "      <td>4500.0</td>\n",
       "      <td>&lt;NA&gt;</td>\n",
       "    </tr>\n",
       "    <tr>\n",
       "      <th>465600</th>\n",
       "      <td>for_sale</td>\n",
       "      <td>0.0</td>\n",
       "      <td>&lt;NA&gt;</td>\n",
       "      <td>&lt;NA&gt;</td>\n",
       "      <td>0.22</td>\n",
       "      <td>541 E 29th St, Paterson, NJ, 07504</td>\n",
       "      <td>541 E 29th St</td>\n",
       "      <td>Paterson</td>\n",
       "      <td>NJ</td>\n",
       "      <td>7504.0</td>\n",
       "      <td>5000.0</td>\n",
       "      <td>&lt;NA&gt;</td>\n",
       "    </tr>\n",
       "    <tr>\n",
       "      <th>469243</th>\n",
       "      <td>for_sale</td>\n",
       "      <td>0.0</td>\n",
       "      <td>4.0</td>\n",
       "      <td>4.0</td>\n",
       "      <td>&lt;NA&gt;</td>\n",
       "      <td>330 E 38th St Unit 35CD, New York, NY, 10016</td>\n",
       "      <td>330 E 38th St Unit 35CD</td>\n",
       "      <td>New York</td>\n",
       "      <td>NY</td>\n",
       "      <td>10016.0</td>\n",
       "      <td>&lt;NA&gt;</td>\n",
       "      <td>&lt;NA&gt;</td>\n",
       "    </tr>\n",
       "    <tr>\n",
       "      <th>472798</th>\n",
       "      <td>for_sale</td>\n",
       "      <td>0.0</td>\n",
       "      <td>&lt;NA&gt;</td>\n",
       "      <td>&lt;NA&gt;</td>\n",
       "      <td>0.17</td>\n",
       "      <td>535 E 29th St, Paterson, NJ, 07504</td>\n",
       "      <td>535 E 29th St</td>\n",
       "      <td>Paterson</td>\n",
       "      <td>NJ</td>\n",
       "      <td>7504.0</td>\n",
       "      <td>4500.0</td>\n",
       "      <td>&lt;NA&gt;</td>\n",
       "    </tr>\n",
       "    <tr>\n",
       "      <th>472804</th>\n",
       "      <td>for_sale</td>\n",
       "      <td>0.0</td>\n",
       "      <td>&lt;NA&gt;</td>\n",
       "      <td>&lt;NA&gt;</td>\n",
       "      <td>0.22</td>\n",
       "      <td>541 E 29th St, Paterson, NJ, 07504</td>\n",
       "      <td>541 E 29th St</td>\n",
       "      <td>Paterson</td>\n",
       "      <td>NJ</td>\n",
       "      <td>7504.0</td>\n",
       "      <td>5000.0</td>\n",
       "      <td>&lt;NA&gt;</td>\n",
       "    </tr>\n",
       "  </tbody>\n",
       "</table>\n",
       "</div>"
      ],
      "text/plain": [
       "          status  price   bed  bath  Lot area (acres)  \\\n",
       "465599  for_sale    0.0  <NA>  <NA>              0.17   \n",
       "465600  for_sale    0.0  <NA>  <NA>              0.22   \n",
       "469243  for_sale    0.0   4.0   4.0              <NA>   \n",
       "472798  for_sale    0.0  <NA>  <NA>              0.17   \n",
       "472804  for_sale    0.0  <NA>  <NA>              0.22   \n",
       "\n",
       "                                        Full Address                   street  \\\n",
       "465599            535 E 29th St, Paterson, NJ, 07504            535 E 29th St   \n",
       "465600            541 E 29th St, Paterson, NJ, 07504            541 E 29th St   \n",
       "469243  330 E 38th St Unit 35CD, New York, NY, 10016  330 E 38th St Unit 35CD   \n",
       "472798            535 E 29th St, Paterson, NJ, 07504            535 E 29th St   \n",
       "472804            541 E 29th St, Paterson, NJ, 07504            541 E 29th St   \n",
       "\n",
       "            city estate  Zip code  House size (square feet) sold_date  \n",
       "465599  Paterson     NJ    7504.0                    4500.0      <NA>  \n",
       "465600  Paterson     NJ    7504.0                    5000.0      <NA>  \n",
       "469243  New York     NY   10016.0                      <NA>      <NA>  \n",
       "472798  Paterson     NJ    7504.0                    4500.0      <NA>  \n",
       "472804  Paterson     NJ    7504.0                    5000.0      <NA>  "
      ]
     },
     "execution_count": 51,
     "metadata": {},
     "output_type": "execute_result"
    }
   ],
   "source": [
    "zeros.head()"
   ]
  },
  {
   "cell_type": "markdown",
   "id": "7ff834ee",
   "metadata": {},
   "source": []
  }
 ],
 "metadata": {
  "kernelspec": {
   "display_name": "Python 3 (ipykernel)",
   "language": "python",
   "name": "python3"
  },
  "language_info": {
   "codemirror_mode": {
    "name": "ipython",
    "version": 3
   },
   "file_extension": ".py",
   "mimetype": "text/x-python",
   "name": "python",
   "nbconvert_exporter": "python",
   "pygments_lexer": "ipython3",
   "version": "3.10.6"
  },
  "toc": {
   "base_numbering": 1,
   "nav_menu": {},
   "number_sections": true,
   "sideBar": true,
   "skip_h1_title": true,
   "title_cell": "Table of Contents",
   "title_sidebar": "Contents",
   "toc_cell": false,
   "toc_position": {},
   "toc_section_display": true,
   "toc_window_display": true
  }
 },
 "nbformat": 4,
 "nbformat_minor": 5
}
