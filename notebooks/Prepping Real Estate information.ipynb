{
 "cells": [
  {
   "cell_type": "markdown",
   "id": "97e19b79",
   "metadata": {},
   "source": [
    "# USA Real Estate\n",
    "\n",
    "\n",
    "Fuente: https://www.kaggle.com/datasets/ahmedshahriarsakib/usa-real-estate-dataset\n",
    "\n",
    "Crime data: https://www.kaggle.com/datasets/mathchi/violent-crime-rates-by-us-state/discussion\n",
    "\n",
    "Shoootings: https://www.kaggle.com/datasets/ahsen1330/us-police-shootings\n"
   ]
  },
  {
   "cell_type": "code",
   "execution_count": 83,
   "id": "1323e7c7",
   "metadata": {},
   "outputs": [],
   "source": [
    "from pathlib import Path\n",
    "import json\n",
    "import csv\n",
    "import time\n",
    "import re\n",
    "\n",
    "import matplotlib.pyplot as plt\n",
    "\n",
    "import numpy as np\n",
    "import pandas as pd\n",
    "from tqdm import tqdm\n",
    "import seaborn as sns\n",
    "pd.set_option('display.max_columns', None)\n",
    "\n",
    "%matplotlib inline"
   ]
  },
  {
   "cell_type": "markdown",
   "id": "552fe04d",
   "metadata": {},
   "source": [
    "## Configuración"
   ]
  },
  {
   "cell_type": "code",
   "execution_count": 84,
   "id": "2c203d84",
   "metadata": {},
   "outputs": [
    {
     "name": "stdout",
     "output_type": "stream",
     "text": [
      "Folder /home/luiscberrocal/PycharmProjects/pylearn-data-101/data/house_pricing existe: True\n"
     ]
    }
   ],
   "source": [
    "data_folder = Path().cwd().parent / 'data' / 'house_pricing'\n",
    "\n",
    "csv_file = data_folder / 'realtor-data.csv'\n",
    "\n",
    "print(f'Folder {data_folder} existe: {data_folder.exists()}')"
   ]
  },
  {
   "cell_type": "markdown",
   "id": "aa268510",
   "metadata": {},
   "source": [
    "## Carga de datos"
   ]
  },
  {
   "cell_type": "markdown",
   "id": "75e839f1",
   "metadata": {},
   "source": [
    "### Realtor dataframe"
   ]
  },
  {
   "cell_type": "code",
   "execution_count": 85,
   "id": "aed7bb4f",
   "metadata": {},
   "outputs": [
    {
     "data": {
      "text/html": [
       "<div>\n",
       "<style scoped>\n",
       "    .dataframe tbody tr th:only-of-type {\n",
       "        vertical-align: middle;\n",
       "    }\n",
       "\n",
       "    .dataframe tbody tr th {\n",
       "        vertical-align: top;\n",
       "    }\n",
       "\n",
       "    .dataframe thead th {\n",
       "        text-align: right;\n",
       "    }\n",
       "</style>\n",
       "<table border=\"1\" class=\"dataframe\">\n",
       "  <thead>\n",
       "    <tr style=\"text-align: right;\">\n",
       "      <th></th>\n",
       "      <th>status</th>\n",
       "      <th>price</th>\n",
       "      <th>bed</th>\n",
       "      <th>bath</th>\n",
       "      <th>acre_lot</th>\n",
       "      <th>full_address</th>\n",
       "      <th>street</th>\n",
       "      <th>city</th>\n",
       "      <th>state</th>\n",
       "      <th>zip_code</th>\n",
       "      <th>house_size</th>\n",
       "      <th>sold_date</th>\n",
       "    </tr>\n",
       "  </thead>\n",
       "  <tbody>\n",
       "    <tr>\n",
       "      <th>0</th>\n",
       "      <td>for_sale</td>\n",
       "      <td>105000.0</td>\n",
       "      <td>3.0</td>\n",
       "      <td>2.0</td>\n",
       "      <td>0.12</td>\n",
       "      <td>Sector Yahuecas Titulo # V84, Adjuntas, PR, 00601</td>\n",
       "      <td>Sector Yahuecas Titulo # V84</td>\n",
       "      <td>Adjuntas</td>\n",
       "      <td>Puerto Rico</td>\n",
       "      <td>601.0</td>\n",
       "      <td>920.0</td>\n",
       "      <td>&lt;NA&gt;</td>\n",
       "    </tr>\n",
       "    <tr>\n",
       "      <th>1</th>\n",
       "      <td>for_sale</td>\n",
       "      <td>80000.0</td>\n",
       "      <td>4.0</td>\n",
       "      <td>2.0</td>\n",
       "      <td>0.08</td>\n",
       "      <td>Km 78 9 Carr # 135, Adjuntas, PR, 00601</td>\n",
       "      <td>Km 78 9 Carr # 135</td>\n",
       "      <td>Adjuntas</td>\n",
       "      <td>Puerto Rico</td>\n",
       "      <td>601.0</td>\n",
       "      <td>1527.0</td>\n",
       "      <td>&lt;NA&gt;</td>\n",
       "    </tr>\n",
       "    <tr>\n",
       "      <th>2</th>\n",
       "      <td>for_sale</td>\n",
       "      <td>67000.0</td>\n",
       "      <td>2.0</td>\n",
       "      <td>1.0</td>\n",
       "      <td>0.15</td>\n",
       "      <td>556G 556-G 16 St, Juana Diaz, PR, 00795</td>\n",
       "      <td>556G 556-G 16 St</td>\n",
       "      <td>Juana Diaz</td>\n",
       "      <td>Puerto Rico</td>\n",
       "      <td>795.0</td>\n",
       "      <td>748.0</td>\n",
       "      <td>&lt;NA&gt;</td>\n",
       "    </tr>\n",
       "    <tr>\n",
       "      <th>3</th>\n",
       "      <td>for_sale</td>\n",
       "      <td>145000.0</td>\n",
       "      <td>4.0</td>\n",
       "      <td>2.0</td>\n",
       "      <td>0.10</td>\n",
       "      <td>R5 Comunidad El Paraso Calle De Oro R-5 Ponce,...</td>\n",
       "      <td>R5 Comunidad El Paraso Calle De Oro R-5 Ponce</td>\n",
       "      <td>Ponce</td>\n",
       "      <td>Puerto Rico</td>\n",
       "      <td>731.0</td>\n",
       "      <td>1800.0</td>\n",
       "      <td>&lt;NA&gt;</td>\n",
       "    </tr>\n",
       "    <tr>\n",
       "      <th>4</th>\n",
       "      <td>for_sale</td>\n",
       "      <td>65000.0</td>\n",
       "      <td>6.0</td>\n",
       "      <td>2.0</td>\n",
       "      <td>0.05</td>\n",
       "      <td>14 Navarro, Mayaguez, PR, 00680</td>\n",
       "      <td>14 Navarro</td>\n",
       "      <td>Mayaguez</td>\n",
       "      <td>Puerto Rico</td>\n",
       "      <td>680.0</td>\n",
       "      <td>&lt;NA&gt;</td>\n",
       "      <td>&lt;NA&gt;</td>\n",
       "    </tr>\n",
       "  </tbody>\n",
       "</table>\n",
       "</div>"
      ],
      "text/plain": [
       "     status     price  bed  bath  acre_lot  \\\n",
       "0  for_sale  105000.0  3.0   2.0      0.12   \n",
       "1  for_sale   80000.0  4.0   2.0      0.08   \n",
       "2  for_sale   67000.0  2.0   1.0      0.15   \n",
       "3  for_sale  145000.0  4.0   2.0      0.10   \n",
       "4  for_sale   65000.0  6.0   2.0      0.05   \n",
       "\n",
       "                                        full_address  \\\n",
       "0  Sector Yahuecas Titulo # V84, Adjuntas, PR, 00601   \n",
       "1            Km 78 9 Carr # 135, Adjuntas, PR, 00601   \n",
       "2            556G 556-G 16 St, Juana Diaz, PR, 00795   \n",
       "3  R5 Comunidad El Paraso Calle De Oro R-5 Ponce,...   \n",
       "4                    14 Navarro, Mayaguez, PR, 00680   \n",
       "\n",
       "                                          street        city        state  \\\n",
       "0                   Sector Yahuecas Titulo # V84    Adjuntas  Puerto Rico   \n",
       "1                             Km 78 9 Carr # 135    Adjuntas  Puerto Rico   \n",
       "2                               556G 556-G 16 St  Juana Diaz  Puerto Rico   \n",
       "3  R5 Comunidad El Paraso Calle De Oro R-5 Ponce       Ponce  Puerto Rico   \n",
       "4                                     14 Navarro    Mayaguez  Puerto Rico   \n",
       "\n",
       "   zip_code  house_size sold_date  \n",
       "0     601.0       920.0      <NA>  \n",
       "1     601.0      1527.0      <NA>  \n",
       "2     795.0       748.0      <NA>  \n",
       "3     731.0      1800.0      <NA>  \n",
       "4     680.0        <NA>      <NA>  "
      ]
     },
     "execution_count": 85,
     "metadata": {},
     "output_type": "execute_result"
    }
   ],
   "source": [
    "# df = pd.read_csv(csv_file)\n",
    "df = pd.read_csv(csv_file, engine='pyarrow', dtype_backend='pyarrow')\n",
    "df.head()"
   ]
  },
  {
   "cell_type": "markdown",
   "id": "2b2d16d6",
   "metadata": {},
   "source": [
    "#### Shape\n",
    "\n",
    "Filas y columnas"
   ]
  },
  {
   "cell_type": "code",
   "execution_count": 86,
   "id": "a7018819",
   "metadata": {},
   "outputs": [
    {
     "name": "stdout",
     "output_type": "stream",
     "text": [
      "Filas 733159 Columnas: 12\n"
     ]
    }
   ],
   "source": [
    "print(f'Filas {df.shape[0]} Columnas: {df.shape[1]}')"
   ]
  },
  {
   "cell_type": "markdown",
   "id": "714e779c",
   "metadata": {},
   "source": [
    "#### Info\n",
    "\n",
    "Nombre y tipo de columnas"
   ]
  },
  {
   "cell_type": "code",
   "execution_count": 87,
   "id": "ad690114",
   "metadata": {},
   "outputs": [
    {
     "name": "stdout",
     "output_type": "stream",
     "text": [
      "<class 'pandas.core.frame.DataFrame'>\n",
      "RangeIndex: 733159 entries, 0 to 733158\n",
      "Data columns (total 12 columns):\n",
      " #   Column        Non-Null Count   Dtype               \n",
      "---  ------        --------------   -----               \n",
      " 0   status        733159 non-null  string[pyarrow]     \n",
      " 1   price         733088 non-null  double[pyarrow]     \n",
      " 2   bed           617177 non-null  double[pyarrow]     \n",
      " 3   bath          621407 non-null  double[pyarrow]     \n",
      " 4   acre_lot      572378 non-null  double[pyarrow]     \n",
      " 5   full_address  733159 non-null  string[pyarrow]     \n",
      " 6   street        733159 non-null  string[pyarrow]     \n",
      " 7   city          733159 non-null  string[pyarrow]     \n",
      " 8   state         733159 non-null  string[pyarrow]     \n",
      " 9   zip_code      732957 non-null  double[pyarrow]     \n",
      " 10  house_size    520772 non-null  double[pyarrow]     \n",
      " 11  sold_date     347237 non-null  date32[day][pyarrow]\n",
      "dtypes: date32[day][pyarrow](1), double[pyarrow](6), string[pyarrow](5)\n",
      "memory usage: 108.5 MB\n"
     ]
    }
   ],
   "source": [
    "df.info()"
   ]
  },
  {
   "cell_type": "markdown",
   "id": "ffebbafc",
   "metadata": {},
   "source": [
    "#### Describe\n"
   ]
  },
  {
   "cell_type": "code",
   "execution_count": 88,
   "id": "4af91efc",
   "metadata": {},
   "outputs": [
    {
     "data": {
      "text/html": [
       "<div>\n",
       "<style scoped>\n",
       "    .dataframe tbody tr th:only-of-type {\n",
       "        vertical-align: middle;\n",
       "    }\n",
       "\n",
       "    .dataframe tbody tr th {\n",
       "        vertical-align: top;\n",
       "    }\n",
       "\n",
       "    .dataframe thead th {\n",
       "        text-align: right;\n",
       "    }\n",
       "</style>\n",
       "<table border=\"1\" class=\"dataframe\">\n",
       "  <thead>\n",
       "    <tr style=\"text-align: right;\">\n",
       "      <th></th>\n",
       "      <th>price</th>\n",
       "      <th>bed</th>\n",
       "      <th>bath</th>\n",
       "      <th>acre_lot</th>\n",
       "      <th>zip_code</th>\n",
       "      <th>house_size</th>\n",
       "      <th>sold_date</th>\n",
       "    </tr>\n",
       "  </thead>\n",
       "  <tbody>\n",
       "    <tr>\n",
       "      <th>count</th>\n",
       "      <td>7.330880e+05</td>\n",
       "      <td>617177.000000</td>\n",
       "      <td>621407.000000</td>\n",
       "      <td>572378.000000</td>\n",
       "      <td>732957.000000</td>\n",
       "      <td>5.207720e+05</td>\n",
       "      <td>347237</td>\n",
       "    </tr>\n",
       "    <tr>\n",
       "      <th>mean</th>\n",
       "      <td>7.257017e+05</td>\n",
       "      <td>3.422041</td>\n",
       "      <td>2.540473</td>\n",
       "      <td>19.058585</td>\n",
       "      <td>5736.101623</td>\n",
       "      <td>2.192527e+03</td>\n",
       "      <td>2008-11-08</td>\n",
       "    </tr>\n",
       "    <tr>\n",
       "      <th>min</th>\n",
       "      <td>0.000000e+00</td>\n",
       "      <td>1.000000</td>\n",
       "      <td>1.000000</td>\n",
       "      <td>0.000000</td>\n",
       "      <td>601.000000</td>\n",
       "      <td>1.000000e+02</td>\n",
       "      <td>1901-01-01</td>\n",
       "    </tr>\n",
       "    <tr>\n",
       "      <th>25%</th>\n",
       "      <td>2.375000e+05</td>\n",
       "      <td>2.000000</td>\n",
       "      <td>2.000000</td>\n",
       "      <td>0.140000</td>\n",
       "      <td>2492.000000</td>\n",
       "      <td>1.195000e+03</td>\n",
       "      <td>2002-08-26</td>\n",
       "    </tr>\n",
       "    <tr>\n",
       "      <th>50%</th>\n",
       "      <td>4.190000e+05</td>\n",
       "      <td>3.000000</td>\n",
       "      <td>2.000000</td>\n",
       "      <td>0.350000</td>\n",
       "      <td>6001.000000</td>\n",
       "      <td>1.714000e+03</td>\n",
       "      <td>2009-07-22</td>\n",
       "    </tr>\n",
       "    <tr>\n",
       "      <th>75%</th>\n",
       "      <td>7.250000e+05</td>\n",
       "      <td>4.000000</td>\n",
       "      <td>3.000000</td>\n",
       "      <td>1.380000</td>\n",
       "      <td>7928.000000</td>\n",
       "      <td>2.547250e+03</td>\n",
       "      <td>2017-10-12</td>\n",
       "    </tr>\n",
       "    <tr>\n",
       "      <th>max</th>\n",
       "      <td>8.750000e+08</td>\n",
       "      <td>123.000000</td>\n",
       "      <td>198.000000</td>\n",
       "      <td>100000.000000</td>\n",
       "      <td>99999.000000</td>\n",
       "      <td>1.450112e+06</td>\n",
       "      <td>2023-03-01</td>\n",
       "    </tr>\n",
       "    <tr>\n",
       "      <th>std</th>\n",
       "      <td>1.768769e+06</td>\n",
       "      <td>2.028735</td>\n",
       "      <td>2.002442</td>\n",
       "      <td>1022.007111</td>\n",
       "      <td>3764.935565</td>\n",
       "      <td>3.141461e+03</td>\n",
       "      <td>NaN</td>\n",
       "    </tr>\n",
       "  </tbody>\n",
       "</table>\n",
       "</div>"
      ],
      "text/plain": [
       "              price            bed           bath       acre_lot  \\\n",
       "count  7.330880e+05  617177.000000  621407.000000  572378.000000   \n",
       "mean   7.257017e+05       3.422041       2.540473      19.058585   \n",
       "min    0.000000e+00       1.000000       1.000000       0.000000   \n",
       "25%    2.375000e+05       2.000000       2.000000       0.140000   \n",
       "50%    4.190000e+05       3.000000       2.000000       0.350000   \n",
       "75%    7.250000e+05       4.000000       3.000000       1.380000   \n",
       "max    8.750000e+08     123.000000     198.000000  100000.000000   \n",
       "std    1.768769e+06       2.028735       2.002442    1022.007111   \n",
       "\n",
       "            zip_code    house_size   sold_date  \n",
       "count  732957.000000  5.207720e+05      347237  \n",
       "mean     5736.101623  2.192527e+03  2008-11-08  \n",
       "min       601.000000  1.000000e+02  1901-01-01  \n",
       "25%      2492.000000  1.195000e+03  2002-08-26  \n",
       "50%      6001.000000  1.714000e+03  2009-07-22  \n",
       "75%      7928.000000  2.547250e+03  2017-10-12  \n",
       "max     99999.000000  1.450112e+06  2023-03-01  \n",
       "std      3764.935565  3.141461e+03         NaN  "
      ]
     },
     "execution_count": 88,
     "metadata": {},
     "output_type": "execute_result"
    }
   ],
   "source": [
    "df.describe()"
   ]
  },
  {
   "cell_type": "code",
   "execution_count": 89,
   "id": "85839011",
   "metadata": {},
   "outputs": [
    {
     "data": {
      "text/plain": [
       "state\n",
       "New Jersey        191280\n",
       "Massachusetts     175248\n",
       "Connecticut        89776\n",
       "New York           66088\n",
       "New Hampshire      51394\n",
       "Vermont            46460\n",
       "Maine              36650\n",
       "Rhode Island       29596\n",
       "Puerto Rico        24679\n",
       "Pennsylvania       17148\n",
       "Virgin Islands      2573\n",
       "Delaware            2135\n",
       "Georgia               50\n",
       "Virginia              31\n",
       "South Carolina        25\n",
       "Tennessee             20\n",
       "Wyoming                3\n",
       "West Virginia          3\n",
       "Name: count, dtype: int64[pyarrow]"
      ]
     },
     "execution_count": 89,
     "metadata": {},
     "output_type": "execute_result"
    }
   ],
   "source": [
    "df['state'].value_counts()"
   ]
  },
  {
   "cell_type": "markdown",
   "id": "980b2949",
   "metadata": {},
   "source": [
    "### Shooting dataframe\n"
   ]
  },
  {
   "cell_type": "code",
   "execution_count": 90,
   "id": "73d9208e",
   "metadata": {},
   "outputs": [],
   "source": [
    "data_folder = Path().cwd().parent / 'data' / 'house_pricing'\n",
    "\n",
    "shooting_file = data_folder / 'shootings.csv'"
   ]
  },
  {
   "cell_type": "code",
   "execution_count": 95,
   "id": "329a8cde",
   "metadata": {},
   "outputs": [
    {
     "data": {
      "text/html": [
       "<div>\n",
       "<style scoped>\n",
       "    .dataframe tbody tr th:only-of-type {\n",
       "        vertical-align: middle;\n",
       "    }\n",
       "\n",
       "    .dataframe tbody tr th {\n",
       "        vertical-align: top;\n",
       "    }\n",
       "\n",
       "    .dataframe thead th {\n",
       "        text-align: right;\n",
       "    }\n",
       "</style>\n",
       "<table border=\"1\" class=\"dataframe\">\n",
       "  <thead>\n",
       "    <tr style=\"text-align: right;\">\n",
       "      <th></th>\n",
       "      <th>id</th>\n",
       "      <th>name</th>\n",
       "      <th>date</th>\n",
       "      <th>manner_of_death</th>\n",
       "      <th>armed</th>\n",
       "      <th>age</th>\n",
       "      <th>gender</th>\n",
       "      <th>race</th>\n",
       "      <th>city</th>\n",
       "      <th>state</th>\n",
       "      <th>signs_of_mental_illness</th>\n",
       "      <th>threat_level</th>\n",
       "      <th>flee</th>\n",
       "      <th>body_camera</th>\n",
       "      <th>arms_category</th>\n",
       "    </tr>\n",
       "  </thead>\n",
       "  <tbody>\n",
       "    <tr>\n",
       "      <th>0</th>\n",
       "      <td>3</td>\n",
       "      <td>Tim Elliot</td>\n",
       "      <td>2015-01-02</td>\n",
       "      <td>shot</td>\n",
       "      <td>gun</td>\n",
       "      <td>53.0</td>\n",
       "      <td>M</td>\n",
       "      <td>Asian</td>\n",
       "      <td>Shelton</td>\n",
       "      <td>WA</td>\n",
       "      <td>True</td>\n",
       "      <td>attack</td>\n",
       "      <td>Not fleeing</td>\n",
       "      <td>False</td>\n",
       "      <td>Guns</td>\n",
       "    </tr>\n",
       "    <tr>\n",
       "      <th>1</th>\n",
       "      <td>4</td>\n",
       "      <td>Lewis Lee Lembke</td>\n",
       "      <td>2015-01-02</td>\n",
       "      <td>shot</td>\n",
       "      <td>gun</td>\n",
       "      <td>47.0</td>\n",
       "      <td>M</td>\n",
       "      <td>White</td>\n",
       "      <td>Aloha</td>\n",
       "      <td>OR</td>\n",
       "      <td>False</td>\n",
       "      <td>attack</td>\n",
       "      <td>Not fleeing</td>\n",
       "      <td>False</td>\n",
       "      <td>Guns</td>\n",
       "    </tr>\n",
       "    <tr>\n",
       "      <th>2</th>\n",
       "      <td>5</td>\n",
       "      <td>John Paul Quintero</td>\n",
       "      <td>2015-01-03</td>\n",
       "      <td>shot and Tasered</td>\n",
       "      <td>unarmed</td>\n",
       "      <td>23.0</td>\n",
       "      <td>M</td>\n",
       "      <td>Hispanic</td>\n",
       "      <td>Wichita</td>\n",
       "      <td>KS</td>\n",
       "      <td>False</td>\n",
       "      <td>other</td>\n",
       "      <td>Not fleeing</td>\n",
       "      <td>False</td>\n",
       "      <td>Unarmed</td>\n",
       "    </tr>\n",
       "    <tr>\n",
       "      <th>3</th>\n",
       "      <td>8</td>\n",
       "      <td>Matthew Hoffman</td>\n",
       "      <td>2015-01-04</td>\n",
       "      <td>shot</td>\n",
       "      <td>toy weapon</td>\n",
       "      <td>32.0</td>\n",
       "      <td>M</td>\n",
       "      <td>White</td>\n",
       "      <td>San Francisco</td>\n",
       "      <td>CA</td>\n",
       "      <td>True</td>\n",
       "      <td>attack</td>\n",
       "      <td>Not fleeing</td>\n",
       "      <td>False</td>\n",
       "      <td>Other unusual objects</td>\n",
       "    </tr>\n",
       "    <tr>\n",
       "      <th>4</th>\n",
       "      <td>9</td>\n",
       "      <td>Michael Rodriguez</td>\n",
       "      <td>2015-01-04</td>\n",
       "      <td>shot</td>\n",
       "      <td>nail gun</td>\n",
       "      <td>39.0</td>\n",
       "      <td>M</td>\n",
       "      <td>Hispanic</td>\n",
       "      <td>Evans</td>\n",
       "      <td>CO</td>\n",
       "      <td>False</td>\n",
       "      <td>attack</td>\n",
       "      <td>Not fleeing</td>\n",
       "      <td>False</td>\n",
       "      <td>Piercing objects</td>\n",
       "    </tr>\n",
       "  </tbody>\n",
       "</table>\n",
       "</div>"
      ],
      "text/plain": [
       "   id                name       date   manner_of_death       armed   age  \\\n",
       "0   3          Tim Elliot 2015-01-02              shot         gun  53.0   \n",
       "1   4    Lewis Lee Lembke 2015-01-02              shot         gun  47.0   \n",
       "2   5  John Paul Quintero 2015-01-03  shot and Tasered     unarmed  23.0   \n",
       "3   8     Matthew Hoffman 2015-01-04              shot  toy weapon  32.0   \n",
       "4   9   Michael Rodriguez 2015-01-04              shot    nail gun  39.0   \n",
       "\n",
       "  gender      race           city state signs_of_mental_illness threat_level  \\\n",
       "0      M     Asian        Shelton    WA                    True       attack   \n",
       "1      M     White          Aloha    OR                   False       attack   \n",
       "2      M  Hispanic        Wichita    KS                   False        other   \n",
       "3      M     White  San Francisco    CA                    True       attack   \n",
       "4      M  Hispanic          Evans    CO                   False       attack   \n",
       "\n",
       "          flee body_camera          arms_category  \n",
       "0  Not fleeing       False                   Guns  \n",
       "1  Not fleeing       False                   Guns  \n",
       "2  Not fleeing       False                Unarmed  \n",
       "3  Not fleeing       False  Other unusual objects  \n",
       "4  Not fleeing       False       Piercing objects  "
      ]
     },
     "execution_count": 95,
     "metadata": {},
     "output_type": "execute_result"
    }
   ],
   "source": [
    "shootings = pd.read_csv(shooting_file, engine='pyarrow', dtype_backend='pyarrow')\n",
    "shootings.head()"
   ]
  },
  {
   "cell_type": "code",
   "execution_count": 96,
   "id": "ce3270ac",
   "metadata": {},
   "outputs": [
    {
     "data": {
      "text/plain": [
       "(4895, 15)"
      ]
     },
     "execution_count": 96,
     "metadata": {},
     "output_type": "execute_result"
    }
   ],
   "source": [
    "shootings.shape"
   ]
  },
  {
   "cell_type": "code",
   "execution_count": 97,
   "id": "e8de73c6",
   "metadata": {},
   "outputs": [
    {
     "data": {
      "text/plain": [
       "city\n",
       "Los Angeles     78\n",
       "Phoenix         66\n",
       "Houston         51\n",
       "Las Vegas       41\n",
       "San Antonio     40\n",
       "                ..\n",
       "Mustang          1\n",
       "New Rochelle     1\n",
       "Industry         1\n",
       "Paso Robles      1\n",
       "Crown Point      1\n",
       "Name: count, Length: 2288, dtype: int64[pyarrow]"
      ]
     },
     "execution_count": 97,
     "metadata": {},
     "output_type": "execute_result"
    }
   ],
   "source": [
    "shootings['city'].value_counts()"
   ]
  },
  {
   "cell_type": "code",
   "execution_count": 99,
   "id": "f9082e0f",
   "metadata": {},
   "outputs": [
    {
     "data": {
      "text/plain": [
       "city\n",
       "Abbeville            1\n",
       "Aberdeen             2\n",
       "Abilene              3\n",
       "Abingdon             2\n",
       "Abington Township    1\n",
       "Name: city, dtype: int64"
      ]
     },
     "execution_count": 99,
     "metadata": {},
     "output_type": "execute_result"
    }
   ],
   "source": [
    "shootings_x_city = shootings.groupby(shootings['city'])['city'].count()\n",
    "\n",
    "shootings_x_city.head()"
   ]
  },
  {
   "cell_type": "code",
   "execution_count": null,
   "id": "58247f15",
   "metadata": {},
   "outputs": [],
   "source": []
  },
  {
   "cell_type": "markdown",
   "id": "18288d1b",
   "metadata": {},
   "source": [
    "## Limpieza de datos"
   ]
  },
  {
   "cell_type": "markdown",
   "id": "b7e1543e",
   "metadata": {},
   "source": [
    "### Join shootings"
   ]
  },
  {
   "cell_type": "code",
   "execution_count": 93,
   "id": "3b7e6da6",
   "metadata": {},
   "outputs": [
    {
     "name": "stdout",
     "output_type": "stream",
     "text": [
      "Filas joined 1,406,743\n"
     ]
    }
   ],
   "source": [
    "df1 = pd.merge(df, shootings, how='inner', left_on = 'city', right_on = 'city')\n",
    "\n",
    "print(f'Filas joined {df1.shape[0]:,}')"
   ]
  },
  {
   "cell_type": "code",
   "execution_count": 94,
   "id": "42c89d6e",
   "metadata": {},
   "outputs": [
    {
     "data": {
      "text/html": [
       "<div>\n",
       "<style scoped>\n",
       "    .dataframe tbody tr th:only-of-type {\n",
       "        vertical-align: middle;\n",
       "    }\n",
       "\n",
       "    .dataframe tbody tr th {\n",
       "        vertical-align: top;\n",
       "    }\n",
       "\n",
       "    .dataframe thead th {\n",
       "        text-align: right;\n",
       "    }\n",
       "</style>\n",
       "<table border=\"1\" class=\"dataframe\">\n",
       "  <thead>\n",
       "    <tr style=\"text-align: right;\">\n",
       "      <th></th>\n",
       "      <th>status</th>\n",
       "      <th>price</th>\n",
       "      <th>bed</th>\n",
       "      <th>bath</th>\n",
       "      <th>acre_lot</th>\n",
       "      <th>full_address</th>\n",
       "      <th>street</th>\n",
       "      <th>city</th>\n",
       "      <th>state_x</th>\n",
       "      <th>zip_code</th>\n",
       "      <th>house_size</th>\n",
       "      <th>sold_date</th>\n",
       "      <th>id</th>\n",
       "      <th>name</th>\n",
       "      <th>date</th>\n",
       "      <th>manner_of_death</th>\n",
       "      <th>armed</th>\n",
       "      <th>age</th>\n",
       "      <th>gender</th>\n",
       "      <th>race</th>\n",
       "      <th>state_y</th>\n",
       "      <th>signs_of_mental_illness</th>\n",
       "      <th>threat_level</th>\n",
       "      <th>flee</th>\n",
       "      <th>body_camera</th>\n",
       "      <th>arms_category</th>\n",
       "    </tr>\n",
       "  </thead>\n",
       "  <tbody>\n",
       "    <tr>\n",
       "      <th>0</th>\n",
       "      <td>for_sale</td>\n",
       "      <td>49900.0</td>\n",
       "      <td>3.0</td>\n",
       "      <td>1.0</td>\n",
       "      <td>0.09</td>\n",
       "      <td>A-21 Calle # 2, Salinas, PR, 00751</td>\n",
       "      <td>A-21 Calle # 2</td>\n",
       "      <td>Salinas</td>\n",
       "      <td>Puerto Rico</td>\n",
       "      <td>751.0</td>\n",
       "      <td>870.0</td>\n",
       "      <td>&lt;NA&gt;</td>\n",
       "      <td>2225</td>\n",
       "      <td>Marlon Joel Rodas-Sanchez</td>\n",
       "      <td>2017-01-18</td>\n",
       "      <td>shot and Tasered</td>\n",
       "      <td>knife</td>\n",
       "      <td>16.0</td>\n",
       "      <td>M</td>\n",
       "      <td>Hispanic</td>\n",
       "      <td>CA</td>\n",
       "      <td>False</td>\n",
       "      <td>other</td>\n",
       "      <td>Not fleeing</td>\n",
       "      <td>True</td>\n",
       "      <td>Sharp objects</td>\n",
       "    </tr>\n",
       "    <tr>\n",
       "      <th>1</th>\n",
       "      <td>for_sale</td>\n",
       "      <td>49900.0</td>\n",
       "      <td>3.0</td>\n",
       "      <td>1.0</td>\n",
       "      <td>0.09</td>\n",
       "      <td>A-21 Calle # 2, Salinas, PR, 00751</td>\n",
       "      <td>A-21 Calle # 2</td>\n",
       "      <td>Salinas</td>\n",
       "      <td>Puerto Rico</td>\n",
       "      <td>751.0</td>\n",
       "      <td>870.0</td>\n",
       "      <td>&lt;NA&gt;</td>\n",
       "      <td>4536</td>\n",
       "      <td>Brenda Rodriguez Mendoza</td>\n",
       "      <td>2019-03-01</td>\n",
       "      <td>shot</td>\n",
       "      <td>gun</td>\n",
       "      <td>20.0</td>\n",
       "      <td>F</td>\n",
       "      <td>Hispanic</td>\n",
       "      <td>CA</td>\n",
       "      <td>False</td>\n",
       "      <td>other</td>\n",
       "      <td>Other</td>\n",
       "      <td>False</td>\n",
       "      <td>Guns</td>\n",
       "    </tr>\n",
       "    <tr>\n",
       "      <th>2</th>\n",
       "      <td>for_sale</td>\n",
       "      <td>1356000.0</td>\n",
       "      <td>&lt;NA&gt;</td>\n",
       "      <td>&lt;NA&gt;</td>\n",
       "      <td>29.00</td>\n",
       "      <td>Santiago Iglesias, Salinas, PR, 00751</td>\n",
       "      <td>Santiago Iglesias</td>\n",
       "      <td>Salinas</td>\n",
       "      <td>Puerto Rico</td>\n",
       "      <td>751.0</td>\n",
       "      <td>&lt;NA&gt;</td>\n",
       "      <td>&lt;NA&gt;</td>\n",
       "      <td>2225</td>\n",
       "      <td>Marlon Joel Rodas-Sanchez</td>\n",
       "      <td>2017-01-18</td>\n",
       "      <td>shot and Tasered</td>\n",
       "      <td>knife</td>\n",
       "      <td>16.0</td>\n",
       "      <td>M</td>\n",
       "      <td>Hispanic</td>\n",
       "      <td>CA</td>\n",
       "      <td>False</td>\n",
       "      <td>other</td>\n",
       "      <td>Not fleeing</td>\n",
       "      <td>True</td>\n",
       "      <td>Sharp objects</td>\n",
       "    </tr>\n",
       "    <tr>\n",
       "      <th>3</th>\n",
       "      <td>for_sale</td>\n",
       "      <td>1356000.0</td>\n",
       "      <td>&lt;NA&gt;</td>\n",
       "      <td>&lt;NA&gt;</td>\n",
       "      <td>29.00</td>\n",
       "      <td>Santiago Iglesias, Salinas, PR, 00751</td>\n",
       "      <td>Santiago Iglesias</td>\n",
       "      <td>Salinas</td>\n",
       "      <td>Puerto Rico</td>\n",
       "      <td>751.0</td>\n",
       "      <td>&lt;NA&gt;</td>\n",
       "      <td>&lt;NA&gt;</td>\n",
       "      <td>4536</td>\n",
       "      <td>Brenda Rodriguez Mendoza</td>\n",
       "      <td>2019-03-01</td>\n",
       "      <td>shot</td>\n",
       "      <td>gun</td>\n",
       "      <td>20.0</td>\n",
       "      <td>F</td>\n",
       "      <td>Hispanic</td>\n",
       "      <td>CA</td>\n",
       "      <td>False</td>\n",
       "      <td>other</td>\n",
       "      <td>Other</td>\n",
       "      <td>False</td>\n",
       "      <td>Guns</td>\n",
       "    </tr>\n",
       "    <tr>\n",
       "      <th>4</th>\n",
       "      <td>for_sale</td>\n",
       "      <td>1356000.0</td>\n",
       "      <td>&lt;NA&gt;</td>\n",
       "      <td>&lt;NA&gt;</td>\n",
       "      <td>29.00</td>\n",
       "      <td>Santiago Iglesias, Salinas, PR, 00751</td>\n",
       "      <td>Santiago Iglesias</td>\n",
       "      <td>Salinas</td>\n",
       "      <td>Puerto Rico</td>\n",
       "      <td>751.0</td>\n",
       "      <td>&lt;NA&gt;</td>\n",
       "      <td>&lt;NA&gt;</td>\n",
       "      <td>2225</td>\n",
       "      <td>Marlon Joel Rodas-Sanchez</td>\n",
       "      <td>2017-01-18</td>\n",
       "      <td>shot and Tasered</td>\n",
       "      <td>knife</td>\n",
       "      <td>16.0</td>\n",
       "      <td>M</td>\n",
       "      <td>Hispanic</td>\n",
       "      <td>CA</td>\n",
       "      <td>False</td>\n",
       "      <td>other</td>\n",
       "      <td>Not fleeing</td>\n",
       "      <td>True</td>\n",
       "      <td>Sharp objects</td>\n",
       "    </tr>\n",
       "  </tbody>\n",
       "</table>\n",
       "</div>"
      ],
      "text/plain": [
       "     status      price   bed  bath  acre_lot  \\\n",
       "0  for_sale    49900.0   3.0   1.0      0.09   \n",
       "1  for_sale    49900.0   3.0   1.0      0.09   \n",
       "2  for_sale  1356000.0  <NA>  <NA>     29.00   \n",
       "3  for_sale  1356000.0  <NA>  <NA>     29.00   \n",
       "4  for_sale  1356000.0  <NA>  <NA>     29.00   \n",
       "\n",
       "                            full_address             street     city  \\\n",
       "0     A-21 Calle # 2, Salinas, PR, 00751     A-21 Calle # 2  Salinas   \n",
       "1     A-21 Calle # 2, Salinas, PR, 00751     A-21 Calle # 2  Salinas   \n",
       "2  Santiago Iglesias, Salinas, PR, 00751  Santiago Iglesias  Salinas   \n",
       "3  Santiago Iglesias, Salinas, PR, 00751  Santiago Iglesias  Salinas   \n",
       "4  Santiago Iglesias, Salinas, PR, 00751  Santiago Iglesias  Salinas   \n",
       "\n",
       "       state_x  zip_code  house_size sold_date    id  \\\n",
       "0  Puerto Rico     751.0       870.0      <NA>  2225   \n",
       "1  Puerto Rico     751.0       870.0      <NA>  4536   \n",
       "2  Puerto Rico     751.0        <NA>      <NA>  2225   \n",
       "3  Puerto Rico     751.0        <NA>      <NA>  4536   \n",
       "4  Puerto Rico     751.0        <NA>      <NA>  2225   \n",
       "\n",
       "                        name       date   manner_of_death  armed   age gender  \\\n",
       "0  Marlon Joel Rodas-Sanchez 2017-01-18  shot and Tasered  knife  16.0      M   \n",
       "1   Brenda Rodriguez Mendoza 2019-03-01              shot    gun  20.0      F   \n",
       "2  Marlon Joel Rodas-Sanchez 2017-01-18  shot and Tasered  knife  16.0      M   \n",
       "3   Brenda Rodriguez Mendoza 2019-03-01              shot    gun  20.0      F   \n",
       "4  Marlon Joel Rodas-Sanchez 2017-01-18  shot and Tasered  knife  16.0      M   \n",
       "\n",
       "       race state_y signs_of_mental_illness threat_level         flee  \\\n",
       "0  Hispanic      CA                   False        other  Not fleeing   \n",
       "1  Hispanic      CA                   False        other        Other   \n",
       "2  Hispanic      CA                   False        other  Not fleeing   \n",
       "3  Hispanic      CA                   False        other        Other   \n",
       "4  Hispanic      CA                   False        other  Not fleeing   \n",
       "\n",
       "  body_camera  arms_category  \n",
       "0        True  Sharp objects  \n",
       "1       False           Guns  \n",
       "2        True  Sharp objects  \n",
       "3       False           Guns  \n",
       "4        True  Sharp objects  "
      ]
     },
     "execution_count": 94,
     "metadata": {},
     "output_type": "execute_result"
    }
   ],
   "source": [
    "df1.head()"
   ]
  },
  {
   "cell_type": "code",
   "execution_count": 75,
   "id": "7acc833a",
   "metadata": {},
   "outputs": [],
   "source": [
    "df = df1"
   ]
  },
  {
   "cell_type": "code",
   "execution_count": 76,
   "id": "16de8ca1",
   "metadata": {},
   "outputs": [
    {
     "data": {
      "text/plain": [
       "status                           0\n",
       "price                           28\n",
       "bed                         162874\n",
       "bath                        128205\n",
       "Lot area (acres)            555517\n",
       "Full Address                     0\n",
       "street                           0\n",
       "city                             0\n",
       "state_x                          0\n",
       "Zip code                         2\n",
       "House size (square feet)    326429\n",
       "sold_date                   689929\n",
       "id                               0\n",
       "name                             0\n",
       "date                             0\n",
       "manner_of_death                  0\n",
       "armed                            0\n",
       "age                              0\n",
       "gender                           0\n",
       "race                             0\n",
       "state_y                          0\n",
       "signs_of_mental_illness          0\n",
       "threat_level                     0\n",
       "flee                             0\n",
       "body_camera                      0\n",
       "arms_category                    0\n",
       "dtype: int64"
      ]
     },
     "execution_count": 76,
     "metadata": {},
     "output_type": "execute_result"
    }
   ],
   "source": [
    "df1.isna().sum()"
   ]
  },
  {
   "cell_type": "markdown",
   "id": "4cf521ce",
   "metadata": {},
   "source": [
    "### Renombrar columnas"
   ]
  },
  {
   "cell_type": "code",
   "execution_count": 77,
   "id": "d0353f20",
   "metadata": {},
   "outputs": [],
   "source": [
    "create_column_dict = True\n",
    "\n",
    "if create_column_dict:\n",
    "    column_dict = {}\n",
    "    for col in df.columns:\n",
    "        column_dict[col] = col\n",
    "    column_mapping_file = data_folder / 'column_mapping.json'\n",
    "    with open(column_mapping_file, 'w') as f:\n",
    "        json.dump(column_dict, f)"
   ]
  },
  {
   "cell_type": "code",
   "execution_count": 78,
   "id": "8b7c8fce",
   "metadata": {},
   "outputs": [],
   "source": [
    "column_dict = {\n",
    "  \"acre_lot\": \"Lot area (acres)\",\n",
    "  \"full_address\": \"Full Address\",\n",
    "  \"zip_code\": \"Zip code\",\n",
    "  \"house_size\": \"House size (square feet)\",\n",
    "}"
   ]
  },
  {
   "cell_type": "code",
   "execution_count": 79,
   "id": "17d26148",
   "metadata": {},
   "outputs": [],
   "source": [
    "df = df.rename(columns=column_dict)"
   ]
  },
  {
   "cell_type": "code",
   "execution_count": 80,
   "id": "ca8abb1d",
   "metadata": {},
   "outputs": [
    {
     "name": "stdout",
     "output_type": "stream",
     "text": [
      "<class 'pandas.core.frame.DataFrame'>\n",
      "RangeIndex: 1406743 entries, 0 to 1406742\n",
      "Data columns (total 26 columns):\n",
      " #   Column                    Non-Null Count    Dtype               \n",
      "---  ------                    --------------    -----               \n",
      " 0   status                    1406743 non-null  string[pyarrow]     \n",
      " 1   price                     1406715 non-null  double[pyarrow]     \n",
      " 2   bed                       1243869 non-null  double[pyarrow]     \n",
      " 3   bath                      1278538 non-null  double[pyarrow]     \n",
      " 4   Lot area (acres)          851226 non-null   double[pyarrow]     \n",
      " 5   Full Address              1406743 non-null  string[pyarrow]     \n",
      " 6   street                    1406743 non-null  string[pyarrow]     \n",
      " 7   city                      1406743 non-null  string[pyarrow]     \n",
      " 8   state_x                   1406743 non-null  string[pyarrow]     \n",
      " 9   Zip code                  1406741 non-null  double[pyarrow]     \n",
      " 10  House size (square feet)  1080314 non-null  double[pyarrow]     \n",
      " 11  sold_date                 716814 non-null   date32[day][pyarrow]\n",
      " 12  id                        1406743 non-null  int64[pyarrow]      \n",
      " 13  name                      1406743 non-null  string[pyarrow]     \n",
      " 14  date                      1406743 non-null  date32[day][pyarrow]\n",
      " 15  manner_of_death           1406743 non-null  string[pyarrow]     \n",
      " 16  armed                     1406743 non-null  string[pyarrow]     \n",
      " 17  age                       1406743 non-null  double[pyarrow]     \n",
      " 18  gender                    1406743 non-null  string[pyarrow]     \n",
      " 19  race                      1406743 non-null  string[pyarrow]     \n",
      " 20  state_y                   1406743 non-null  string[pyarrow]     \n",
      " 21  signs_of_mental_illness   1406743 non-null  bool[pyarrow]       \n",
      " 22  threat_level              1406743 non-null  string[pyarrow]     \n",
      " 23  flee                      1406743 non-null  string[pyarrow]     \n",
      " 24  body_camera               1406743 non-null  bool[pyarrow]       \n",
      " 25  arms_category             1406743 non-null  string[pyarrow]     \n",
      "dtypes: bool[pyarrow](2), date32[day][pyarrow](2), double[pyarrow](7), int64[pyarrow](1), string[pyarrow](14)\n",
      "memory usage: 360.5 MB\n"
     ]
    }
   ],
   "source": [
    "df.info()"
   ]
  },
  {
   "cell_type": "markdown",
   "id": "023d8578",
   "metadata": {},
   "source": [
    "### Using map to rename states"
   ]
  },
  {
   "cell_type": "code",
   "execution_count": 81,
   "id": "4ec139d7",
   "metadata": {},
   "outputs": [
    {
     "name": "stdout",
     "output_type": "stream",
     "text": [
      "{'Alabama': 'AL', 'Alaska': 'AK', 'Arizona': 'AZ', 'Arkansas': 'AR', 'California': 'CA', 'Colorado': 'CO', 'Connecticut': 'CT', 'Delaware': 'DE', 'Florida': 'FL', 'Georgia': 'GA', 'Hawaii': 'HI', 'Idaho': 'ID', 'Illinois': 'IL', 'Indiana': 'IN', 'Iowa': 'IA', 'Kansas': 'KS', 'Kentucky': 'KY', 'Louisiana': 'LA', 'Maine': 'ME', 'Maryland': 'MD', 'Massachusetts': 'MA', 'Michigan': 'MI', 'Minnesota': 'MN', 'Mississippi': 'MS', 'Missouri': 'MO', 'Montana': 'MT', 'Nebraska': 'NE', 'Nevada': 'NV', 'New Hampshire': 'NH', 'New Jersey': 'NJ', 'New Mexico': 'NM', 'New York': 'NY', 'North Carolina': 'NC', 'North Dakota': 'ND', 'Ohio': 'OH', 'Oklahoma': 'OK', 'Oregon': 'OR', 'Pennsylvania': 'PA', 'Rhode Island': 'RI', 'South Carolina': 'SC', 'South Dakota': 'SD', 'Tennessee': 'TN', 'Texas': 'TX', 'Utah': 'UT', 'Vermont': 'VT', 'Virginia': 'VA', 'Washington': 'WA', 'West Virginia': 'WV', 'Wisconsin': 'WI', 'Wyoming': 'WY'}\n"
     ]
    }
   ],
   "source": [
    "us_state_file = Path.cwd() / 'us_states.json'\n",
    "\n",
    "with open(us_state_file, 'r') as f:\n",
    "    us_states = json.load(f)\n",
    "    \n",
    "print(us_states)"
   ]
  },
  {
   "cell_type": "code",
   "execution_count": 82,
   "id": "18472e9a",
   "metadata": {},
   "outputs": [
    {
     "ename": "KeyError",
     "evalue": "'state'",
     "output_type": "error",
     "traceback": [
      "\u001b[0;31m---------------------------------------------------------------------------\u001b[0m",
      "\u001b[0;31mKeyError\u001b[0m                                  Traceback (most recent call last)",
      "File \u001b[0;32m~/PycharmProjects/pylearn-data-101/venv/lib/python3.10/site-packages/pandas/core/indexes/base.py:3653\u001b[0m, in \u001b[0;36mIndex.get_loc\u001b[0;34m(self, key)\u001b[0m\n\u001b[1;32m   3652\u001b[0m \u001b[38;5;28;01mtry\u001b[39;00m:\n\u001b[0;32m-> 3653\u001b[0m     \u001b[38;5;28;01mreturn\u001b[39;00m \u001b[38;5;28;43mself\u001b[39;49m\u001b[38;5;241;43m.\u001b[39;49m\u001b[43m_engine\u001b[49m\u001b[38;5;241;43m.\u001b[39;49m\u001b[43mget_loc\u001b[49m\u001b[43m(\u001b[49m\u001b[43mcasted_key\u001b[49m\u001b[43m)\u001b[49m\n\u001b[1;32m   3654\u001b[0m \u001b[38;5;28;01mexcept\u001b[39;00m \u001b[38;5;167;01mKeyError\u001b[39;00m \u001b[38;5;28;01mas\u001b[39;00m err:\n",
      "File \u001b[0;32m~/PycharmProjects/pylearn-data-101/venv/lib/python3.10/site-packages/pandas/_libs/index.pyx:147\u001b[0m, in \u001b[0;36mpandas._libs.index.IndexEngine.get_loc\u001b[0;34m()\u001b[0m\n",
      "File \u001b[0;32m~/PycharmProjects/pylearn-data-101/venv/lib/python3.10/site-packages/pandas/_libs/index.pyx:176\u001b[0m, in \u001b[0;36mpandas._libs.index.IndexEngine.get_loc\u001b[0;34m()\u001b[0m\n",
      "File \u001b[0;32mpandas/_libs/hashtable_class_helper.pxi:7080\u001b[0m, in \u001b[0;36mpandas._libs.hashtable.PyObjectHashTable.get_item\u001b[0;34m()\u001b[0m\n",
      "File \u001b[0;32mpandas/_libs/hashtable_class_helper.pxi:7088\u001b[0m, in \u001b[0;36mpandas._libs.hashtable.PyObjectHashTable.get_item\u001b[0;34m()\u001b[0m\n",
      "\u001b[0;31mKeyError\u001b[0m: 'state'",
      "\nThe above exception was the direct cause of the following exception:\n",
      "\u001b[0;31mKeyError\u001b[0m                                  Traceback (most recent call last)",
      "Cell \u001b[0;32mIn[82], line 1\u001b[0m\n\u001b[0;32m----> 1\u001b[0m df[\u001b[38;5;124m'\u001b[39m\u001b[38;5;124mstate\u001b[39m\u001b[38;5;124m'\u001b[39m]\u001b[38;5;241m=\u001b[39m\u001b[43mdf\u001b[49m\u001b[43m[\u001b[49m\u001b[38;5;124;43m'\u001b[39;49m\u001b[38;5;124;43mstate\u001b[39;49m\u001b[38;5;124;43m'\u001b[39;49m\u001b[43m]\u001b[49m\u001b[38;5;241m.\u001b[39mmap(us_states)\n\u001b[1;32m      3\u001b[0m df[\u001b[38;5;124m'\u001b[39m\u001b[38;5;124mstate\u001b[39m\u001b[38;5;124m'\u001b[39m]\u001b[38;5;241m.\u001b[39mvalue_counts()\n",
      "File \u001b[0;32m~/PycharmProjects/pylearn-data-101/venv/lib/python3.10/site-packages/pandas/core/frame.py:3761\u001b[0m, in \u001b[0;36mDataFrame.__getitem__\u001b[0;34m(self, key)\u001b[0m\n\u001b[1;32m   3759\u001b[0m \u001b[38;5;28;01mif\u001b[39;00m \u001b[38;5;28mself\u001b[39m\u001b[38;5;241m.\u001b[39mcolumns\u001b[38;5;241m.\u001b[39mnlevels \u001b[38;5;241m>\u001b[39m \u001b[38;5;241m1\u001b[39m:\n\u001b[1;32m   3760\u001b[0m     \u001b[38;5;28;01mreturn\u001b[39;00m \u001b[38;5;28mself\u001b[39m\u001b[38;5;241m.\u001b[39m_getitem_multilevel(key)\n\u001b[0;32m-> 3761\u001b[0m indexer \u001b[38;5;241m=\u001b[39m \u001b[38;5;28;43mself\u001b[39;49m\u001b[38;5;241;43m.\u001b[39;49m\u001b[43mcolumns\u001b[49m\u001b[38;5;241;43m.\u001b[39;49m\u001b[43mget_loc\u001b[49m\u001b[43m(\u001b[49m\u001b[43mkey\u001b[49m\u001b[43m)\u001b[49m\n\u001b[1;32m   3762\u001b[0m \u001b[38;5;28;01mif\u001b[39;00m is_integer(indexer):\n\u001b[1;32m   3763\u001b[0m     indexer \u001b[38;5;241m=\u001b[39m [indexer]\n",
      "File \u001b[0;32m~/PycharmProjects/pylearn-data-101/venv/lib/python3.10/site-packages/pandas/core/indexes/base.py:3655\u001b[0m, in \u001b[0;36mIndex.get_loc\u001b[0;34m(self, key)\u001b[0m\n\u001b[1;32m   3653\u001b[0m     \u001b[38;5;28;01mreturn\u001b[39;00m \u001b[38;5;28mself\u001b[39m\u001b[38;5;241m.\u001b[39m_engine\u001b[38;5;241m.\u001b[39mget_loc(casted_key)\n\u001b[1;32m   3654\u001b[0m \u001b[38;5;28;01mexcept\u001b[39;00m \u001b[38;5;167;01mKeyError\u001b[39;00m \u001b[38;5;28;01mas\u001b[39;00m err:\n\u001b[0;32m-> 3655\u001b[0m     \u001b[38;5;28;01mraise\u001b[39;00m \u001b[38;5;167;01mKeyError\u001b[39;00m(key) \u001b[38;5;28;01mfrom\u001b[39;00m \u001b[38;5;21;01merr\u001b[39;00m\n\u001b[1;32m   3656\u001b[0m \u001b[38;5;28;01mexcept\u001b[39;00m \u001b[38;5;167;01mTypeError\u001b[39;00m:\n\u001b[1;32m   3657\u001b[0m     \u001b[38;5;66;03m# If we have a listlike key, _check_indexing_error will raise\u001b[39;00m\n\u001b[1;32m   3658\u001b[0m     \u001b[38;5;66;03m#  InvalidIndexError. Otherwise we fall through and re-raise\u001b[39;00m\n\u001b[1;32m   3659\u001b[0m     \u001b[38;5;66;03m#  the TypeError.\u001b[39;00m\n\u001b[1;32m   3660\u001b[0m     \u001b[38;5;28mself\u001b[39m\u001b[38;5;241m.\u001b[39m_check_indexing_error(key)\n",
      "\u001b[0;31mKeyError\u001b[0m: 'state'"
     ]
    }
   ],
   "source": [
    "df['state']=df['state'].map(us_states)\n",
    "\n",
    "df['state'].value_counts()"
   ]
  },
  {
   "cell_type": "markdown",
   "id": "e4f23897",
   "metadata": {},
   "source": [
    "### Adding income tax"
   ]
  },
  {
   "cell_type": "code",
   "execution_count": 14,
   "id": "7312c3ea",
   "metadata": {},
   "outputs": [],
   "source": [
    "df['bath_tub'] = None"
   ]
  },
  {
   "cell_type": "markdown",
   "id": "8276d44a",
   "metadata": {},
   "source": [
    "\n",
    "### Saving file"
   ]
  },
  {
   "cell_type": "code",
   "execution_count": 15,
   "id": "7b3cd993",
   "metadata": {},
   "outputs": [
    {
     "name": "stdout",
     "output_type": "stream",
     "text": [
      "/home/luiscberrocal/PycharmProjects/pylearn-data-101/data/house_pricing/python-panama-real-estate.csv\n"
     ]
    }
   ],
   "source": [
    "output_file = data_folder / 'python-panama-real-estate.csv'\n",
    "\n",
    "df.to_csv(output_file, index=False)\n",
    "\n",
    "print(output_file)"
   ]
  },
  {
   "cell_type": "markdown",
   "id": "9d7be123",
   "metadata": {},
   "source": [
    "## EDA"
   ]
  },
  {
   "cell_type": "markdown",
   "id": "1e747548",
   "metadata": {},
   "source": [
    "### Revisando los datos de los precios"
   ]
  },
  {
   "cell_type": "code",
   "execution_count": 16,
   "id": "cfd14e2b",
   "metadata": {},
   "outputs": [
    {
     "data": {
      "text/plain": [
       "<Axes: >"
      ]
     },
     "execution_count": 16,
     "metadata": {},
     "output_type": "execute_result"
    },
    {
     "data": {
      "image/png": "[encoded data removed]",
      "text/plain": [
       "<Figure size 640x480 with 1 Axes>"
      ]
     },
     "metadata": {},
     "output_type": "display_data"
    }
   ],
   "source": [
    "df['price'].hist()"
   ]
  },
  {
   "cell_type": "markdown",
   "id": "ee5bb4ab",
   "metadata": {},
   "source": [
    "#### Finding prices == 0.0 "
   ]
  },
  {
   "cell_type": "code",
   "execution_count": 17,
   "id": "b4f1d1ac",
   "metadata": {},
   "outputs": [
    {
     "name": "stdout",
     "output_type": "stream",
     "text": [
      "(39, 13)\n"
     ]
    }
   ],
   "source": [
    "zeros = df.loc[df['price'] == 0.0]\n",
    "\n",
    "print(zeros.shape)"
   ]
  },
  {
   "cell_type": "code",
   "execution_count": 18,
   "id": "ee80d363",
   "metadata": {},
   "outputs": [
    {
     "data": {
      "text/html": [
       "<div>\n",
       "<style scoped>\n",
       "    .dataframe tbody tr th:only-of-type {\n",
       "        vertical-align: middle;\n",
       "    }\n",
       "\n",
       "    .dataframe tbody tr th {\n",
       "        vertical-align: top;\n",
       "    }\n",
       "\n",
       "    .dataframe thead th {\n",
       "        text-align: right;\n",
       "    }\n",
       "</style>\n",
       "<table border=\"1\" class=\"dataframe\">\n",
       "  <thead>\n",
       "    <tr style=\"text-align: right;\">\n",
       "      <th></th>\n",
       "      <th>status</th>\n",
       "      <th>price</th>\n",
       "      <th>bed</th>\n",
       "      <th>bath</th>\n",
       "      <th>Lot area (acres)</th>\n",
       "      <th>Full Address</th>\n",
       "      <th>street</th>\n",
       "      <th>city</th>\n",
       "      <th>state</th>\n",
       "      <th>Zip code</th>\n",
       "      <th>House size (square feet)</th>\n",
       "      <th>sold_date</th>\n",
       "      <th>bath_tub</th>\n",
       "    </tr>\n",
       "  </thead>\n",
       "  <tbody>\n",
       "    <tr>\n",
       "      <th>465599</th>\n",
       "      <td>for_sale</td>\n",
       "      <td>0.0</td>\n",
       "      <td>&lt;NA&gt;</td>\n",
       "      <td>&lt;NA&gt;</td>\n",
       "      <td>0.17</td>\n",
       "      <td>535 E 29th St, Paterson, NJ, 07504</td>\n",
       "      <td>535 E 29th St</td>\n",
       "      <td>Paterson</td>\n",
       "      <td>NJ</td>\n",
       "      <td>7504.0</td>\n",
       "      <td>4500.0</td>\n",
       "      <td>&lt;NA&gt;</td>\n",
       "      <td>None</td>\n",
       "    </tr>\n",
       "    <tr>\n",
       "      <th>465600</th>\n",
       "      <td>for_sale</td>\n",
       "      <td>0.0</td>\n",
       "      <td>&lt;NA&gt;</td>\n",
       "      <td>&lt;NA&gt;</td>\n",
       "      <td>0.22</td>\n",
       "      <td>541 E 29th St, Paterson, NJ, 07504</td>\n",
       "      <td>541 E 29th St</td>\n",
       "      <td>Paterson</td>\n",
       "      <td>NJ</td>\n",
       "      <td>7504.0</td>\n",
       "      <td>5000.0</td>\n",
       "      <td>&lt;NA&gt;</td>\n",
       "      <td>None</td>\n",
       "    </tr>\n",
       "    <tr>\n",
       "      <th>469243</th>\n",
       "      <td>for_sale</td>\n",
       "      <td>0.0</td>\n",
       "      <td>4.0</td>\n",
       "      <td>4.0</td>\n",
       "      <td>&lt;NA&gt;</td>\n",
       "      <td>330 E 38th St Unit 35CD, New York, NY, 10016</td>\n",
       "      <td>330 E 38th St Unit 35CD</td>\n",
       "      <td>New York</td>\n",
       "      <td>NY</td>\n",
       "      <td>10016.0</td>\n",
       "      <td>&lt;NA&gt;</td>\n",
       "      <td>&lt;NA&gt;</td>\n",
       "      <td>None</td>\n",
       "    </tr>\n",
       "    <tr>\n",
       "      <th>472798</th>\n",
       "      <td>for_sale</td>\n",
       "      <td>0.0</td>\n",
       "      <td>&lt;NA&gt;</td>\n",
       "      <td>&lt;NA&gt;</td>\n",
       "      <td>0.17</td>\n",
       "      <td>535 E 29th St, Paterson, NJ, 07504</td>\n",
       "      <td>535 E 29th St</td>\n",
       "      <td>Paterson</td>\n",
       "      <td>NJ</td>\n",
       "      <td>7504.0</td>\n",
       "      <td>4500.0</td>\n",
       "      <td>&lt;NA&gt;</td>\n",
       "      <td>None</td>\n",
       "    </tr>\n",
       "    <tr>\n",
       "      <th>472804</th>\n",
       "      <td>for_sale</td>\n",
       "      <td>0.0</td>\n",
       "      <td>&lt;NA&gt;</td>\n",
       "      <td>&lt;NA&gt;</td>\n",
       "      <td>0.22</td>\n",
       "      <td>541 E 29th St, Paterson, NJ, 07504</td>\n",
       "      <td>541 E 29th St</td>\n",
       "      <td>Paterson</td>\n",
       "      <td>NJ</td>\n",
       "      <td>7504.0</td>\n",
       "      <td>5000.0</td>\n",
       "      <td>&lt;NA&gt;</td>\n",
       "      <td>None</td>\n",
       "    </tr>\n",
       "  </tbody>\n",
       "</table>\n",
       "</div>"
      ],
      "text/plain": [
       "          status  price   bed  bath  Lot area (acres)  \\\n",
       "465599  for_sale    0.0  <NA>  <NA>              0.17   \n",
       "465600  for_sale    0.0  <NA>  <NA>              0.22   \n",
       "469243  for_sale    0.0   4.0   4.0              <NA>   \n",
       "472798  for_sale    0.0  <NA>  <NA>              0.17   \n",
       "472804  for_sale    0.0  <NA>  <NA>              0.22   \n",
       "\n",
       "                                        Full Address                   street  \\\n",
       "465599            535 E 29th St, Paterson, NJ, 07504            535 E 29th St   \n",
       "465600            541 E 29th St, Paterson, NJ, 07504            541 E 29th St   \n",
       "469243  330 E 38th St Unit 35CD, New York, NY, 10016  330 E 38th St Unit 35CD   \n",
       "472798            535 E 29th St, Paterson, NJ, 07504            535 E 29th St   \n",
       "472804            541 E 29th St, Paterson, NJ, 07504            541 E 29th St   \n",
       "\n",
       "            city state  Zip code  House size (square feet) sold_date bath_tub  \n",
       "465599  Paterson    NJ    7504.0                    4500.0      <NA>     None  \n",
       "465600  Paterson    NJ    7504.0                    5000.0      <NA>     None  \n",
       "469243  New York    NY   10016.0                      <NA>      <NA>     None  \n",
       "472798  Paterson    NJ    7504.0                    4500.0      <NA>     None  \n",
       "472804  Paterson    NJ    7504.0                    5000.0      <NA>     None  "
      ]
     },
     "execution_count": 18,
     "metadata": {},
     "output_type": "execute_result"
    }
   ],
   "source": [
    "zeros.head()"
   ]
  },
  {
   "cell_type": "markdown",
   "id": "11bfb9dc",
   "metadata": {},
   "source": [
    "#### Eliminando filas con precio Zero"
   ]
  },
  {
   "cell_type": "code",
   "execution_count": 19,
   "id": "35e43b15",
   "metadata": {},
   "outputs": [],
   "source": [
    "zeros_index = df.loc[df['price'] == 0.0].index"
   ]
  },
  {
   "cell_type": "code",
   "execution_count": 20,
   "id": "29d22bd1",
   "metadata": {},
   "outputs": [],
   "source": [
    "df = df.drop(zeros_index)"
   ]
  },
  {
   "cell_type": "code",
   "execution_count": 21,
   "id": "8d29d71b",
   "metadata": {},
   "outputs": [
    {
     "name": "stdout",
     "output_type": "stream",
     "text": [
      "(733120, 13)\n"
     ]
    }
   ],
   "source": [
    "print(df.shape)"
   ]
  },
  {
   "cell_type": "code",
   "execution_count": 22,
   "id": "c08f6322",
   "metadata": {},
   "outputs": [
    {
     "data": {
      "text/plain": [
       "count    7.330490e+05\n",
       "mean     7.257403e+05\n",
       "std      1.768808e+06\n",
       "min      1.000000e+00\n",
       "25%      2.379000e+05\n",
       "50%      4.190000e+05\n",
       "75%      7.250000e+05\n",
       "max      8.750000e+08\n",
       "Name: price, dtype: double[pyarrow]"
      ]
     },
     "execution_count": 22,
     "metadata": {},
     "output_type": "execute_result"
    }
   ],
   "source": [
    "df['price'].describe()"
   ]
  },
  {
   "cell_type": "markdown",
   "id": "252bd447",
   "metadata": {},
   "source": [
    "#### Buscando valores extremos"
   ]
  },
  {
   "cell_type": "code",
   "execution_count": 23,
   "id": "4d895d9a",
   "metadata": {},
   "outputs": [
    {
     "name": "stdout",
     "output_type": "stream",
     "text": [
      "(2619, 13)\n"
     ]
    }
   ],
   "source": [
    "ext = df.loc[df['price'] >= 1e7]\n",
    "\n",
    "print(ext.shape)"
   ]
  },
  {
   "cell_type": "code",
   "execution_count": 24,
   "id": "6dfb199d",
   "metadata": {},
   "outputs": [
    {
     "data": {
      "text/plain": [
       "state\n",
       "NY    1309\n",
       "MA     809\n",
       "NJ     156\n",
       "CT     119\n",
       "NH      58\n",
       "VT      14\n",
       "PA      13\n",
       "RI       6\n",
       "Name: count, dtype: int64"
      ]
     },
     "execution_count": 24,
     "metadata": {},
     "output_type": "execute_result"
    }
   ],
   "source": [
    "ext['state'].value_counts()"
   ]
  },
  {
   "cell_type": "code",
   "execution_count": 25,
   "id": "f00c1170",
   "metadata": {},
   "outputs": [
    {
     "data": {
      "text/plain": [
       "count    2.619000e+03\n",
       "mean     1.748360e+07\n",
       "std      1.910068e+07\n",
       "min      1.000000e+07\n",
       "25%      1.200000e+07\n",
       "50%      1.495000e+07\n",
       "75%      1.889900e+07\n",
       "max      8.750000e+08\n",
       "Name: price, dtype: double[pyarrow]"
      ]
     },
     "execution_count": 25,
     "metadata": {},
     "output_type": "execute_result"
    }
   ],
   "source": [
    "ext['price'].describe()"
   ]
  },
  {
   "cell_type": "markdown",
   "id": "5aba894c",
   "metadata": {},
   "source": [
    "### Creando campos nuevos"
   ]
  },
  {
   "cell_type": "markdown",
   "id": "306fe206",
   "metadata": {},
   "source": [
    "#### Areas en m2"
   ]
  },
  {
   "cell_type": "code",
   "execution_count": 26,
   "id": "f3272d8c",
   "metadata": {},
   "outputs": [],
   "source": [
    "df['house_size_m2'] = df['House size (square feet)'] * 0.092903\n",
    "df['lot_size_m2'] = df['Lot area (acres)'] * 4046.86"
   ]
  },
  {
   "cell_type": "code",
   "execution_count": 27,
   "id": "49e3fa27",
   "metadata": {},
   "outputs": [
    {
     "data": {
      "text/plain": [
       "count    520756.000000\n",
       "mean        203.685007\n",
       "std         291.852678\n",
       "min           9.290300\n",
       "25%         111.019085\n",
       "50%         159.235742\n",
       "75%         236.623941\n",
       "max      134719.755136\n",
       "Name: house_size_m2, dtype: double[pyarrow]"
      ]
     },
     "execution_count": 27,
     "metadata": {},
     "output_type": "execute_result"
    }
   ],
   "source": [
    "df['house_size_m2'].describe()"
   ]
  },
  {
   "cell_type": "code",
   "execution_count": 28,
   "id": "12e4c13e",
   "metadata": {},
   "outputs": [
    {
     "data": {
      "text/plain": [
       "count    5.723620e+05\n",
       "mean     7.712956e+04\n",
       "std      4.135977e+06\n",
       "min      0.000000e+00\n",
       "25%      5.665604e+02\n",
       "50%      1.416401e+03\n",
       "75%      5.584667e+03\n",
       "max      4.046860e+08\n",
       "Name: lot_size_m2, dtype: double[pyarrow]"
      ]
     },
     "execution_count": 28,
     "metadata": {},
     "output_type": "execute_result"
    }
   ],
   "source": [
    "df['lot_size_m2'].describe()"
   ]
  },
  {
   "cell_type": "markdown",
   "id": "0c83bb62",
   "metadata": {},
   "source": [
    "#### Precio x metro cuadrado de contruccion"
   ]
  },
  {
   "cell_type": "code",
   "execution_count": 29,
   "id": "6f73dec5",
   "metadata": {},
   "outputs": [],
   "source": [
    "df['price_x_m2'] = df['price'] / df['house_size_m2'] "
   ]
  },
  {
   "cell_type": "code",
   "execution_count": 30,
   "id": "a1f7c9fb",
   "metadata": {},
   "outputs": [
    {
     "data": {
      "text/plain": [
       "count    5.206850e+05\n",
       "mean     4.037730e+03\n",
       "std      7.011745e+03\n",
       "min      2.202110e+00\n",
       "25%      1.811236e+03\n",
       "50%      2.690979e+03\n",
       "75%      4.255185e+03\n",
       "max      3.860011e+06\n",
       "Name: price_x_m2, dtype: double[pyarrow]"
      ]
     },
     "execution_count": 30,
     "metadata": {},
     "output_type": "execute_result"
    }
   ],
   "source": [
    "df['price_x_m2'].describe()"
   ]
  },
  {
   "cell_type": "code",
   "execution_count": 31,
   "id": "f82287be",
   "metadata": {},
   "outputs": [
    {
     "data": {
      "text/plain": [
       "<Axes: >"
      ]
     },
     "execution_count": 31,
     "metadata": {},
     "output_type": "execute_result"
    },
    {
     "data": {
      "image/png": "[encoded data removed]",
      "text/plain": [
       "<Figure size 640x480 with 1 Axes>"
      ]
     },
     "metadata": {},
     "output_type": "display_data"
    }
   ],
   "source": [
    "df['price_x_m2'].hist()"
   ]
  },
  {
   "cell_type": "code",
   "execution_count": 32,
   "id": "b3fed082",
   "metadata": {},
   "outputs": [
    {
     "data": {
      "text/plain": [
       "city\n",
       "Boston           31502\n",
       "New York City    15447\n",
       "New York         12971\n",
       "Philadelphia     10416\n",
       "Brooklyn          6914\n",
       "                 ...  \n",
       "Solebury             1\n",
       "Pipersville          1\n",
       "Lumberville          1\n",
       "Kingwood             1\n",
       "Erwinna              1\n",
       "Name: count, Length: 2439, dtype: int64[pyarrow]"
      ]
     },
     "execution_count": 32,
     "metadata": {},
     "output_type": "execute_result"
    }
   ],
   "source": [
    "df['city'].value_counts()"
   ]
  },
  {
   "cell_type": "markdown",
   "id": "3a88bf39",
   "metadata": {},
   "source": [
    "### Revisando valores nulos"
   ]
  },
  {
   "cell_type": "code",
   "execution_count": 33,
   "id": "8ab78419",
   "metadata": {},
   "outputs": [
    {
     "data": {
      "text/plain": [
       "status                           0\n",
       "price                           71\n",
       "bed                         115953\n",
       "bath                        111723\n",
       "Lot area (acres)            160758\n",
       "Full Address                     0\n",
       "street                           0\n",
       "city                             0\n",
       "state                        27252\n",
       "Zip code                       202\n",
       "House size (square feet)    212364\n",
       "sold_date                   385896\n",
       "bath_tub                    733120\n",
       "house_size_m2               212364\n",
       "lot_size_m2                 160758\n",
       "price_x_m2                  212435\n",
       "dtype: int64"
      ]
     },
     "execution_count": 33,
     "metadata": {},
     "output_type": "execute_result"
    }
   ],
   "source": [
    "df.isna().sum()"
   ]
  },
  {
   "cell_type": "code",
   "execution_count": 34,
   "id": "013b379b",
   "metadata": {},
   "outputs": [],
   "source": [
    "df = df.dropna(subset=['house_size_m2', 'lot_size_m2', 'bed', 'bath'])"
   ]
  },
  {
   "cell_type": "code",
   "execution_count": 35,
   "id": "bb710a02",
   "metadata": {},
   "outputs": [
    {
     "name": "stdout",
     "output_type": "stream",
     "text": [
      "(383547, 16)\n"
     ]
    }
   ],
   "source": [
    "print(df.shape)"
   ]
  },
  {
   "cell_type": "code",
   "execution_count": null,
   "id": "9fd9b362",
   "metadata": {},
   "outputs": [],
   "source": []
  }
 ],
 "metadata": {
  "kernelspec": {
   "display_name": "Python 3 (ipykernel)",
   "language": "python",
   "name": "python3"
  },
  "language_info": {
   "codemirror_mode": {
    "name": "ipython",
    "version": 3
   },
   "file_extension": ".py",
   "mimetype": "text/x-python",
   "name": "python",
   "nbconvert_exporter": "python",
   "pygments_lexer": "ipython3",
   "version": "3.10.6"
  },
  "toc": {
   "base_numbering": 1,
   "nav_menu": {},
   "number_sections": true,
   "sideBar": true,
   "skip_h1_title": true,
   "title_cell": "Table of Contents",
   "title_sidebar": "Contents",
   "toc_cell": false,
   "toc_position": {},
   "toc_section_display": true,
   "toc_window_display": true
  }
 },
 "nbformat": 4,
 "nbformat_minor": 5
}
