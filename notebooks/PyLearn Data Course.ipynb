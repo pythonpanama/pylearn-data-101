{
 "cells": [
  {
   "cell_type": "markdown",
   "id": "22882b13",
   "metadata": {},
   "source": [
    "# Py Learn Data Course"
   ]
  },
  {
   "cell_type": "code",
   "execution_count": 1,
   "id": "342f7224",
   "metadata": {},
   "outputs": [],
   "source": [
    "from pathlib import Path\n",
    "import json\n",
    "import csv\n",
    "import time\n",
    "import re\n",
    "\n",
    "import matplotlib.pyplot as plt\n",
    "\n",
    "import numpy as np\n",
    "import pandas as pd\n",
    "from tqdm import tqdm\n",
    "import seaborn as sns\n",
    "pd.set_option('display.max_columns', None)\n",
    "\n",
    "%matplotlib inline"
   ]
  },
  {
   "cell_type": "markdown",
   "id": "f16d3e30",
   "metadata": {},
   "source": [
    "## Configuration"
   ]
  },
  {
   "cell_type": "code",
   "execution_count": 3,
   "id": "1d6ea3c4",
   "metadata": {},
   "outputs": [
    {
     "name": "stdout",
     "output_type": "stream",
     "text": [
      "Folder /home/luiscberrocal/PycharmProjects/pylearn-data-101/data/house_pricing existe: True\n",
      "CSv file: python-panama-real-estate.csv\n"
     ]
    }
   ],
   "source": [
    "data_folder = Path().cwd().parent / 'data' / 'house_pricing'\n",
    "\n",
    "csv_file = data_folder / 'python-panama-real-estate.csv'\n",
    "\n",
    "print(f'Folder {data_folder} existe: {data_folder.exists()}')\n",
    "print(f'CSv file: {csv_file.name}')"
   ]
  },
  {
   "cell_type": "markdown",
   "id": "ca57bcf1",
   "metadata": {},
   "source": [
    "## Loading data"
   ]
  },
  {
   "cell_type": "markdown",
   "id": "e7ab4888",
   "metadata": {},
   "source": [
    "### Normal load"
   ]
  },
  {
   "cell_type": "code",
   "execution_count": 4,
   "id": "3fd6fb93",
   "metadata": {},
   "outputs": [],
   "source": [
    "df = pd.read_csv(csv_file)"
   ]
  },
  {
   "cell_type": "code",
   "execution_count": 5,
   "id": "fcc015a6",
   "metadata": {},
   "outputs": [
    {
     "name": "stdout",
     "output_type": "stream",
     "text": [
      "<class 'pandas.core.frame.DataFrame'>\n",
      "RangeIndex: 733159 entries, 0 to 733158\n",
      "Data columns (total 14 columns):\n",
      " #   Column                    Non-Null Count   Dtype  \n",
      "---  ------                    --------------   -----  \n",
      " 0   status                    733159 non-null  object \n",
      " 1   price                     733088 non-null  float64\n",
      " 2   bed                       617177 non-null  float64\n",
      " 3   bath                      621407 non-null  float64\n",
      " 4   Lot area (acres)          572378 non-null  float64\n",
      " 5   Full Address              733159 non-null  object \n",
      " 6   street                    732069 non-null  object \n",
      " 7   city                      733087 non-null  object \n",
      " 8   state                     705907 non-null  object \n",
      " 9   Zip code                  732957 non-null  float64\n",
      " 10  House size (square feet)  520772 non-null  float64\n",
      " 11  sold_date                 347237 non-null  object \n",
      " 12  shootings_count           293781 non-null  float64\n",
      " 13  bath_tub                  0 non-null       float64\n",
      "dtypes: float64(8), object(6)\n",
      "memory usage: 78.3+ MB\n"
     ]
    }
   ],
   "source": [
    "df.info()"
   ]
  },
  {
   "cell_type": "markdown",
   "id": "d379b3d8",
   "metadata": {},
   "source": [
    "### PyArrow load"
   ]
  },
  {
   "cell_type": "code",
   "execution_count": 6,
   "id": "be553b42",
   "metadata": {},
   "outputs": [],
   "source": [
    "df = pd.read_csv(csv_file, engine='pyarrow', dtype_backend='pyarrow')"
   ]
  },
  {
   "cell_type": "code",
   "execution_count": 16,
   "id": "2431a3ae",
   "metadata": {},
   "outputs": [
    {
     "name": "stdout",
     "output_type": "stream",
     "text": [
      "<class 'pandas.core.frame.DataFrame'>\n",
      "RangeIndex: 733159 entries, 0 to 733158\n",
      "Data columns (total 14 columns):\n",
      " #   Column                    Non-Null Count   Dtype               \n",
      "---  ------                    --------------   -----               \n",
      " 0   status                    733159 non-null  category            \n",
      " 1   price                     733088 non-null  double[pyarrow]     \n",
      " 2   bed                       617177 non-null  double[pyarrow]     \n",
      " 3   bath                      621407 non-null  double[pyarrow]     \n",
      " 4   Lot area (acres)          572378 non-null  double[pyarrow]     \n",
      " 5   Full Address              733159 non-null  string[pyarrow]     \n",
      " 6   street                    733159 non-null  string[pyarrow]     \n",
      " 7   city                      733159 non-null  category            \n",
      " 8   state                     733159 non-null  category            \n",
      " 9   Zip code                  732957 non-null  category            \n",
      " 10  House size (square feet)  520772 non-null  double[pyarrow]     \n",
      " 11  sold_date                 347237 non-null  date32[day][pyarrow]\n",
      " 12  shootings_count           293781 non-null  double[pyarrow]     \n",
      " 13  bath_tub                  0 non-null       null[pyarrow]       \n",
      "dtypes: category(4), date32[day][pyarrow](1), double[pyarrow](6), null[pyarrow](1), string[pyarrow](2)\n",
      "memory usage: 85.3 MB\n"
     ]
    }
   ],
   "source": [
    "df.info()"
   ]
  },
  {
   "cell_type": "markdown",
   "id": "7fa2ea77",
   "metadata": {},
   "source": [
    "#### Setting categories"
   ]
  },
  {
   "cell_type": "code",
   "execution_count": 14,
   "id": "d21f0ca4",
   "metadata": {},
   "outputs": [],
   "source": [
    "df['city'] = df['city'].astype('category')\n",
    "df['state'] = df['state'].astype('category')\n",
    "df['Zip code'] = df['Zip code'].astype('category')\n",
    "df['status'] = df['status'].astype('category')"
   ]
  },
  {
   "cell_type": "code",
   "execution_count": 15,
   "id": "637ddff1",
   "metadata": {},
   "outputs": [
    {
     "data": {
      "text/plain": [
       "status\n",
       "for_sale          731566\n",
       "ready_to_build      1593\n",
       "Name: count, dtype: int64"
      ]
     },
     "execution_count": 15,
     "metadata": {},
     "output_type": "execute_result"
    }
   ],
   "source": [
    "df['status'].value_counts()"
   ]
  },
  {
   "cell_type": "markdown",
   "id": "61245626",
   "metadata": {},
   "source": [
    "## Exploración de datos"
   ]
  },
  {
   "cell_type": "markdown",
   "id": "33fb2781",
   "metadata": {},
   "source": [
    "### Shape"
   ]
  },
  {
   "cell_type": "code",
   "execution_count": 18,
   "id": "6f6b96ae",
   "metadata": {},
   "outputs": [
    {
     "name": "stdout",
     "output_type": "stream",
     "text": [
      "Filas 733,159 Columnas: 14\n"
     ]
    }
   ],
   "source": [
    "print(f'Filas {df.shape[0]:,} Columnas: {df.shape[1]}')"
   ]
  },
  {
   "cell_type": "markdown",
   "id": "3b66cfa1",
   "metadata": {},
   "source": [
    "### Head"
   ]
  },
  {
   "cell_type": "code",
   "execution_count": 17,
   "id": "002ad1b3",
   "metadata": {},
   "outputs": [
    {
     "data": {
      "text/html": [
       "<div>\n",
       "<style scoped>\n",
       "    .dataframe tbody tr th:only-of-type {\n",
       "        vertical-align: middle;\n",
       "    }\n",
       "\n",
       "    .dataframe tbody tr th {\n",
       "        vertical-align: top;\n",
       "    }\n",
       "\n",
       "    .dataframe thead th {\n",
       "        text-align: right;\n",
       "    }\n",
       "</style>\n",
       "<table border=\"1\" class=\"dataframe\">\n",
       "  <thead>\n",
       "    <tr style=\"text-align: right;\">\n",
       "      <th></th>\n",
       "      <th>status</th>\n",
       "      <th>price</th>\n",
       "      <th>bed</th>\n",
       "      <th>bath</th>\n",
       "      <th>Lot area (acres)</th>\n",
       "      <th>Full Address</th>\n",
       "      <th>street</th>\n",
       "      <th>city</th>\n",
       "      <th>state</th>\n",
       "      <th>Zip code</th>\n",
       "      <th>House size (square feet)</th>\n",
       "      <th>sold_date</th>\n",
       "      <th>shootings_count</th>\n",
       "      <th>bath_tub</th>\n",
       "    </tr>\n",
       "  </thead>\n",
       "  <tbody>\n",
       "    <tr>\n",
       "      <th>0</th>\n",
       "      <td>for_sale</td>\n",
       "      <td>105000.0</td>\n",
       "      <td>3.0</td>\n",
       "      <td>2.0</td>\n",
       "      <td>0.12</td>\n",
       "      <td>Sector Yahuecas Titulo # V84, Adjuntas, PR, 00601</td>\n",
       "      <td>Sector Yahuecas Titulo # V84</td>\n",
       "      <td>Adjuntas</td>\n",
       "      <td></td>\n",
       "      <td>601.0</td>\n",
       "      <td>920.0</td>\n",
       "      <td>&lt;NA&gt;</td>\n",
       "      <td>&lt;NA&gt;</td>\n",
       "      <td>&lt;NA&gt;</td>\n",
       "    </tr>\n",
       "    <tr>\n",
       "      <th>1</th>\n",
       "      <td>for_sale</td>\n",
       "      <td>80000.0</td>\n",
       "      <td>4.0</td>\n",
       "      <td>2.0</td>\n",
       "      <td>0.08</td>\n",
       "      <td>Km 78 9 Carr # 135, Adjuntas, PR, 00601</td>\n",
       "      <td>Km 78 9 Carr # 135</td>\n",
       "      <td>Adjuntas</td>\n",
       "      <td></td>\n",
       "      <td>601.0</td>\n",
       "      <td>1527.0</td>\n",
       "      <td>&lt;NA&gt;</td>\n",
       "      <td>&lt;NA&gt;</td>\n",
       "      <td>&lt;NA&gt;</td>\n",
       "    </tr>\n",
       "    <tr>\n",
       "      <th>2</th>\n",
       "      <td>for_sale</td>\n",
       "      <td>67000.0</td>\n",
       "      <td>2.0</td>\n",
       "      <td>1.0</td>\n",
       "      <td>0.15</td>\n",
       "      <td>556G 556-G 16 St, Juana Diaz, PR, 00795</td>\n",
       "      <td>556G 556-G 16 St</td>\n",
       "      <td>Juana Diaz</td>\n",
       "      <td></td>\n",
       "      <td>795.0</td>\n",
       "      <td>748.0</td>\n",
       "      <td>&lt;NA&gt;</td>\n",
       "      <td>&lt;NA&gt;</td>\n",
       "      <td>&lt;NA&gt;</td>\n",
       "    </tr>\n",
       "    <tr>\n",
       "      <th>3</th>\n",
       "      <td>for_sale</td>\n",
       "      <td>145000.0</td>\n",
       "      <td>4.0</td>\n",
       "      <td>2.0</td>\n",
       "      <td>0.10</td>\n",
       "      <td>R5 Comunidad El Paraso Calle De Oro R-5 Ponce,...</td>\n",
       "      <td>R5 Comunidad El Paraso Calle De Oro R-5 Ponce</td>\n",
       "      <td>Ponce</td>\n",
       "      <td></td>\n",
       "      <td>731.0</td>\n",
       "      <td>1800.0</td>\n",
       "      <td>&lt;NA&gt;</td>\n",
       "      <td>&lt;NA&gt;</td>\n",
       "      <td>&lt;NA&gt;</td>\n",
       "    </tr>\n",
       "    <tr>\n",
       "      <th>4</th>\n",
       "      <td>for_sale</td>\n",
       "      <td>65000.0</td>\n",
       "      <td>6.0</td>\n",
       "      <td>2.0</td>\n",
       "      <td>0.05</td>\n",
       "      <td>14 Navarro, Mayaguez, PR, 00680</td>\n",
       "      <td>14 Navarro</td>\n",
       "      <td>Mayaguez</td>\n",
       "      <td></td>\n",
       "      <td>680.0</td>\n",
       "      <td>&lt;NA&gt;</td>\n",
       "      <td>&lt;NA&gt;</td>\n",
       "      <td>&lt;NA&gt;</td>\n",
       "      <td>&lt;NA&gt;</td>\n",
       "    </tr>\n",
       "  </tbody>\n",
       "</table>\n",
       "</div>"
      ],
      "text/plain": [
       "     status     price  bed  bath  Lot area (acres)  \\\n",
       "0  for_sale  105000.0  3.0   2.0              0.12   \n",
       "1  for_sale   80000.0  4.0   2.0              0.08   \n",
       "2  for_sale   67000.0  2.0   1.0              0.15   \n",
       "3  for_sale  145000.0  4.0   2.0              0.10   \n",
       "4  for_sale   65000.0  6.0   2.0              0.05   \n",
       "\n",
       "                                        Full Address  \\\n",
       "0  Sector Yahuecas Titulo # V84, Adjuntas, PR, 00601   \n",
       "1            Km 78 9 Carr # 135, Adjuntas, PR, 00601   \n",
       "2            556G 556-G 16 St, Juana Diaz, PR, 00795   \n",
       "3  R5 Comunidad El Paraso Calle De Oro R-5 Ponce,...   \n",
       "4                    14 Navarro, Mayaguez, PR, 00680   \n",
       "\n",
       "                                          street        city state Zip code  \\\n",
       "0                   Sector Yahuecas Titulo # V84    Adjuntas          601.0   \n",
       "1                             Km 78 9 Carr # 135    Adjuntas          601.0   \n",
       "2                               556G 556-G 16 St  Juana Diaz          795.0   \n",
       "3  R5 Comunidad El Paraso Calle De Oro R-5 Ponce       Ponce          731.0   \n",
       "4                                     14 Navarro    Mayaguez          680.0   \n",
       "\n",
       "   House size (square feet) sold_date  shootings_count bath_tub  \n",
       "0                     920.0      <NA>             <NA>     <NA>  \n",
       "1                    1527.0      <NA>             <NA>     <NA>  \n",
       "2                     748.0      <NA>             <NA>     <NA>  \n",
       "3                    1800.0      <NA>             <NA>     <NA>  \n",
       "4                      <NA>      <NA>             <NA>     <NA>  "
      ]
     },
     "execution_count": 17,
     "metadata": {},
     "output_type": "execute_result"
    }
   ],
   "source": [
    "df.head()"
   ]
  },
  {
   "cell_type": "markdown",
   "id": "076ed035",
   "metadata": {},
   "source": [
    "### Describe"
   ]
  },
  {
   "cell_type": "code",
   "execution_count": 19,
   "id": "98a383db",
   "metadata": {},
   "outputs": [
    {
     "data": {
      "text/html": [
       "<div>\n",
       "<style scoped>\n",
       "    .dataframe tbody tr th:only-of-type {\n",
       "        vertical-align: middle;\n",
       "    }\n",
       "\n",
       "    .dataframe tbody tr th {\n",
       "        vertical-align: top;\n",
       "    }\n",
       "\n",
       "    .dataframe thead th {\n",
       "        text-align: right;\n",
       "    }\n",
       "</style>\n",
       "<table border=\"1\" class=\"dataframe\">\n",
       "  <thead>\n",
       "    <tr style=\"text-align: right;\">\n",
       "      <th></th>\n",
       "      <th>price</th>\n",
       "      <th>bed</th>\n",
       "      <th>bath</th>\n",
       "      <th>Lot area (acres)</th>\n",
       "      <th>House size (square feet)</th>\n",
       "      <th>sold_date</th>\n",
       "      <th>shootings_count</th>\n",
       "    </tr>\n",
       "  </thead>\n",
       "  <tbody>\n",
       "    <tr>\n",
       "      <th>count</th>\n",
       "      <td>7.330880e+05</td>\n",
       "      <td>617177.000000</td>\n",
       "      <td>621407.000000</td>\n",
       "      <td>572378.000000</td>\n",
       "      <td>5.207720e+05</td>\n",
       "      <td>347237</td>\n",
       "      <td>293781.000000</td>\n",
       "    </tr>\n",
       "    <tr>\n",
       "      <th>mean</th>\n",
       "      <td>7.257017e+05</td>\n",
       "      <td>3.422041</td>\n",
       "      <td>2.540473</td>\n",
       "      <td>19.058585</td>\n",
       "      <td>2.192527e+03</td>\n",
       "      <td>2008-11-08</td>\n",
       "      <td>4.788407</td>\n",
       "    </tr>\n",
       "    <tr>\n",
       "      <th>min</th>\n",
       "      <td>0.000000e+00</td>\n",
       "      <td>1.000000</td>\n",
       "      <td>1.000000</td>\n",
       "      <td>0.000000</td>\n",
       "      <td>1.000000e+02</td>\n",
       "      <td>1901-01-01</td>\n",
       "      <td>1.000000</td>\n",
       "    </tr>\n",
       "    <tr>\n",
       "      <th>25%</th>\n",
       "      <td>2.375000e+05</td>\n",
       "      <td>2.000000</td>\n",
       "      <td>2.000000</td>\n",
       "      <td>0.140000</td>\n",
       "      <td>1.195000e+03</td>\n",
       "      <td>2002-08-26</td>\n",
       "      <td>1.000000</td>\n",
       "    </tr>\n",
       "    <tr>\n",
       "      <th>50%</th>\n",
       "      <td>4.190000e+05</td>\n",
       "      <td>3.000000</td>\n",
       "      <td>2.000000</td>\n",
       "      <td>0.350000</td>\n",
       "      <td>1.714000e+03</td>\n",
       "      <td>2009-07-22</td>\n",
       "      <td>3.000000</td>\n",
       "    </tr>\n",
       "    <tr>\n",
       "      <th>75%</th>\n",
       "      <td>7.250000e+05</td>\n",
       "      <td>4.000000</td>\n",
       "      <td>3.000000</td>\n",
       "      <td>1.380000</td>\n",
       "      <td>2.547250e+03</td>\n",
       "      <td>2017-10-12</td>\n",
       "      <td>7.000000</td>\n",
       "    </tr>\n",
       "    <tr>\n",
       "      <th>max</th>\n",
       "      <td>8.750000e+08</td>\n",
       "      <td>123.000000</td>\n",
       "      <td>198.000000</td>\n",
       "      <td>100000.000000</td>\n",
       "      <td>1.450112e+06</td>\n",
       "      <td>2023-03-01</td>\n",
       "      <td>36.000000</td>\n",
       "    </tr>\n",
       "    <tr>\n",
       "      <th>std</th>\n",
       "      <td>1.768769e+06</td>\n",
       "      <td>2.028735</td>\n",
       "      <td>2.002442</td>\n",
       "      <td>1022.007111</td>\n",
       "      <td>3.141461e+03</td>\n",
       "      <td>NaN</td>\n",
       "      <td>5.367337</td>\n",
       "    </tr>\n",
       "  </tbody>\n",
       "</table>\n",
       "</div>"
      ],
      "text/plain": [
       "              price            bed           bath  Lot area (acres)  \\\n",
       "count  7.330880e+05  617177.000000  621407.000000     572378.000000   \n",
       "mean   7.257017e+05       3.422041       2.540473         19.058585   \n",
       "min    0.000000e+00       1.000000       1.000000          0.000000   \n",
       "25%    2.375000e+05       2.000000       2.000000          0.140000   \n",
       "50%    4.190000e+05       3.000000       2.000000          0.350000   \n",
       "75%    7.250000e+05       4.000000       3.000000          1.380000   \n",
       "max    8.750000e+08     123.000000     198.000000     100000.000000   \n",
       "std    1.768769e+06       2.028735       2.002442       1022.007111   \n",
       "\n",
       "       House size (square feet)   sold_date  shootings_count  \n",
       "count              5.207720e+05      347237    293781.000000  \n",
       "mean               2.192527e+03  2008-11-08         4.788407  \n",
       "min                1.000000e+02  1901-01-01         1.000000  \n",
       "25%                1.195000e+03  2002-08-26         1.000000  \n",
       "50%                1.714000e+03  2009-07-22         3.000000  \n",
       "75%                2.547250e+03  2017-10-12         7.000000  \n",
       "max                1.450112e+06  2023-03-01        36.000000  \n",
       "std                3.141461e+03         NaN         5.367337  "
      ]
     },
     "execution_count": 19,
     "metadata": {},
     "output_type": "execute_result"
    }
   ],
   "source": [
    "df.describe()"
   ]
  },
  {
   "cell_type": "markdown",
   "id": "742fec2e",
   "metadata": {},
   "source": [
    "### Histogramas"
   ]
  },
  {
   "cell_type": "code",
   "execution_count": 22,
   "id": "7771dde4",
   "metadata": {},
   "outputs": [
    {
     "data": {
      "text/plain": [
       "<Axes: >"
      ]
     },
     "execution_count": 22,
     "metadata": {},
     "output_type": "execute_result"
    },
    {
     "data": {
      "image/png": "[encoded data removed]",
      "text/plain": [
       "<Figure size 640x480 with 1 Axes>"
      ]
     },
     "metadata": {},
     "output_type": "display_data"
    }
   ],
   "source": [
    "df['price'].hist(bins=10)"
   ]
  },
  {
   "cell_type": "code",
   "execution_count": 24,
   "id": "3bb8032f",
   "metadata": {},
   "outputs": [
    {
     "data": {
      "text/plain": [
       "<Axes: >"
      ]
     },
     "execution_count": 24,
     "metadata": {},
     "output_type": "execute_result"
    },
    {
     "data": {
      "image/png": "[encoded data removed]",
      "text/plain": [
       "<Figure size 640x480 with 1 Axes>"
      ]
     },
     "metadata": {},
     "output_type": "display_data"
    }
   ],
   "source": [
    "df['bed'].hist(bins=50)"
   ]
  },
  {
   "cell_type": "markdown",
   "id": "cb565d67",
   "metadata": {},
   "source": [
    "### Valores Nulos"
   ]
  },
  {
   "cell_type": "code",
   "execution_count": 20,
   "id": "4c33b1b3",
   "metadata": {},
   "outputs": [
    {
     "data": {
      "text/plain": [
       "status                           0\n",
       "price                           71\n",
       "bed                         115982\n",
       "bath                        111752\n",
       "Lot area (acres)            160781\n",
       "Full Address                     0\n",
       "street                           0\n",
       "city                             0\n",
       "state                            0\n",
       "Zip code                       202\n",
       "House size (square feet)    212387\n",
       "sold_date                   385922\n",
       "shootings_count             439378\n",
       "bath_tub                    733159\n",
       "dtype: int64"
      ]
     },
     "execution_count": 20,
     "metadata": {},
     "output_type": "execute_result"
    }
   ],
   "source": [
    "df.isna().sum()"
   ]
  },
  {
   "cell_type": "markdown",
   "id": "29fc4fe3",
   "metadata": {},
   "source": [
    "## Limpieza de datos"
   ]
  },
  {
   "cell_type": "markdown",
   "id": "50313326",
   "metadata": {},
   "source": [
    "### Camas"
   ]
  },
  {
   "cell_type": "code",
   "execution_count": 29,
   "id": "fc55ea40",
   "metadata": {},
   "outputs": [
    {
     "name": "stdout",
     "output_type": "stream",
     "text": [
      "Promedio: 3.42 Desviacion standard 2.03\n",
      "Outliers: +/- 9.51\n"
     ]
    }
   ],
   "source": [
    "bed_mean = df['bed'].mean()\n",
    "bed_std = df['bed'].std()\n",
    "\n",
    "print(f'Promedio: {bed_mean:.2f} Desviacion standard {bed_std:.2f}')\n",
    "outliers = bed_mean + 3 * bed_std\n",
    "\n",
    "print(f'Outliers: +/- {outliers:.2f}')"
   ]
  },
  {
   "cell_type": "code",
   "execution_count": 30,
   "id": "bdc63d47",
   "metadata": {},
   "outputs": [
    {
     "name": "stdout",
     "output_type": "stream",
     "text": [
      "(6651, 14)\n"
     ]
    }
   ],
   "source": [
    "beds = df.loc[df['bed'] >= outliers]\n",
    "\n",
    "print(beds.shape)"
   ]
  },
  {
   "cell_type": "code",
   "execution_count": 31,
   "id": "c756ba9c",
   "metadata": {},
   "outputs": [
    {
     "data": {
      "text/plain": [
       "count    6651.000000\n",
       "mean       13.831454\n",
       "std         8.738370\n",
       "min        10.000000\n",
       "25%        10.000000\n",
       "50%        12.000000\n",
       "75%        14.000000\n",
       "max       123.000000\n",
       "Name: bed, dtype: double[pyarrow]"
      ]
     },
     "execution_count": 31,
     "metadata": {},
     "output_type": "execute_result"
    }
   ],
   "source": [
    "beds['bed'].describe()"
   ]
  },
  {
   "cell_type": "code",
   "execution_count": 32,
   "id": "d232a54c",
   "metadata": {},
   "outputs": [],
   "source": [
    "df = df.drop(beds.index)"
   ]
  },
  {
   "cell_type": "code",
   "execution_count": 37,
   "id": "c087985b",
   "metadata": {},
   "outputs": [
    {
     "data": {
      "text/plain": [
       "<Axes: >"
      ]
     },
     "execution_count": 37,
     "metadata": {},
     "output_type": "execute_result"
    },
    {
     "data": {
      "image/png": "[encoded data removed]",
      "text/plain": [
       "<Figure size 640x480 with 1 Axes>"
      ]
     },
     "metadata": {},
     "output_type": "display_data"
    }
   ],
   "source": [
    "df['bed'].hist(bins=20)"
   ]
  },
  {
   "cell_type": "markdown",
   "id": "cc497ce6",
   "metadata": {},
   "source": [
    "### Banos"
   ]
  },
  {
   "cell_type": "code",
   "execution_count": 36,
   "id": "ee8b1db4",
   "metadata": {},
   "outputs": [
    {
     "data": {
      "text/plain": [
       "count    614830.000000\n",
       "mean          2.478714\n",
       "std           1.364895\n",
       "min           1.000000\n",
       "25%           2.000000\n",
       "50%           2.000000\n",
       "75%           3.000000\n",
       "max          29.000000\n",
       "Name: bath, dtype: double[pyarrow]"
      ]
     },
     "execution_count": 36,
     "metadata": {},
     "output_type": "execute_result"
    }
   ],
   "source": [
    "df['bath'].describe()"
   ]
  },
  {
   "cell_type": "code",
   "execution_count": 38,
   "id": "445b8e98",
   "metadata": {},
   "outputs": [
    {
     "name": "stdout",
     "output_type": "stream",
     "text": [
      "Promedio: 2.48 Desviacion standard 1.36\n",
      "Outliers: +/- 6.57\n"
     ]
    }
   ],
   "source": [
    "bath_mean = df['bath'].mean()\n",
    "bath_std = df['bath'].std()\n",
    "\n",
    "print(f'Promedio: {bath_mean:.2f} Desviacion standard {bath_std:.2f}')\n",
    "bath_outliers = bath_mean + 3 * bath_std\n",
    "\n",
    "print(f'Outliers: +/- {bath_outliers:.2f}')"
   ]
  },
  {
   "cell_type": "code",
   "execution_count": 39,
   "id": "b3299be5",
   "metadata": {},
   "outputs": [
    {
     "name": "stdout",
     "output_type": "stream",
     "text": [
      "(1687, 14)\n"
     ]
    }
   ],
   "source": [
    "baths = df.loc[df['bath'] >= outliers]\n",
    "\n",
    "print(baths.shape)"
   ]
  },
  {
   "cell_type": "code",
   "execution_count": 40,
   "id": "11253038",
   "metadata": {},
   "outputs": [
    {
     "data": {
      "text/plain": [
       "count    1687.000000\n",
       "mean       11.548903\n",
       "std         2.585400\n",
       "min        10.000000\n",
       "25%        10.000000\n",
       "50%        11.000000\n",
       "75%        12.000000\n",
       "max        29.000000\n",
       "Name: bath, dtype: double[pyarrow]"
      ]
     },
     "execution_count": 40,
     "metadata": {},
     "output_type": "execute_result"
    }
   ],
   "source": [
    "baths['bath'].describe()"
   ]
  },
  {
   "cell_type": "code",
   "execution_count": 41,
   "id": "79a43d37",
   "metadata": {},
   "outputs": [],
   "source": [
    "df = df.drop(baths.index)"
   ]
  },
  {
   "cell_type": "code",
   "execution_count": 43,
   "id": "f177f359",
   "metadata": {},
   "outputs": [
    {
     "data": {
      "text/plain": [
       "<Axes: >"
      ]
     },
     "execution_count": 43,
     "metadata": {},
     "output_type": "execute_result"
    },
    {
     "data": {
      "image/png": "[encoded data removed]",
      "text/plain": [
       "<Figure size 640x480 with 1 Axes>"
      ]
     },
     "metadata": {},
     "output_type": "display_data"
    }
   ],
   "source": [
    "df['bath'].hist(bins=10)"
   ]
  },
  {
   "cell_type": "markdown",
   "id": "852d745e",
   "metadata": {},
   "source": [
    "### Precio"
   ]
  },
  {
   "cell_type": "markdown",
   "id": "f9eb20b5",
   "metadata": {},
   "source": [
    "#### Valores extremos"
   ]
  },
  {
   "cell_type": "code",
   "execution_count": 47,
   "id": "1fe57de2",
   "metadata": {},
   "outputs": [
    {
     "data": {
      "text/plain": [
       "count    7.247110e+05\n",
       "mean     6.938631e+05\n",
       "std      1.637554e+06\n",
       "min      1.000000e+00\n",
       "25%      2.350000e+05\n",
       "50%      4.100000e+05\n",
       "75%      7.099000e+05\n",
       "max      8.750000e+08\n",
       "Name: price, dtype: double[pyarrow]"
      ]
     },
     "execution_count": 47,
     "metadata": {},
     "output_type": "execute_result"
    }
   ],
   "source": [
    "df['price'].describe()"
   ]
  },
  {
   "cell_type": "code",
   "execution_count": 52,
   "id": "275c5c95",
   "metadata": {},
   "outputs": [
    {
     "name": "stdout",
     "output_type": "stream",
     "text": [
      "Promedio: 693,863.10 Desviacion standard 1,637,554.02\n",
      "Outliers: +/- 5,606,525.15\n"
     ]
    }
   ],
   "source": [
    "price_mean = df['price'].mean()\n",
    "price_std = df['price'].std()\n",
    "\n",
    "print(f'Promedio: {price_mean:,.2f} Desviacion standard {price_std:,.2f}')\n",
    "price_outliers = price_mean + 3 * price_std\n",
    "\n",
    "print(f'Outliers: +/- {price_outliers:,.2f}')"
   ]
  },
  {
   "cell_type": "code",
   "execution_count": 53,
   "id": "73ab402e",
   "metadata": {},
   "outputs": [
    {
     "data": {
      "text/plain": [
       "(6736, 14)"
      ]
     },
     "execution_count": 53,
     "metadata": {},
     "output_type": "execute_result"
    }
   ],
   "source": [
    "extreme = df.loc[df['price'] >= price_outliers]\n",
    "\n",
    "extreme.shape"
   ]
  },
  {
   "cell_type": "code",
   "execution_count": 54,
   "id": "b325a7ce",
   "metadata": {},
   "outputs": [
    {
     "data": {
      "text/plain": [
       "(718046, 14)"
      ]
     },
     "execution_count": 54,
     "metadata": {},
     "output_type": "execute_result"
    }
   ],
   "source": [
    "df = df.drop(extreme.index)\n",
    "\n",
    "df.shape"
   ]
  },
  {
   "cell_type": "code",
   "execution_count": 56,
   "id": "2467a6b8",
   "metadata": {},
   "outputs": [
    {
     "data": {
      "text/plain": [
       "<Axes: >"
      ]
     },
     "execution_count": 56,
     "metadata": {},
     "output_type": "execute_result"
    },
    {
     "data": {
      "image/png": "[encoded data removed]",
      "text/plain": [
       "<Figure size 640x480 with 1 Axes>"
      ]
     },
     "metadata": {},
     "output_type": "display_data"
    }
   ],
   "source": [
    "df['price'].hist(bins=20)"
   ]
  },
  {
   "cell_type": "code",
   "execution_count": null,
   "id": "768e9660",
   "metadata": {},
   "outputs": [],
   "source": []
  }
 ],
 "metadata": {
  "kernelspec": {
   "display_name": "Python 3 (ipykernel)",
   "language": "python",
   "name": "python3"
  },
  "language_info": {
   "codemirror_mode": {
    "name": "ipython",
    "version": 3
   },
   "file_extension": ".py",
   "mimetype": "text/x-python",
   "name": "python",
   "nbconvert_exporter": "python",
   "pygments_lexer": "ipython3",
   "version": "3.10.6"
  },
  "toc": {
   "base_numbering": 1,
   "nav_menu": {},
   "number_sections": true,
   "sideBar": true,
   "skip_h1_title": true,
   "title_cell": "Table of Contents",
   "title_sidebar": "Contents",
   "toc_cell": false,
   "toc_position": {},
   "toc_section_display": true,
   "toc_window_display": true
  }
 },
 "nbformat": 4,
 "nbformat_minor": 5
}
