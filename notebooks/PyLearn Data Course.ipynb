{
 "cells": [
  {
   "cell_type": "markdown",
   "id": "719dcb50",
   "metadata": {},
   "source": [
    "# Py Learn Data Course"
   ]
  },
  {
   "cell_type": "code",
   "execution_count": 1,
   "id": "8853533b",
   "metadata": {},
   "outputs": [],
   "source": [
    "from pathlib import Path\n",
    "import json\n",
    "import csv\n",
    "import time\n",
    "import re\n",
    "\n",
    "import matplotlib.pyplot as plt\n",
    "\n",
    "import numpy as np\n",
    "import pandas as pd\n",
    "from tqdm import tqdm\n",
    "import seaborn as sns\n",
    "pd.set_option('display.max_columns', None)\n",
    "\n",
    "%matplotlib inline"
   ]
  },
  {
   "cell_type": "markdown",
   "id": "3fdba0b0",
   "metadata": {},
   "source": [
    "## Configuration"
   ]
  },
  {
   "cell_type": "code",
   "execution_count": 3,
   "id": "c3d7ab89",
   "metadata": {},
   "outputs": [
    {
     "name": "stdout",
     "output_type": "stream",
     "text": [
      "Folder /home/luiscberrocal/PycharmProjects/pylearn-data-101/data/house_pricing existe: True\n",
      "CSv file: python-panama-real-estate.csv\n"
     ]
    }
   ],
   "source": [
    "data_folder = Path().cwd().parent / 'data' / 'house_pricing'\n",
    "\n",
    "csv_file = data_folder / 'python-panama-real-estate.csv'\n",
    "\n",
    "print(f'Folder {data_folder} existe: {data_folder.exists()}')\n",
    "print(f'CSv file: {csv_file.name}')"
   ]
  },
  {
   "cell_type": "markdown",
   "id": "627782c7",
   "metadata": {},
   "source": [
    "## Loading data"
   ]
  },
  {
   "cell_type": "markdown",
   "id": "d0b0e8f5",
   "metadata": {},
   "source": [
    "### Normal load"
   ]
  },
  {
   "cell_type": "code",
   "execution_count": 4,
   "id": "c8127225",
   "metadata": {},
   "outputs": [],
   "source": [
    "df = pd.read_csv(csv_file)"
   ]
  },
  {
   "cell_type": "code",
   "execution_count": 5,
   "id": "b8fca9bf",
   "metadata": {},
   "outputs": [
    {
     "name": "stdout",
     "output_type": "stream",
     "text": [
      "<class 'pandas.core.frame.DataFrame'>\n",
      "RangeIndex: 733159 entries, 0 to 733158\n",
      "Data columns (total 14 columns):\n",
      " #   Column                    Non-Null Count   Dtype  \n",
      "---  ------                    --------------   -----  \n",
      " 0   status                    733159 non-null  object \n",
      " 1   price                     733088 non-null  float64\n",
      " 2   bed                       617177 non-null  float64\n",
      " 3   bath                      621407 non-null  float64\n",
      " 4   Lot area (acres)          572378 non-null  float64\n",
      " 5   Full Address              733159 non-null  object \n",
      " 6   street                    732069 non-null  object \n",
      " 7   city                      733087 non-null  object \n",
      " 8   state                     705907 non-null  object \n",
      " 9   Zip code                  732957 non-null  float64\n",
      " 10  House size (square feet)  520772 non-null  float64\n",
      " 11  sold_date                 347237 non-null  object \n",
      " 12  shootings_count           293781 non-null  float64\n",
      " 13  bath_tub                  0 non-null       float64\n",
      "dtypes: float64(8), object(6)\n",
      "memory usage: 78.3+ MB\n"
     ]
    }
   ],
   "source": [
    "df.info()"
   ]
  },
  {
   "cell_type": "markdown",
   "id": "18498fb7",
   "metadata": {},
   "source": [
    "### PyArrow load"
   ]
  },
  {
   "cell_type": "code",
   "execution_count": 85,
   "id": "10bb99de",
   "metadata": {},
   "outputs": [],
   "source": [
    "df = pd.read_csv(csv_file, engine='pyarrow', dtype_backend='pyarrow')"
   ]
  },
  {
   "cell_type": "code",
   "execution_count": 86,
   "id": "9c82cdd4",
   "metadata": {},
   "outputs": [
    {
     "name": "stdout",
     "output_type": "stream",
     "text": [
      "<class 'pandas.core.frame.DataFrame'>\n",
      "RangeIndex: 733159 entries, 0 to 733158\n",
      "Data columns (total 14 columns):\n",
      " #   Column                    Non-Null Count   Dtype               \n",
      "---  ------                    --------------   -----               \n",
      " 0   status                    733159 non-null  string[pyarrow]     \n",
      " 1   price                     733088 non-null  double[pyarrow]     \n",
      " 2   bed                       617177 non-null  double[pyarrow]     \n",
      " 3   bath                      621407 non-null  double[pyarrow]     \n",
      " 4   Lot area (acres)          572378 non-null  double[pyarrow]     \n",
      " 5   Full Address              733159 non-null  string[pyarrow]     \n",
      " 6   street                    733159 non-null  string[pyarrow]     \n",
      " 7   city                      733159 non-null  string[pyarrow]     \n",
      " 8   state                     733159 non-null  string[pyarrow]     \n",
      " 9   Zip code                  732957 non-null  double[pyarrow]     \n",
      " 10  House size (square feet)  520772 non-null  double[pyarrow]     \n",
      " 11  sold_date                 347237 non-null  date32[day][pyarrow]\n",
      " 12  shootings_count           293781 non-null  double[pyarrow]     \n",
      " 13  bath_tub                  0 non-null       null[pyarrow]       \n",
      "dtypes: date32[day][pyarrow](1), double[pyarrow](7), null[pyarrow](1), string[pyarrow](5)\n",
      "memory usage: 108.2 MB\n"
     ]
    }
   ],
   "source": [
    "df.info()"
   ]
  },
  {
   "cell_type": "markdown",
   "id": "10eb3d1b",
   "metadata": {},
   "source": [
    "#### Setting categories"
   ]
  },
  {
   "cell_type": "code",
   "execution_count": 87,
   "id": "3c7d9ed6",
   "metadata": {},
   "outputs": [],
   "source": [
    "df['city'] = df['city'].astype('category')\n",
    "df['state'] = df['state'].astype('category')\n",
    "df['Zip code'] = df['Zip code'].astype('category')\n",
    "df['status'] = df['status'].astype('category')"
   ]
  },
  {
   "cell_type": "code",
   "execution_count": 88,
   "id": "885e290e",
   "metadata": {},
   "outputs": [
    {
     "data": {
      "text/plain": [
       "status\n",
       "for_sale          731566\n",
       "ready_to_build      1593\n",
       "Name: count, dtype: int64"
      ]
     },
     "execution_count": 88,
     "metadata": {},
     "output_type": "execute_result"
    }
   ],
   "source": [
    "df['status'].value_counts()"
   ]
  },
  {
   "cell_type": "markdown",
   "id": "2791c121",
   "metadata": {},
   "source": [
    "## Exploración de datos"
   ]
  },
  {
   "cell_type": "markdown",
   "id": "e1e797d3",
   "metadata": {},
   "source": [
    "### Shape"
   ]
  },
  {
   "cell_type": "code",
   "execution_count": 89,
   "id": "64dc6ca8",
   "metadata": {},
   "outputs": [
    {
     "name": "stdout",
     "output_type": "stream",
     "text": [
      "Filas 733,159 Columnas: 14\n"
     ]
    }
   ],
   "source": [
    "print(f'Filas {df.shape[0]:,} Columnas: {df.shape[1]}')"
   ]
  },
  {
   "cell_type": "markdown",
   "id": "bf081bee",
   "metadata": {},
   "source": [
    "### Head"
   ]
  },
  {
   "cell_type": "code",
   "execution_count": 90,
   "id": "b7cfd6f2",
   "metadata": {},
   "outputs": [
    {
     "data": {
      "text/html": [
       "<div>\n",
       "<style scoped>\n",
       "    .dataframe tbody tr th:only-of-type {\n",
       "        vertical-align: middle;\n",
       "    }\n",
       "\n",
       "    .dataframe tbody tr th {\n",
       "        vertical-align: top;\n",
       "    }\n",
       "\n",
       "    .dataframe thead th {\n",
       "        text-align: right;\n",
       "    }\n",
       "</style>\n",
       "<table border=\"1\" class=\"dataframe\">\n",
       "  <thead>\n",
       "    <tr style=\"text-align: right;\">\n",
       "      <th></th>\n",
       "      <th>status</th>\n",
       "      <th>price</th>\n",
       "      <th>bed</th>\n",
       "      <th>bath</th>\n",
       "      <th>Lot area (acres)</th>\n",
       "      <th>Full Address</th>\n",
       "      <th>street</th>\n",
       "      <th>city</th>\n",
       "      <th>state</th>\n",
       "      <th>Zip code</th>\n",
       "      <th>House size (square feet)</th>\n",
       "      <th>sold_date</th>\n",
       "      <th>shootings_count</th>\n",
       "      <th>bath_tub</th>\n",
       "    </tr>\n",
       "  </thead>\n",
       "  <tbody>\n",
       "    <tr>\n",
       "      <th>0</th>\n",
       "      <td>for_sale</td>\n",
       "      <td>105000.0</td>\n",
       "      <td>3.0</td>\n",
       "      <td>2.0</td>\n",
       "      <td>0.12</td>\n",
       "      <td>Sector Yahuecas Titulo # V84, Adjuntas, PR, 00601</td>\n",
       "      <td>Sector Yahuecas Titulo # V84</td>\n",
       "      <td>Adjuntas</td>\n",
       "      <td></td>\n",
       "      <td>601.0</td>\n",
       "      <td>920.0</td>\n",
       "      <td>&lt;NA&gt;</td>\n",
       "      <td>&lt;NA&gt;</td>\n",
       "      <td>&lt;NA&gt;</td>\n",
       "    </tr>\n",
       "    <tr>\n",
       "      <th>1</th>\n",
       "      <td>for_sale</td>\n",
       "      <td>80000.0</td>\n",
       "      <td>4.0</td>\n",
       "      <td>2.0</td>\n",
       "      <td>0.08</td>\n",
       "      <td>Km 78 9 Carr # 135, Adjuntas, PR, 00601</td>\n",
       "      <td>Km 78 9 Carr # 135</td>\n",
       "      <td>Adjuntas</td>\n",
       "      <td></td>\n",
       "      <td>601.0</td>\n",
       "      <td>1527.0</td>\n",
       "      <td>&lt;NA&gt;</td>\n",
       "      <td>&lt;NA&gt;</td>\n",
       "      <td>&lt;NA&gt;</td>\n",
       "    </tr>\n",
       "    <tr>\n",
       "      <th>2</th>\n",
       "      <td>for_sale</td>\n",
       "      <td>67000.0</td>\n",
       "      <td>2.0</td>\n",
       "      <td>1.0</td>\n",
       "      <td>0.15</td>\n",
       "      <td>556G 556-G 16 St, Juana Diaz, PR, 00795</td>\n",
       "      <td>556G 556-G 16 St</td>\n",
       "      <td>Juana Diaz</td>\n",
       "      <td></td>\n",
       "      <td>795.0</td>\n",
       "      <td>748.0</td>\n",
       "      <td>&lt;NA&gt;</td>\n",
       "      <td>&lt;NA&gt;</td>\n",
       "      <td>&lt;NA&gt;</td>\n",
       "    </tr>\n",
       "    <tr>\n",
       "      <th>3</th>\n",
       "      <td>for_sale</td>\n",
       "      <td>145000.0</td>\n",
       "      <td>4.0</td>\n",
       "      <td>2.0</td>\n",
       "      <td>0.10</td>\n",
       "      <td>R5 Comunidad El Paraso Calle De Oro R-5 Ponce,...</td>\n",
       "      <td>R5 Comunidad El Paraso Calle De Oro R-5 Ponce</td>\n",
       "      <td>Ponce</td>\n",
       "      <td></td>\n",
       "      <td>731.0</td>\n",
       "      <td>1800.0</td>\n",
       "      <td>&lt;NA&gt;</td>\n",
       "      <td>&lt;NA&gt;</td>\n",
       "      <td>&lt;NA&gt;</td>\n",
       "    </tr>\n",
       "    <tr>\n",
       "      <th>4</th>\n",
       "      <td>for_sale</td>\n",
       "      <td>65000.0</td>\n",
       "      <td>6.0</td>\n",
       "      <td>2.0</td>\n",
       "      <td>0.05</td>\n",
       "      <td>14 Navarro, Mayaguez, PR, 00680</td>\n",
       "      <td>14 Navarro</td>\n",
       "      <td>Mayaguez</td>\n",
       "      <td></td>\n",
       "      <td>680.0</td>\n",
       "      <td>&lt;NA&gt;</td>\n",
       "      <td>&lt;NA&gt;</td>\n",
       "      <td>&lt;NA&gt;</td>\n",
       "      <td>&lt;NA&gt;</td>\n",
       "    </tr>\n",
       "  </tbody>\n",
       "</table>\n",
       "</div>"
      ],
      "text/plain": [
       "     status     price  bed  bath  Lot area (acres)  \\\n",
       "0  for_sale  105000.0  3.0   2.0              0.12   \n",
       "1  for_sale   80000.0  4.0   2.0              0.08   \n",
       "2  for_sale   67000.0  2.0   1.0              0.15   \n",
       "3  for_sale  145000.0  4.0   2.0              0.10   \n",
       "4  for_sale   65000.0  6.0   2.0              0.05   \n",
       "\n",
       "                                        Full Address  \\\n",
       "0  Sector Yahuecas Titulo # V84, Adjuntas, PR, 00601   \n",
       "1            Km 78 9 Carr # 135, Adjuntas, PR, 00601   \n",
       "2            556G 556-G 16 St, Juana Diaz, PR, 00795   \n",
       "3  R5 Comunidad El Paraso Calle De Oro R-5 Ponce,...   \n",
       "4                    14 Navarro, Mayaguez, PR, 00680   \n",
       "\n",
       "                                          street        city state Zip code  \\\n",
       "0                   Sector Yahuecas Titulo # V84    Adjuntas          601.0   \n",
       "1                             Km 78 9 Carr # 135    Adjuntas          601.0   \n",
       "2                               556G 556-G 16 St  Juana Diaz          795.0   \n",
       "3  R5 Comunidad El Paraso Calle De Oro R-5 Ponce       Ponce          731.0   \n",
       "4                                     14 Navarro    Mayaguez          680.0   \n",
       "\n",
       "   House size (square feet) sold_date  shootings_count bath_tub  \n",
       "0                     920.0      <NA>             <NA>     <NA>  \n",
       "1                    1527.0      <NA>             <NA>     <NA>  \n",
       "2                     748.0      <NA>             <NA>     <NA>  \n",
       "3                    1800.0      <NA>             <NA>     <NA>  \n",
       "4                      <NA>      <NA>             <NA>     <NA>  "
      ]
     },
     "execution_count": 90,
     "metadata": {},
     "output_type": "execute_result"
    }
   ],
   "source": [
    "df.head()"
   ]
  },
  {
   "cell_type": "markdown",
   "id": "90e2bc66",
   "metadata": {},
   "source": [
    "### Describe"
   ]
  },
  {
   "cell_type": "code",
   "execution_count": 91,
   "id": "cef88e1f",
   "metadata": {},
   "outputs": [
    {
     "data": {
      "text/html": [
       "<div>\n",
       "<style scoped>\n",
       "    .dataframe tbody tr th:only-of-type {\n",
       "        vertical-align: middle;\n",
       "    }\n",
       "\n",
       "    .dataframe tbody tr th {\n",
       "        vertical-align: top;\n",
       "    }\n",
       "\n",
       "    .dataframe thead th {\n",
       "        text-align: right;\n",
       "    }\n",
       "</style>\n",
       "<table border=\"1\" class=\"dataframe\">\n",
       "  <thead>\n",
       "    <tr style=\"text-align: right;\">\n",
       "      <th></th>\n",
       "      <th>price</th>\n",
       "      <th>bed</th>\n",
       "      <th>bath</th>\n",
       "      <th>Lot area (acres)</th>\n",
       "      <th>House size (square feet)</th>\n",
       "      <th>sold_date</th>\n",
       "      <th>shootings_count</th>\n",
       "    </tr>\n",
       "  </thead>\n",
       "  <tbody>\n",
       "    <tr>\n",
       "      <th>count</th>\n",
       "      <td>7.330880e+05</td>\n",
       "      <td>617177.000000</td>\n",
       "      <td>621407.000000</td>\n",
       "      <td>572378.000000</td>\n",
       "      <td>5.207720e+05</td>\n",
       "      <td>347237</td>\n",
       "      <td>293781.000000</td>\n",
       "    </tr>\n",
       "    <tr>\n",
       "      <th>mean</th>\n",
       "      <td>7.257017e+05</td>\n",
       "      <td>3.422041</td>\n",
       "      <td>2.540473</td>\n",
       "      <td>19.058585</td>\n",
       "      <td>2.192527e+03</td>\n",
       "      <td>2008-11-08</td>\n",
       "      <td>4.788407</td>\n",
       "    </tr>\n",
       "    <tr>\n",
       "      <th>min</th>\n",
       "      <td>0.000000e+00</td>\n",
       "      <td>1.000000</td>\n",
       "      <td>1.000000</td>\n",
       "      <td>0.000000</td>\n",
       "      <td>1.000000e+02</td>\n",
       "      <td>1901-01-01</td>\n",
       "      <td>1.000000</td>\n",
       "    </tr>\n",
       "    <tr>\n",
       "      <th>25%</th>\n",
       "      <td>2.375000e+05</td>\n",
       "      <td>2.000000</td>\n",
       "      <td>2.000000</td>\n",
       "      <td>0.140000</td>\n",
       "      <td>1.195000e+03</td>\n",
       "      <td>2002-08-26</td>\n",
       "      <td>1.000000</td>\n",
       "    </tr>\n",
       "    <tr>\n",
       "      <th>50%</th>\n",
       "      <td>4.190000e+05</td>\n",
       "      <td>3.000000</td>\n",
       "      <td>2.000000</td>\n",
       "      <td>0.350000</td>\n",
       "      <td>1.714000e+03</td>\n",
       "      <td>2009-07-22</td>\n",
       "      <td>3.000000</td>\n",
       "    </tr>\n",
       "    <tr>\n",
       "      <th>75%</th>\n",
       "      <td>7.250000e+05</td>\n",
       "      <td>4.000000</td>\n",
       "      <td>3.000000</td>\n",
       "      <td>1.380000</td>\n",
       "      <td>2.547250e+03</td>\n",
       "      <td>2017-10-12</td>\n",
       "      <td>7.000000</td>\n",
       "    </tr>\n",
       "    <tr>\n",
       "      <th>max</th>\n",
       "      <td>8.750000e+08</td>\n",
       "      <td>123.000000</td>\n",
       "      <td>198.000000</td>\n",
       "      <td>100000.000000</td>\n",
       "      <td>1.450112e+06</td>\n",
       "      <td>2023-03-01</td>\n",
       "      <td>36.000000</td>\n",
       "    </tr>\n",
       "    <tr>\n",
       "      <th>std</th>\n",
       "      <td>1.768769e+06</td>\n",
       "      <td>2.028735</td>\n",
       "      <td>2.002442</td>\n",
       "      <td>1022.007111</td>\n",
       "      <td>3.141461e+03</td>\n",
       "      <td>NaN</td>\n",
       "      <td>5.367337</td>\n",
       "    </tr>\n",
       "  </tbody>\n",
       "</table>\n",
       "</div>"
      ],
      "text/plain": [
       "              price            bed           bath  Lot area (acres)  \\\n",
       "count  7.330880e+05  617177.000000  621407.000000     572378.000000   \n",
       "mean   7.257017e+05       3.422041       2.540473         19.058585   \n",
       "min    0.000000e+00       1.000000       1.000000          0.000000   \n",
       "25%    2.375000e+05       2.000000       2.000000          0.140000   \n",
       "50%    4.190000e+05       3.000000       2.000000          0.350000   \n",
       "75%    7.250000e+05       4.000000       3.000000          1.380000   \n",
       "max    8.750000e+08     123.000000     198.000000     100000.000000   \n",
       "std    1.768769e+06       2.028735       2.002442       1022.007111   \n",
       "\n",
       "       House size (square feet)   sold_date  shootings_count  \n",
       "count              5.207720e+05      347237    293781.000000  \n",
       "mean               2.192527e+03  2008-11-08         4.788407  \n",
       "min                1.000000e+02  1901-01-01         1.000000  \n",
       "25%                1.195000e+03  2002-08-26         1.000000  \n",
       "50%                1.714000e+03  2009-07-22         3.000000  \n",
       "75%                2.547250e+03  2017-10-12         7.000000  \n",
       "max                1.450112e+06  2023-03-01        36.000000  \n",
       "std                3.141461e+03         NaN         5.367337  "
      ]
     },
     "execution_count": 91,
     "metadata": {},
     "output_type": "execute_result"
    }
   ],
   "source": [
    "df.describe()"
   ]
  },
  {
   "cell_type": "markdown",
   "id": "8963aea2",
   "metadata": {},
   "source": [
    "### Histogramas"
   ]
  },
  {
   "cell_type": "code",
   "execution_count": 92,
   "id": "7f0c349f",
   "metadata": {},
   "outputs": [
    {
     "data": {
      "text/plain": [
       "<Axes: >"
      ]
     },
     "execution_count": 92,
     "metadata": {},
     "output_type": "execute_result"
    },
    {
     "data": {
      "image/png": "[encoded data removed]",
      "text/plain": [
       "<Figure size 640x480 with 1 Axes>"
      ]
     },
     "metadata": {},
     "output_type": "display_data"
    }
   ],
   "source": [
    "df['price'].hist(bins=10)"
   ]
  },
  {
   "cell_type": "code",
   "execution_count": 93,
   "id": "fe59822b",
   "metadata": {},
   "outputs": [
    {
     "data": {
      "text/plain": [
       "<Axes: >"
      ]
     },
     "execution_count": 93,
     "metadata": {},
     "output_type": "execute_result"
    },
    {
     "data": {
      "image/png": "[encoded data removed]",
      "text/plain": [
       "<Figure size 640x480 with 1 Axes>"
      ]
     },
     "metadata": {},
     "output_type": "display_data"
    }
   ],
   "source": [
    "df['bed'].hist(bins=50)"
   ]
  },
  {
   "cell_type": "markdown",
   "id": "65390f9e",
   "metadata": {},
   "source": [
    "### Valores Nulos"
   ]
  },
  {
   "cell_type": "code",
   "execution_count": 94,
   "id": "6cd70f77",
   "metadata": {},
   "outputs": [
    {
     "data": {
      "text/plain": [
       "status                           0\n",
       "price                           71\n",
       "bed                         115982\n",
       "bath                        111752\n",
       "Lot area (acres)            160781\n",
       "Full Address                     0\n",
       "street                           0\n",
       "city                             0\n",
       "state                            0\n",
       "Zip code                       202\n",
       "House size (square feet)    212387\n",
       "sold_date                   385922\n",
       "shootings_count             439378\n",
       "bath_tub                    733159\n",
       "dtype: int64"
      ]
     },
     "execution_count": 94,
     "metadata": {},
     "output_type": "execute_result"
    }
   ],
   "source": [
    "df.isna().sum()"
   ]
  },
  {
   "cell_type": "markdown",
   "id": "17680f1a",
   "metadata": {},
   "source": [
    "## Limpieza de datos"
   ]
  },
  {
   "cell_type": "code",
   "execution_count": 95,
   "id": "d956ddac",
   "metadata": {},
   "outputs": [],
   "source": [
    "def calculate_outliers(df: pd.DataFrame, field_name:str) -> float:\n",
    "    mean = df[field_name].mean()\n",
    "    std = df[field_name].std()\n",
    "\n",
    "    print(f'{field_name} Promedio: {mean:,.2f} Desviacion standard {std:,.2f}')\n",
    "    outliers = mean + 3 * std\n",
    "    return outliers"
   ]
  },
  {
   "cell_type": "markdown",
   "id": "9293a682",
   "metadata": {},
   "source": [
    "### Renombrando columnas"
   ]
  },
  {
   "cell_type": "code",
   "execution_count": 97,
   "id": "e8ba0140",
   "metadata": {},
   "outputs": [],
   "source": [
    "column_dict = {\n",
    "  \"Lot area (acres)\": \"area_acres\",\n",
    "  \"Full Address\": 'full_address',\n",
    "  \"Zip code\": \"zip_code\",\n",
    "  \"House size (square feet)\": 'house_area_square_feet',\n",
    "}"
   ]
  },
  {
   "cell_type": "code",
   "execution_count": 98,
   "id": "3c636efe",
   "metadata": {},
   "outputs": [],
   "source": [
    "df = df.rename(columns=column_dict)"
   ]
  },
  {
   "cell_type": "code",
   "execution_count": 99,
   "id": "2ada9d7b",
   "metadata": {},
   "outputs": [
    {
     "name": "stdout",
     "output_type": "stream",
     "text": [
      "<class 'pandas.core.frame.DataFrame'>\n",
      "RangeIndex: 733159 entries, 0 to 733158\n",
      "Data columns (total 14 columns):\n",
      " #   Column                  Non-Null Count   Dtype               \n",
      "---  ------                  --------------   -----               \n",
      " 0   status                  733159 non-null  category            \n",
      " 1   price                   733088 non-null  double[pyarrow]     \n",
      " 2   bed                     617177 non-null  double[pyarrow]     \n",
      " 3   bath                    621407 non-null  double[pyarrow]     \n",
      " 4   area_acres              572378 non-null  double[pyarrow]     \n",
      " 5   full_address            733159 non-null  string[pyarrow]     \n",
      " 6   street                  733159 non-null  string[pyarrow]     \n",
      " 7   city                    733159 non-null  category            \n",
      " 8   state                   733159 non-null  category            \n",
      " 9   zip_code                732957 non-null  category            \n",
      " 10  house_area_square_feet  520772 non-null  double[pyarrow]     \n",
      " 11  sold_date               347237 non-null  date32[day][pyarrow]\n",
      " 12  shootings_count         293781 non-null  double[pyarrow]     \n",
      " 13  bath_tub                0 non-null       null[pyarrow]       \n",
      "dtypes: category(4), date32[day][pyarrow](1), double[pyarrow](6), null[pyarrow](1), string[pyarrow](2)\n",
      "memory usage: 85.3 MB\n"
     ]
    }
   ],
   "source": [
    "df.info()"
   ]
  },
  {
   "cell_type": "markdown",
   "id": "827f7bc5",
   "metadata": {},
   "source": [
    "### Eliminando los valores nulos"
   ]
  },
  {
   "cell_type": "code",
   "execution_count": 104,
   "id": "e2228826",
   "metadata": {},
   "outputs": [
    {
     "data": {
      "text/plain": [
       "status                         0\n",
       "price                          0\n",
       "bed                            0\n",
       "bath                           0\n",
       "area_acres                     0\n",
       "full_address                   0\n",
       "street                         0\n",
       "city                           0\n",
       "state                          0\n",
       "zip_code                      64\n",
       "house_area_square_feet         0\n",
       "sold_date                 175722\n",
       "shootings_count           226020\n",
       "bath_tub                  383547\n",
       "dtype: int64"
      ]
     },
     "execution_count": 104,
     "metadata": {},
     "output_type": "execute_result"
    }
   ],
   "source": [
    "df.isna().sum()"
   ]
  },
  {
   "cell_type": "code",
   "execution_count": 103,
   "id": "7f4974f1",
   "metadata": {},
   "outputs": [],
   "source": [
    "df = df.dropna(subset=['price', 'house_area_square_feet', 'area_acres', 'bed', 'bath'])"
   ]
  },
  {
   "cell_type": "code",
   "execution_count": 105,
   "id": "76374bcb",
   "metadata": {},
   "outputs": [
    {
     "data": {
      "text/plain": [
       "(383547, 14)"
      ]
     },
     "execution_count": 105,
     "metadata": {},
     "output_type": "execute_result"
    }
   ],
   "source": [
    "df.shape"
   ]
  },
  {
   "cell_type": "markdown",
   "id": "d7476d16",
   "metadata": {},
   "source": [
    "### Camas"
   ]
  },
  {
   "cell_type": "code",
   "execution_count": 106,
   "id": "41aec51d",
   "metadata": {},
   "outputs": [
    {
     "name": "stdout",
     "output_type": "stream",
     "text": [
      "Promedio: 3.78 Desviacion standard 2.17\n",
      "Outliers: +/- 10.28\n"
     ]
    }
   ],
   "source": [
    "bed_mean = df['bed'].mean()\n",
    "bed_std = df['bed'].std()\n",
    "\n",
    "print(f'Promedio: {bed_mean:.2f} Desviacion standard {bed_std:.2f}')\n",
    "outliers = bed_mean + 3 * bed_std\n",
    "\n",
    "print(f'Outliers: +/- {outliers:.2f}')"
   ]
  },
  {
   "cell_type": "code",
   "execution_count": 107,
   "id": "f46cbab8",
   "metadata": {},
   "outputs": [
    {
     "name": "stdout",
     "output_type": "stream",
     "text": [
      "(4018, 14)\n"
     ]
    }
   ],
   "source": [
    "beds = df.loc[df['bed'] >= outliers]\n",
    "\n",
    "print(beds.shape)"
   ]
  },
  {
   "cell_type": "code",
   "execution_count": 108,
   "id": "895868df",
   "metadata": {},
   "outputs": [
    {
     "data": {
      "text/plain": [
       "count    4018.000000\n",
       "mean       15.543803\n",
       "std        10.301538\n",
       "min        11.000000\n",
       "25%        12.000000\n",
       "50%        12.000000\n",
       "75%        15.750000\n",
       "max        99.000000\n",
       "Name: bed, dtype: double[pyarrow]"
      ]
     },
     "execution_count": 108,
     "metadata": {},
     "output_type": "execute_result"
    }
   ],
   "source": [
    "beds['bed'].describe()"
   ]
  },
  {
   "cell_type": "code",
   "execution_count": 109,
   "id": "d081d2d3",
   "metadata": {},
   "outputs": [],
   "source": [
    "df = df.drop(beds.index)"
   ]
  },
  {
   "cell_type": "code",
   "execution_count": 111,
   "id": "2589d98e",
   "metadata": {},
   "outputs": [
    {
     "data": {
      "text/plain": [
       "<Axes: >"
      ]
     },
     "execution_count": 111,
     "metadata": {},
     "output_type": "execute_result"
    },
    {
     "data": {
      "image/png": "[encoded data removed]",
      "text/plain": [
       "<Figure size 640x480 with 1 Axes>"
      ]
     },
     "metadata": {},
     "output_type": "display_data"
    }
   ],
   "source": [
    "df['bed'].hist(bins=10)"
   ]
  },
  {
   "cell_type": "markdown",
   "id": "7a520df3",
   "metadata": {},
   "source": [
    "### Banos"
   ]
  },
  {
   "cell_type": "code",
   "execution_count": 112,
   "id": "5df4d53a",
   "metadata": {},
   "outputs": [
    {
     "data": {
      "text/plain": [
       "count    379529.000000\n",
       "mean          2.598531\n",
       "std           1.396594\n",
       "min           1.000000\n",
       "25%           2.000000\n",
       "50%           2.000000\n",
       "75%           3.000000\n",
       "max          19.000000\n",
       "Name: bath, dtype: double[pyarrow]"
      ]
     },
     "execution_count": 112,
     "metadata": {},
     "output_type": "execute_result"
    }
   ],
   "source": [
    "df['bath'].describe()"
   ]
  },
  {
   "cell_type": "code",
   "execution_count": 113,
   "id": "6c92b8bf",
   "metadata": {},
   "outputs": [
    {
     "name": "stdout",
     "output_type": "stream",
     "text": [
      "Promedio: 2.60 Desviacion standard 1.40\n",
      "Outliers: +/- 6.79\n"
     ]
    }
   ],
   "source": [
    "bath_mean = df['bath'].mean()\n",
    "bath_std = df['bath'].std()\n",
    "\n",
    "print(f'Promedio: {bath_mean:.2f} Desviacion standard {bath_std:.2f}')\n",
    "bath_outliers = bath_mean + 3 * bath_std\n",
    "\n",
    "print(f'Outliers: +/- {bath_outliers:.2f}')"
   ]
  },
  {
   "cell_type": "code",
   "execution_count": 114,
   "id": "406d970b",
   "metadata": {},
   "outputs": [
    {
     "name": "stdout",
     "output_type": "stream",
     "text": [
      "(612, 14)\n"
     ]
    }
   ],
   "source": [
    "baths = df.loc[df['bath'] >= outliers]\n",
    "\n",
    "print(baths.shape)"
   ]
  },
  {
   "cell_type": "code",
   "execution_count": 115,
   "id": "d2914719",
   "metadata": {},
   "outputs": [
    {
     "data": {
      "text/plain": [
       "count    612.000000\n",
       "mean      12.151961\n",
       "std        1.427385\n",
       "min       11.000000\n",
       "25%       11.000000\n",
       "50%       12.000000\n",
       "75%       13.000000\n",
       "max       19.000000\n",
       "Name: bath, dtype: double[pyarrow]"
      ]
     },
     "execution_count": 115,
     "metadata": {},
     "output_type": "execute_result"
    }
   ],
   "source": [
    "baths['bath'].describe()"
   ]
  },
  {
   "cell_type": "code",
   "execution_count": 116,
   "id": "446c684f",
   "metadata": {},
   "outputs": [],
   "source": [
    "df = df.drop(baths.index)"
   ]
  },
  {
   "cell_type": "code",
   "execution_count": 119,
   "id": "f11b2438",
   "metadata": {},
   "outputs": [
    {
     "data": {
      "text/plain": [
       "<Axes: >"
      ]
     },
     "execution_count": 119,
     "metadata": {},
     "output_type": "execute_result"
    },
    {
     "data": {
      "image/png": "[encoded data removed]",
      "text/plain": [
       "<Figure size 640x480 with 1 Axes>"
      ]
     },
     "metadata": {},
     "output_type": "display_data"
    }
   ],
   "source": [
    "df['bath'].hist(bins=9)"
   ]
  },
  {
   "cell_type": "markdown",
   "id": "3e3adb69",
   "metadata": {},
   "source": [
    "### Precio"
   ]
  },
  {
   "cell_type": "code",
   "execution_count": 120,
   "id": "950b667e",
   "metadata": {},
   "outputs": [
    {
     "data": {
      "text/plain": [
       "count    3.789170e+05\n",
       "mean     6.822882e+05\n",
       "std      1.137430e+06\n",
       "min      5.000000e+02\n",
       "25%      2.700000e+05\n",
       "50%      4.250000e+05\n",
       "75%      7.000000e+05\n",
       "max      1.000000e+08\n",
       "Name: price, dtype: double[pyarrow]"
      ]
     },
     "execution_count": 120,
     "metadata": {},
     "output_type": "execute_result"
    }
   ],
   "source": [
    "df['price'].describe()"
   ]
  },
  {
   "cell_type": "code",
   "execution_count": 121,
   "id": "2c5ae8ea",
   "metadata": {},
   "outputs": [
    {
     "name": "stdout",
     "output_type": "stream",
     "text": [
      "Promedio: 682,288.21 Desviacion standard 1,137,430.41\n",
      "Outliers: +/- 4,094,579.44\n"
     ]
    }
   ],
   "source": [
    "price_mean = df['price'].mean()\n",
    "price_std = df['price'].std()\n",
    "\n",
    "print(f'Promedio: {price_mean:,.2f} Desviacion standard {price_std:,.2f}')\n",
    "price_outliers = price_mean + 3 * price_std\n",
    "\n",
    "print(f'Outliers: +/- {price_outliers:,.2f}')"
   ]
  },
  {
   "cell_type": "code",
   "execution_count": 122,
   "id": "767bea6f",
   "metadata": {},
   "outputs": [
    {
     "data": {
      "text/plain": [
       "(5175, 14)"
      ]
     },
     "execution_count": 122,
     "metadata": {},
     "output_type": "execute_result"
    }
   ],
   "source": [
    "extreme = df.loc[df['price'] >= price_outliers]\n",
    "\n",
    "extreme.shape"
   ]
  },
  {
   "cell_type": "code",
   "execution_count": 123,
   "id": "406784ba",
   "metadata": {},
   "outputs": [
    {
     "data": {
      "text/plain": [
       "(373742, 14)"
      ]
     },
     "execution_count": 123,
     "metadata": {},
     "output_type": "execute_result"
    }
   ],
   "source": [
    "df = df.drop(extreme.index)\n",
    "\n",
    "df.shape"
   ]
  },
  {
   "cell_type": "code",
   "execution_count": 124,
   "id": "d0700f26",
   "metadata": {},
   "outputs": [
    {
     "data": {
      "text/plain": [
       "<Axes: >"
      ]
     },
     "execution_count": 124,
     "metadata": {},
     "output_type": "execute_result"
    },
    {
     "data": {
      "image/png": "[encoded data removed]",
      "text/plain": [
       "<Figure size 640x480 with 1 Axes>"
      ]
     },
     "metadata": {},
     "output_type": "display_data"
    }
   ],
   "source": [
    "df['price'].hist(bins=20)"
   ]
  },
  {
   "cell_type": "markdown",
   "id": "92fd9cd1",
   "metadata": {},
   "source": [
    "### Nuevos campos"
   ]
  },
  {
   "cell_type": "markdown",
   "id": "b7d6bc7d",
   "metadata": {},
   "source": [
    "#### Area en metros cuadrados"
   ]
  },
  {
   "cell_type": "code",
   "execution_count": 125,
   "id": "bc6103cc",
   "metadata": {},
   "outputs": [],
   "source": [
    "df['house_size_m2'] = df['house_area_square_feet'] * 0.092903\n",
    "df['lot_size_m2'] = df['area_acres'] * 4046.86"
   ]
  },
  {
   "cell_type": "code",
   "execution_count": 126,
   "id": "e1855cc1",
   "metadata": {},
   "outputs": [
    {
     "data": {
      "text/plain": [
       "count    373742.000000\n",
       "mean        209.904529\n",
       "std         195.861363\n",
       "min          11.334166\n",
       "25%         122.631960\n",
       "50%         172.335065\n",
       "75%         249.723264\n",
       "max       37175.042547\n",
       "Name: house_size_m2, dtype: double[pyarrow]"
      ]
     },
     "execution_count": 126,
     "metadata": {},
     "output_type": "execute_result"
    }
   ],
   "source": [
    "df['house_size_m2'].describe()"
   ]
  },
  {
   "cell_type": "code",
   "execution_count": 127,
   "id": "18c23517",
   "metadata": {},
   "outputs": [
    {
     "name": "stdout",
     "output_type": "stream",
     "text": [
      "house_size_m2 Promedio: 209.90 Desviacion standard 195.86\n",
      "Outliers +/- 797.49\n"
     ]
    }
   ],
   "source": [
    "o = calculate_outliers(df, 'house_size_m2')\n",
    "\n",
    "print(f'Outliers +/- {o:,.2f}')"
   ]
  },
  {
   "cell_type": "code",
   "execution_count": 128,
   "id": "83cf6e0a",
   "metadata": {},
   "outputs": [
    {
     "data": {
      "text/plain": [
       "count    3.737420e+05\n",
       "mean     4.098296e+04\n",
       "std      2.722740e+06\n",
       "min      0.000000e+00\n",
       "25%      5.260918e+02\n",
       "50%      1.173589e+03\n",
       "75%      3.763580e+03\n",
       "max      4.046860e+08\n",
       "Name: lot_size_m2, dtype: double[pyarrow]"
      ]
     },
     "execution_count": 128,
     "metadata": {},
     "output_type": "execute_result"
    }
   ],
   "source": [
    "df['lot_size_m2'].describe()"
   ]
  },
  {
   "cell_type": "markdown",
   "id": "bbbd270f",
   "metadata": {},
   "source": [
    "#### Precio por metro cuadrado"
   ]
  },
  {
   "cell_type": "code",
   "execution_count": 129,
   "id": "06060530",
   "metadata": {},
   "outputs": [],
   "source": [
    "df['price_x_m2'] = df['price'] / df['house_size_m2'] "
   ]
  },
  {
   "cell_type": "code",
   "execution_count": 130,
   "id": "3e18a031",
   "metadata": {},
   "outputs": [
    {
     "name": "stdout",
     "output_type": "stream",
     "text": [
      "price_x_m2 Promedio: 3,003.72 Desviacion standard 2,285.20\n",
      "Outliers +/- 9,859.32\n"
     ]
    }
   ],
   "source": [
    "o = calculate_outliers(df, 'price_x_m2')\n",
    "\n",
    "print(f'Outliers +/- {o:,.2f}')"
   ]
  },
  {
   "cell_type": "code",
   "execution_count": 131,
   "id": "483fa7c0",
   "metadata": {},
   "outputs": [
    {
     "name": "stdout",
     "output_type": "stream",
     "text": [
      "(109513, 17)\n"
     ]
    }
   ],
   "source": [
    "extreme_price_x_m2 = df.loc[df['price_x_m2'] >= o/3]\n",
    "\n",
    "print(extreme_price_x_m2.shape)"
   ]
  },
  {
   "cell_type": "code",
   "execution_count": 132,
   "id": "7fe77ce5",
   "metadata": {},
   "outputs": [],
   "source": [
    "df = df.drop(extreme_price_x_m2.index)"
   ]
  },
  {
   "cell_type": "code",
   "execution_count": 133,
   "id": "a528acaf",
   "metadata": {},
   "outputs": [
    {
     "data": {
      "text/plain": [
       "(264229, 17)"
      ]
     },
     "execution_count": 133,
     "metadata": {},
     "output_type": "execute_result"
    }
   ],
   "source": [
    "df.shape"
   ]
  },
  {
   "cell_type": "code",
   "execution_count": 134,
   "id": "df481c2f",
   "metadata": {},
   "outputs": [
    {
     "data": {
      "text/plain": [
       "<Axes: >"
      ]
     },
     "execution_count": 134,
     "metadata": {},
     "output_type": "execute_result"
    },
    {
     "data": {
      "image/png": "[encoded data removed]",
      "text/plain": [
       "<Figure size 640x480 with 1 Axes>"
      ]
     },
     "metadata": {},
     "output_type": "display_data"
    }
   ],
   "source": [
    "df['price_x_m2'].hist(bins=12)"
   ]
  },
  {
   "cell_type": "code",
   "execution_count": 135,
   "id": "30acc9cc",
   "metadata": {},
   "outputs": [
    {
     "data": {
      "text/plain": [
       "status                         0\n",
       "price                          0\n",
       "bed                            0\n",
       "bath                           0\n",
       "area_acres                     0\n",
       "full_address                   0\n",
       "street                         0\n",
       "city                           0\n",
       "state                          0\n",
       "zip_code                      64\n",
       "house_area_square_feet         0\n",
       "sold_date                 116630\n",
       "shootings_count           162352\n",
       "bath_tub                  264229\n",
       "house_size_m2                  0\n",
       "lot_size_m2                    0\n",
       "price_x_m2                     0\n",
       "dtype: int64"
      ]
     },
     "execution_count": 135,
     "metadata": {},
     "output_type": "execute_result"
    }
   ],
   "source": [
    "df.isna().sum()"
   ]
  },
  {
   "cell_type": "markdown",
   "id": "bd549a5a",
   "metadata": {},
   "source": [
    "## EDA"
   ]
  },
  {
   "cell_type": "markdown",
   "id": "27f2341a",
   "metadata": {},
   "source": [
    "### Precio\n"
   ]
  },
  {
   "cell_type": "code",
   "execution_count": 137,
   "id": "75d1259a",
   "metadata": {},
   "outputs": [
    {
     "data": {
      "text/plain": [
       "<Axes: xlabel='house_size_m2', ylabel='price'>"
      ]
     },
     "execution_count": 137,
     "metadata": {},
     "output_type": "execute_result"
    },
    {
     "data": {
      "image/png": "[encoded data removed]",
      "text/plain": [
       "<Figure size 640x480 with 1 Axes>"
      ]
     },
     "metadata": {},
     "output_type": "display_data"
    }
   ],
   "source": [
    "sns.scatterplot(data=df, x=\"house_size_m2\", y=\"price\")"
   ]
  },
  {
   "cell_type": "markdown",
   "id": "be91d87b",
   "metadata": {},
   "source": [
    "### Limpieza de area\n"
   ]
  },
  {
   "cell_type": "code",
   "execution_count": 139,
   "id": "ccfb54d2",
   "metadata": {},
   "outputs": [
    {
     "name": "stdout",
     "output_type": "stream",
     "text": [
      "house_size_m2 Promedio: 213.54 Desviacion standard 218.09\n",
      "Outliers +/- 867.82\n"
     ]
    }
   ],
   "source": [
    "o = calculate_outliers(df, 'house_size_m2')\n",
    "\n",
    "print(f'Outliers +/- {o:,.2f}')"
   ]
  },
  {
   "cell_type": "code",
   "execution_count": 140,
   "id": "0b701f72",
   "metadata": {},
   "outputs": [
    {
     "name": "stdout",
     "output_type": "stream",
     "text": [
      "(1992, 17)\n"
     ]
    }
   ],
   "source": [
    "area_extreme = df.loc[df['house_size_m2'] >= o]\n",
    "\n",
    "print(area_extreme.shape)"
   ]
  },
  {
   "cell_type": "code",
   "execution_count": 141,
   "id": "2491d683",
   "metadata": {},
   "outputs": [],
   "source": [
    "df = df.drop(area_extreme.index)"
   ]
  },
  {
   "cell_type": "code",
   "execution_count": null,
   "id": "e5207c4e",
   "metadata": {},
   "outputs": [
    {
     "data": {
      "text/plain": [
       "<Axes: xlabel='house_size_m2', ylabel='price'>"
      ]
     },
     "execution_count": 144,
     "metadata": {},
     "output_type": "execute_result"
    }
   ],
   "source": [
    "sns.scatterplot(data=df, x=\"house_size_m2\", y=\"price\", hue='state')"
   ]
  },
  {
   "cell_type": "code",
   "execution_count": null,
   "id": "23338e51",
   "metadata": {},
   "outputs": [],
   "source": []
  }
 ],
 "metadata": {
  "kernelspec": {
   "display_name": "Python 3 (ipykernel)",
   "language": "python",
   "name": "python3"
  },
  "language_info": {
   "codemirror_mode": {
    "name": "ipython",
    "version": 3
   },
   "file_extension": ".py",
   "mimetype": "text/x-python",
   "name": "python",
   "nbconvert_exporter": "python",
   "pygments_lexer": "ipython3",
   "version": "3.10.6"
  },
  "toc": {
   "base_numbering": 1,
   "nav_menu": {},
   "number_sections": true,
   "sideBar": true,
   "skip_h1_title": true,
   "title_cell": "Table of Contents",
   "title_sidebar": "Contents",
   "toc_cell": false,
   "toc_position": {
    "height": "calc(100% - 180px)",
    "left": "10px",
    "top": "150px",
    "width": "384px"
   },
   "toc_section_display": true,
   "toc_window_display": true
  }
 },
 "nbformat": 4,
 "nbformat_minor": 5
}
