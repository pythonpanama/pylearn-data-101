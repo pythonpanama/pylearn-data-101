{
 "cells": [
  {
   "cell_type": "markdown",
   "id": "b5a4999e",
   "metadata": {
    "id": "b5a4999e"
   },
   "source": [
    "# Py Learn Data Course"
   ]
  },
  {
   "cell_type": "markdown",
   "id": "03c482cf",
   "metadata": {},
   "source": [
    "## Configuration"
   ]
  },
  {
   "cell_type": "markdown",
   "id": "25d392b0",
   "metadata": {},
   "source": [
    "### Install requirements"
   ]
  },
  {
   "cell_type": "code",
   "execution_count": 55,
   "id": "OEeXWfPJ8Lzv",
   "metadata": {
    "colab": {
     "base_uri": "https://localhost:8080/"
    },
    "id": "OEeXWfPJ8Lzv",
    "outputId": "722737a3-d550-4eaf-c6cd-ba59e6686f7c"
   },
   "outputs": [
    {
     "name": "stdout",
     "output_type": "stream",
     "text": [
      "Requirement already satisfied: pandas==2.0.3 in /home/luiscberrocal/PycharmProjects/pylearn-data-101/venv/lib/python3.10/site-packages (2.0.3)\n",
      "Requirement already satisfied: python-dateutil>=2.8.2 in /home/luiscberrocal/PycharmProjects/pylearn-data-101/venv/lib/python3.10/site-packages (from pandas==2.0.3) (2.8.2)\n",
      "Requirement already satisfied: pytz>=2020.1 in /home/luiscberrocal/PycharmProjects/pylearn-data-101/venv/lib/python3.10/site-packages (from pandas==2.0.3) (2023.3)\n",
      "Requirement already satisfied: tzdata>=2022.1 in /home/luiscberrocal/PycharmProjects/pylearn-data-101/venv/lib/python3.10/site-packages (from pandas==2.0.3) (2023.3)\n",
      "Requirement already satisfied: numpy>=1.21.0 in /home/luiscberrocal/PycharmProjects/pylearn-data-101/venv/lib/python3.10/site-packages (from pandas==2.0.3) (1.24.2)\n",
      "Requirement already satisfied: six>=1.5 in /home/luiscberrocal/PycharmProjects/pylearn-data-101/venv/lib/python3.10/site-packages (from python-dateutil>=2.8.2->pandas==2.0.3) (1.16.0)\n",
      "\n",
      "\u001b[1m[\u001b[0m\u001b[34;49mnotice\u001b[0m\u001b[1;39;49m]\u001b[0m\u001b[39;49m A new release of pip is available: \u001b[0m\u001b[31;49m23.0.1\u001b[0m\u001b[39;49m -> \u001b[0m\u001b[32;49m23.2.1\u001b[0m\n",
      "\u001b[1m[\u001b[0m\u001b[34;49mnotice\u001b[0m\u001b[1;39;49m]\u001b[0m\u001b[39;49m To update, run: \u001b[0m\u001b[32;49mpip install --upgrade pip\u001b[0m\n"
     ]
    }
   ],
   "source": [
    "# ! pip install pyarrow\n",
    "# ! pip install --upgrade pandas\n",
    "! pip install pandas==2.0.3"
   ]
  },
  {
   "cell_type": "code",
   "execution_count": 57,
   "id": "b1hw8Owk891F",
   "metadata": {
    "colab": {
     "base_uri": "https://localhost:8080/"
    },
    "id": "b1hw8Owk891F",
    "outputId": "7e96a858-d03e-4e43-d6af-830da4c8d6b9"
   },
   "outputs": [
    {
     "name": "stdout",
     "output_type": "stream",
     "text": [
      "2.1.0\n"
     ]
    }
   ],
   "source": [
    "import pandas as pd\n",
    "print(pd.__version__)\n"
   ]
  },
  {
   "cell_type": "markdown",
   "id": "e4c2954d",
   "metadata": {},
   "source": [
    "### Importing requirements"
   ]
  },
  {
   "cell_type": "code",
   "execution_count": 58,
   "id": "546cc832",
   "metadata": {
    "id": "546cc832"
   },
   "outputs": [],
   "source": [
    "from pathlib import Path\n",
    "\n",
    "\n",
    "import matplotlib.pyplot as plt\n",
    "\n",
    "import pandas as pd\n",
    "\n",
    "import seaborn as sns\n",
    "pd.set_option('display.max_columns', None)\n",
    "\n",
    "%matplotlib inline"
   ]
  },
  {
   "cell_type": "markdown",
   "id": "108cb207",
   "metadata": {},
   "source": [
    "### Download file"
   ]
  },
  {
   "cell_type": "markdown",
   "id": "493df37d",
   "metadata": {},
   "source": [
    "import requests\n",
    "zip_file = 'python-panama-real-estate.zip'\n",
    "\n",
    "file_url = f'https://raw.githubusercontent.com/pythonpanama//pylearn-data-101//master/course_data/{zip_file}'\n",
    "print(file_url)\n",
    "def download_file2(url):\n",
    "    local_filename = url.split('/')[-1]\n",
    "    # NOTE the stream=True parameter below\n",
    "    with requests.get(url, stream=True) as r:\n",
    "        r.raise_for_status()\n",
    "        with open(local_filename, 'wb') as f:\n",
    "            for chunk in r.iter_content(chunk_size=8192): \n",
    "                # If you have chunk encoded response uncomment if\n",
    "                # and set chunk_size parameter to None.\n",
    "                #if chunk: \n",
    "                f.write(chunk)\n",
    "\n",
    "    return local_filename\n",
    "\n",
    "download_file2(file_url)"
   ]
  },
  {
   "cell_type": "markdown",
   "id": "8ee60be1",
   "metadata": {},
   "source": [
    "! wget https://raw.githubusercontent.com/pythonpanama//pylearn-data-101/master/course_data/python-panama-real-estate.zip"
   ]
  },
  {
   "cell_type": "markdown",
   "id": "iAzR6MT3FI8y",
   "metadata": {
    "id": "iAzR6MT3FI8y"
   },
   "source": [
    "# Metas\n",
    "\n",
    "Qué queremos?\n",
    "\n",
    "Los datos que tenemos sirven para responder lo que queremos?\n",
    "\n",
    "Queremos encontrar una vivienda para 4 personas y nuestro presupuesto es 500,000 +/- 10%. Dos adultos y dos menores de edad lo que implica al menos dos recamaras.\n",
    "\n",
    "Se desea encontrar las 10 viviendas con mejor precio por metro cuadrado.\n",
    "\n",
    "\n"
   ]
  },
  {
   "cell_type": "markdown",
   "id": "a4c3157e",
   "metadata": {
    "id": "a4c3157e"
   },
   "source": [
    "## Setting common variables"
   ]
  },
  {
   "cell_type": "code",
   "execution_count": 59,
   "id": "ee64c4ba",
   "metadata": {
    "colab": {
     "base_uri": "https://localhost:8080/"
    },
    "id": "ee64c4ba",
    "outputId": "ba2a52a1-813a-43a1-be81-bbe0217697d9"
   },
   "outputs": [
    {
     "name": "stdout",
     "output_type": "stream",
     "text": [
      "Folder /home/luiscberrocal/PycharmProjects/pylearn-data-101/data/house_pricing existe: True\n",
      "CSv file: python-panama-real-estate.csv\n"
     ]
    }
   ],
   "source": [
    "local = True\n",
    "    \n",
    "if local:\n",
    "    data_folder = Path().cwd().parent / 'data' / 'house_pricing'\n",
    "\n",
    "    csv_file = data_folder / 'python-panama-real-estate.csv'\n",
    "\n",
    "    print(f'Folder {data_folder} existe: {data_folder.exists()}')\n",
    "    print(f'CSv file: {csv_file.name}')\n",
    "else:\n",
    "    csv_file = Path('python-panama-real-estate.csv')\n",
    "\n",
    "    print(f'CSv file: {csv_file.name}')"
   ]
  },
  {
   "cell_type": "markdown",
   "id": "cd5c0569",
   "metadata": {
    "id": "cd5c0569"
   },
   "source": [
    "## Loading data"
   ]
  },
  {
   "cell_type": "markdown",
   "id": "66913b23",
   "metadata": {
    "id": "66913b23"
   },
   "source": [
    "### Normal load"
   ]
  },
  {
   "cell_type": "code",
   "execution_count": 60,
   "id": "PF7VtG6P6bFe",
   "metadata": {
    "id": "PF7VtG6P6bFe"
   },
   "outputs": [],
   "source": [
    "df = pd.read_csv(csv_file)"
   ]
  },
  {
   "cell_type": "markdown",
   "id": "c2080b3e",
   "metadata": {},
   "source": [
    "Notice:\n",
    "- Dtypes\n",
    "- Memory usage\n"
   ]
  },
  {
   "cell_type": "code",
   "execution_count": 61,
   "id": "qSA_0FOf7FUl",
   "metadata": {
    "colab": {
     "base_uri": "https://localhost:8080/"
    },
    "id": "qSA_0FOf7FUl",
    "outputId": "8268795f-09aa-48b6-a127-4b3392d33589"
   },
   "outputs": [
    {
     "name": "stdout",
     "output_type": "stream",
     "text": [
      "<class 'pandas.core.frame.DataFrame'>\n",
      "RangeIndex: 733159 entries, 0 to 733158\n",
      "Data columns (total 14 columns):\n",
      " #   Column                    Non-Null Count   Dtype  \n",
      "---  ------                    --------------   -----  \n",
      " 0   status                    733159 non-null  object \n",
      " 1   price                     733088 non-null  float64\n",
      " 2   bed                       617177 non-null  float64\n",
      " 3   bath                      621407 non-null  float64\n",
      " 4   Lot area (acres)          572378 non-null  float64\n",
      " 5   Full Address              733159 non-null  object \n",
      " 6   street                    732069 non-null  object \n",
      " 7   city                      733087 non-null  object \n",
      " 8   state                     705907 non-null  object \n",
      " 9   Zip code                  732957 non-null  float64\n",
      " 10  House size (square feet)  520772 non-null  float64\n",
      " 11  sold_date                 347237 non-null  object \n",
      " 12  shootings_count           293781 non-null  float64\n",
      " 13  bath_tub                  0 non-null       float64\n",
      "dtypes: float64(8), object(6)\n",
      "memory usage: 78.3+ MB\n"
     ]
    }
   ],
   "source": [
    "df.info()"
   ]
  },
  {
   "cell_type": "markdown",
   "id": "IOt4uomm63yZ",
   "metadata": {
    "id": "IOt4uomm63yZ"
   },
   "source": [
    "### Pyarrow load"
   ]
  },
  {
   "cell_type": "markdown",
   "id": "UTn50SLTFbth",
   "metadata": {
    "id": "UTn50SLTFbth"
   },
   "source": [
    "Aqui solo hice el ajuste"
   ]
  },
  {
   "cell_type": "code",
   "execution_count": 62,
   "id": "e365f5bc",
   "metadata": {
    "id": "e365f5bc"
   },
   "outputs": [],
   "source": [
    "df = pd.read_csv(csv_file, engine='pyarrow', dtype_backend='pyarrow')"
   ]
  },
  {
   "cell_type": "code",
   "execution_count": 63,
   "id": "b749aa77",
   "metadata": {
    "colab": {
     "base_uri": "https://localhost:8080/"
    },
    "id": "b749aa77",
    "outputId": "e769c715-c5e8-43e4-9957-c393bacc7508"
   },
   "outputs": [
    {
     "name": "stdout",
     "output_type": "stream",
     "text": [
      "<class 'pandas.core.frame.DataFrame'>\n",
      "RangeIndex: 733159 entries, 0 to 733158\n",
      "Data columns (total 14 columns):\n",
      " #   Column                    Non-Null Count   Dtype               \n",
      "---  ------                    --------------   -----               \n",
      " 0   status                    733159 non-null  string[pyarrow]     \n",
      " 1   price                     733088 non-null  double[pyarrow]     \n",
      " 2   bed                       617177 non-null  double[pyarrow]     \n",
      " 3   bath                      621407 non-null  double[pyarrow]     \n",
      " 4   Lot area (acres)          572378 non-null  double[pyarrow]     \n",
      " 5   Full Address              733159 non-null  string[pyarrow]     \n",
      " 6   street                    732069 non-null  string[pyarrow]     \n",
      " 7   city                      733087 non-null  string[pyarrow]     \n",
      " 8   state                     705907 non-null  string[pyarrow]     \n",
      " 9   Zip code                  732957 non-null  double[pyarrow]     \n",
      " 10  House size (square feet)  520772 non-null  double[pyarrow]     \n",
      " 11  sold_date                 347237 non-null  date32[day][pyarrow]\n",
      " 12  shootings_count           293781 non-null  double[pyarrow]     \n",
      " 13  bath_tub                  0 non-null       null[pyarrow]       \n",
      "dtypes: date32[day][pyarrow](1), double[pyarrow](7), null[pyarrow](1), string[pyarrow](5)\n",
      "memory usage: 108.2 MB\n"
     ]
    }
   ],
   "source": [
    "df.info()"
   ]
  },
  {
   "cell_type": "markdown",
   "id": "6f43f372",
   "metadata": {
    "id": "6f43f372"
   },
   "source": [
    "### Setting categories\n",
    "\n",
    "Impacto en la memoria al usar categorias."
   ]
  },
  {
   "cell_type": "code",
   "execution_count": 64,
   "id": "0beb2524",
   "metadata": {
    "id": "0beb2524"
   },
   "outputs": [],
   "source": [
    "df['city'] = df['city'].astype('category')\n",
    "\n",
    "# df['state'] = df['state'].astype('category')\n",
    "df['Zip code'] = df['Zip code'].astype('category')\n",
    "df['status'] = df['status'].astype('category')"
   ]
  },
  {
   "cell_type": "code",
   "execution_count": 65,
   "id": "cc61650b",
   "metadata": {
    "colab": {
     "base_uri": "https://localhost:8080/"
    },
    "id": "cc61650b",
    "outputId": "7b06c99f-6342-4a04-8db4-9e7d0c52b524"
   },
   "outputs": [
    {
     "data": {
      "text/plain": [
       "status\n",
       "for_sale          731566\n",
       "ready_to_build      1593\n",
       "Name: count, dtype: int64"
      ]
     },
     "execution_count": 65,
     "metadata": {},
     "output_type": "execute_result"
    }
   ],
   "source": [
    "df['status'].value_counts()"
   ]
  },
  {
   "cell_type": "markdown",
   "id": "e12e82d5",
   "metadata": {},
   "source": [
    " Note:\n",
    " \n",
    " Memory usage is 20 MB less"
   ]
  },
  {
   "cell_type": "code",
   "execution_count": 66,
   "id": "970ae0ff",
   "metadata": {},
   "outputs": [
    {
     "name": "stdout",
     "output_type": "stream",
     "text": [
      "<class 'pandas.core.frame.DataFrame'>\n",
      "RangeIndex: 733159 entries, 0 to 733158\n",
      "Data columns (total 14 columns):\n",
      " #   Column                    Non-Null Count   Dtype               \n",
      "---  ------                    --------------   -----               \n",
      " 0   status                    733159 non-null  category            \n",
      " 1   price                     733088 non-null  double[pyarrow]     \n",
      " 2   bed                       617177 non-null  double[pyarrow]     \n",
      " 3   bath                      621407 non-null  double[pyarrow]     \n",
      " 4   Lot area (acres)          572378 non-null  double[pyarrow]     \n",
      " 5   Full Address              733159 non-null  string[pyarrow]     \n",
      " 6   street                    732069 non-null  string[pyarrow]     \n",
      " 7   city                      733087 non-null  category            \n",
      " 8   state                     705907 non-null  string[pyarrow]     \n",
      " 9   Zip code                  732957 non-null  category            \n",
      " 10  House size (square feet)  520772 non-null  double[pyarrow]     \n",
      " 11  sold_date                 347237 non-null  date32[day][pyarrow]\n",
      " 12  shootings_count           293781 non-null  double[pyarrow]     \n",
      " 13  bath_tub                  0 non-null       null[pyarrow]       \n",
      "dtypes: category(3), date32[day][pyarrow](1), double[pyarrow](6), null[pyarrow](1), string[pyarrow](3)\n",
      "memory usage: 88.8 MB\n"
     ]
    }
   ],
   "source": [
    "df.info()"
   ]
  },
  {
   "cell_type": "markdown",
   "id": "5606b5e3",
   "metadata": {
    "id": "5606b5e3"
   },
   "source": [
    "## Exploración de datos"
   ]
  },
  {
   "cell_type": "code",
   "execution_count": 67,
   "id": "LGx1x0TR85W6",
   "metadata": {
    "colab": {
     "base_uri": "https://localhost:8080/"
    },
    "id": "LGx1x0TR85W6",
    "outputId": "43ff1064-6fb7-4a8f-943b-1f4dd7aa4fd7"
   },
   "outputs": [
    {
     "name": "stdout",
     "output_type": "stream",
     "text": [
      "<class 'pandas.core.frame.DataFrame'>\n",
      "RangeIndex: 733159 entries, 0 to 733158\n",
      "Data columns (total 14 columns):\n",
      " #   Column                    Non-Null Count   Dtype               \n",
      "---  ------                    --------------   -----               \n",
      " 0   status                    733159 non-null  category            \n",
      " 1   price                     733088 non-null  double[pyarrow]     \n",
      " 2   bed                       617177 non-null  double[pyarrow]     \n",
      " 3   bath                      621407 non-null  double[pyarrow]     \n",
      " 4   Lot area (acres)          572378 non-null  double[pyarrow]     \n",
      " 5   Full Address              733159 non-null  string[pyarrow]     \n",
      " 6   street                    732069 non-null  string[pyarrow]     \n",
      " 7   city                      733087 non-null  category            \n",
      " 8   state                     705907 non-null  string[pyarrow]     \n",
      " 9   Zip code                  732957 non-null  category            \n",
      " 10  House size (square feet)  520772 non-null  double[pyarrow]     \n",
      " 11  sold_date                 347237 non-null  date32[day][pyarrow]\n",
      " 12  shootings_count           293781 non-null  double[pyarrow]     \n",
      " 13  bath_tub                  0 non-null       null[pyarrow]       \n",
      "dtypes: category(3), date32[day][pyarrow](1), double[pyarrow](6), null[pyarrow](1), string[pyarrow](3)\n",
      "memory usage: 88.8 MB\n"
     ]
    }
   ],
   "source": [
    "df.info()"
   ]
  },
  {
   "cell_type": "markdown",
   "id": "cf0dd179",
   "metadata": {
    "id": "cf0dd179"
   },
   "source": [
    "### Shape"
   ]
  },
  {
   "cell_type": "code",
   "execution_count": 68,
   "id": "1fdcfb9e",
   "metadata": {
    "colab": {
     "base_uri": "https://localhost:8080/"
    },
    "id": "1fdcfb9e",
    "outputId": "7b5d6369-c4bf-4b12-d48e-875f18d5d96e"
   },
   "outputs": [
    {
     "name": "stdout",
     "output_type": "stream",
     "text": [
      "Filas 733,159 Columnas: 14\n"
     ]
    }
   ],
   "source": [
    "print(f'Filas {df.shape[0]:,} Columnas: {df.shape[1]}')\n",
    "\n",
    "original_row_count = df.shape[0]"
   ]
  },
  {
   "cell_type": "markdown",
   "id": "945d760b",
   "metadata": {
    "id": "945d760b"
   },
   "source": [
    "### Head"
   ]
  },
  {
   "cell_type": "code",
   "execution_count": 69,
   "id": "f4a81494",
   "metadata": {
    "colab": {
     "base_uri": "https://localhost:8080/",
     "height": 484
    },
    "id": "f4a81494",
    "outputId": "c5b15235-1f9b-4f7a-ff1e-89df0d27c8cd"
   },
   "outputs": [
    {
     "data": {
      "text/html": [
       "<div>\n",
       "<style scoped>\n",
       "    .dataframe tbody tr th:only-of-type {\n",
       "        vertical-align: middle;\n",
       "    }\n",
       "\n",
       "    .dataframe tbody tr th {\n",
       "        vertical-align: top;\n",
       "    }\n",
       "\n",
       "    .dataframe thead th {\n",
       "        text-align: right;\n",
       "    }\n",
       "</style>\n",
       "<table border=\"1\" class=\"dataframe\">\n",
       "  <thead>\n",
       "    <tr style=\"text-align: right;\">\n",
       "      <th></th>\n",
       "      <th>status</th>\n",
       "      <th>price</th>\n",
       "      <th>bed</th>\n",
       "      <th>bath</th>\n",
       "      <th>Lot area (acres)</th>\n",
       "      <th>Full Address</th>\n",
       "      <th>street</th>\n",
       "      <th>city</th>\n",
       "      <th>state</th>\n",
       "      <th>Zip code</th>\n",
       "      <th>House size (square feet)</th>\n",
       "      <th>sold_date</th>\n",
       "      <th>shootings_count</th>\n",
       "      <th>bath_tub</th>\n",
       "    </tr>\n",
       "  </thead>\n",
       "  <tbody>\n",
       "    <tr>\n",
       "      <th>0</th>\n",
       "      <td>for_sale</td>\n",
       "      <td>105000.00</td>\n",
       "      <td>3.00</td>\n",
       "      <td>2.00</td>\n",
       "      <td>0.12</td>\n",
       "      <td>Sector Yahuecas Titulo # V84, Adjuntas, PR, 00601</td>\n",
       "      <td>Sector Yahuecas Titulo # V84</td>\n",
       "      <td>Adjuntas</td>\n",
       "      <td>&lt;NA&gt;</td>\n",
       "      <td>601.00</td>\n",
       "      <td>920.00</td>\n",
       "      <td>&lt;NA&gt;</td>\n",
       "      <td>&lt;NA&gt;</td>\n",
       "      <td>&lt;NA&gt;</td>\n",
       "    </tr>\n",
       "    <tr>\n",
       "      <th>1</th>\n",
       "      <td>for_sale</td>\n",
       "      <td>80000.00</td>\n",
       "      <td>4.00</td>\n",
       "      <td>2.00</td>\n",
       "      <td>0.08</td>\n",
       "      <td>Km 78 9 Carr # 135, Adjuntas, PR, 00601</td>\n",
       "      <td>Km 78 9 Carr # 135</td>\n",
       "      <td>Adjuntas</td>\n",
       "      <td>&lt;NA&gt;</td>\n",
       "      <td>601.00</td>\n",
       "      <td>1527.00</td>\n",
       "      <td>&lt;NA&gt;</td>\n",
       "      <td>&lt;NA&gt;</td>\n",
       "      <td>&lt;NA&gt;</td>\n",
       "    </tr>\n",
       "    <tr>\n",
       "      <th>2</th>\n",
       "      <td>for_sale</td>\n",
       "      <td>67000.00</td>\n",
       "      <td>2.00</td>\n",
       "      <td>1.00</td>\n",
       "      <td>0.15</td>\n",
       "      <td>556G 556-G 16 St, Juana Diaz, PR, 00795</td>\n",
       "      <td>556G 556-G 16 St</td>\n",
       "      <td>Juana Diaz</td>\n",
       "      <td>&lt;NA&gt;</td>\n",
       "      <td>795.00</td>\n",
       "      <td>748.00</td>\n",
       "      <td>&lt;NA&gt;</td>\n",
       "      <td>&lt;NA&gt;</td>\n",
       "      <td>&lt;NA&gt;</td>\n",
       "    </tr>\n",
       "    <tr>\n",
       "      <th>3</th>\n",
       "      <td>for_sale</td>\n",
       "      <td>145000.00</td>\n",
       "      <td>4.00</td>\n",
       "      <td>2.00</td>\n",
       "      <td>0.10</td>\n",
       "      <td>R5 Comunidad El Paraso Calle De Oro R-5 Ponce,...</td>\n",
       "      <td>R5 Comunidad El Paraso Calle De Oro R-5 Ponce</td>\n",
       "      <td>Ponce</td>\n",
       "      <td>&lt;NA&gt;</td>\n",
       "      <td>731.00</td>\n",
       "      <td>1800.00</td>\n",
       "      <td>&lt;NA&gt;</td>\n",
       "      <td>&lt;NA&gt;</td>\n",
       "      <td>&lt;NA&gt;</td>\n",
       "    </tr>\n",
       "    <tr>\n",
       "      <th>4</th>\n",
       "      <td>for_sale</td>\n",
       "      <td>65000.00</td>\n",
       "      <td>6.00</td>\n",
       "      <td>2.00</td>\n",
       "      <td>0.05</td>\n",
       "      <td>14 Navarro, Mayaguez, PR, 00680</td>\n",
       "      <td>14 Navarro</td>\n",
       "      <td>Mayaguez</td>\n",
       "      <td>&lt;NA&gt;</td>\n",
       "      <td>680.00</td>\n",
       "      <td>&lt;NA&gt;</td>\n",
       "      <td>&lt;NA&gt;</td>\n",
       "      <td>&lt;NA&gt;</td>\n",
       "      <td>&lt;NA&gt;</td>\n",
       "    </tr>\n",
       "  </tbody>\n",
       "</table>\n",
       "</div>"
      ],
      "text/plain": [
       "     status     price  bed  bath  Lot area (acres)  \\\n",
       "0  for_sale 105000.00 3.00  2.00              0.12   \n",
       "1  for_sale  80000.00 4.00  2.00              0.08   \n",
       "2  for_sale  67000.00 2.00  1.00              0.15   \n",
       "3  for_sale 145000.00 4.00  2.00              0.10   \n",
       "4  for_sale  65000.00 6.00  2.00              0.05   \n",
       "\n",
       "                                        Full Address  \\\n",
       "0  Sector Yahuecas Titulo # V84, Adjuntas, PR, 00601   \n",
       "1            Km 78 9 Carr # 135, Adjuntas, PR, 00601   \n",
       "2            556G 556-G 16 St, Juana Diaz, PR, 00795   \n",
       "3  R5 Comunidad El Paraso Calle De Oro R-5 Ponce,...   \n",
       "4                    14 Navarro, Mayaguez, PR, 00680   \n",
       "\n",
       "                                          street        city state Zip code  \\\n",
       "0                   Sector Yahuecas Titulo # V84    Adjuntas  <NA>   601.00   \n",
       "1                             Km 78 9 Carr # 135    Adjuntas  <NA>   601.00   \n",
       "2                               556G 556-G 16 St  Juana Diaz  <NA>   795.00   \n",
       "3  R5 Comunidad El Paraso Calle De Oro R-5 Ponce       Ponce  <NA>   731.00   \n",
       "4                                     14 Navarro    Mayaguez  <NA>   680.00   \n",
       "\n",
       "   House size (square feet) sold_date  shootings_count bath_tub  \n",
       "0                    920.00      <NA>             <NA>     <NA>  \n",
       "1                   1527.00      <NA>             <NA>     <NA>  \n",
       "2                    748.00      <NA>             <NA>     <NA>  \n",
       "3                   1800.00      <NA>             <NA>     <NA>  \n",
       "4                      <NA>      <NA>             <NA>     <NA>  "
      ]
     },
     "execution_count": 69,
     "metadata": {},
     "output_type": "execute_result"
    }
   ],
   "source": [
    "df.head()"
   ]
  },
  {
   "cell_type": "markdown",
   "id": "6069be2e",
   "metadata": {
    "id": "6069be2e"
   },
   "source": [
    "### Describe"
   ]
  },
  {
   "cell_type": "code",
   "execution_count": 70,
   "id": "mJyAKt-197f7",
   "metadata": {
    "id": "mJyAKt-197f7"
   },
   "outputs": [],
   "source": [
    "pd.set_option('display.float_format', lambda x: '%.2f' % x)"
   ]
  },
  {
   "cell_type": "code",
   "execution_count": 71,
   "id": "f0005678",
   "metadata": {
    "colab": {
     "base_uri": "https://localhost:8080/",
     "height": 300
    },
    "id": "f0005678",
    "outputId": "a0de0297-0669-41fa-835d-033411a3135a"
   },
   "outputs": [
    {
     "data": {
      "text/html": [
       "<div>\n",
       "<style scoped>\n",
       "    .dataframe tbody tr th:only-of-type {\n",
       "        vertical-align: middle;\n",
       "    }\n",
       "\n",
       "    .dataframe tbody tr th {\n",
       "        vertical-align: top;\n",
       "    }\n",
       "\n",
       "    .dataframe thead th {\n",
       "        text-align: right;\n",
       "    }\n",
       "</style>\n",
       "<table border=\"1\" class=\"dataframe\">\n",
       "  <thead>\n",
       "    <tr style=\"text-align: right;\">\n",
       "      <th></th>\n",
       "      <th>price</th>\n",
       "      <th>bed</th>\n",
       "      <th>bath</th>\n",
       "      <th>Lot area (acres)</th>\n",
       "      <th>House size (square feet)</th>\n",
       "      <th>sold_date</th>\n",
       "      <th>shootings_count</th>\n",
       "    </tr>\n",
       "  </thead>\n",
       "  <tbody>\n",
       "    <tr>\n",
       "      <th>count</th>\n",
       "      <td>733088.00</td>\n",
       "      <td>617177.00</td>\n",
       "      <td>621407.00</td>\n",
       "      <td>572378.00</td>\n",
       "      <td>520772.00</td>\n",
       "      <td>347237</td>\n",
       "      <td>293781.00</td>\n",
       "    </tr>\n",
       "    <tr>\n",
       "      <th>mean</th>\n",
       "      <td>725701.66</td>\n",
       "      <td>3.42</td>\n",
       "      <td>2.54</td>\n",
       "      <td>19.06</td>\n",
       "      <td>2192.53</td>\n",
       "      <td>2008-11-08</td>\n",
       "      <td>4.79</td>\n",
       "    </tr>\n",
       "    <tr>\n",
       "      <th>min</th>\n",
       "      <td>0.00</td>\n",
       "      <td>1.00</td>\n",
       "      <td>1.00</td>\n",
       "      <td>0.00</td>\n",
       "      <td>100.00</td>\n",
       "      <td>1901-01-01</td>\n",
       "      <td>1.00</td>\n",
       "    </tr>\n",
       "    <tr>\n",
       "      <th>25%</th>\n",
       "      <td>237500.00</td>\n",
       "      <td>2.00</td>\n",
       "      <td>2.00</td>\n",
       "      <td>0.14</td>\n",
       "      <td>1195.00</td>\n",
       "      <td>2002-08-26</td>\n",
       "      <td>1.00</td>\n",
       "    </tr>\n",
       "    <tr>\n",
       "      <th>50%</th>\n",
       "      <td>419000.00</td>\n",
       "      <td>3.00</td>\n",
       "      <td>2.00</td>\n",
       "      <td>0.35</td>\n",
       "      <td>1714.00</td>\n",
       "      <td>2009-07-22</td>\n",
       "      <td>3.00</td>\n",
       "    </tr>\n",
       "    <tr>\n",
       "      <th>75%</th>\n",
       "      <td>725000.00</td>\n",
       "      <td>4.00</td>\n",
       "      <td>3.00</td>\n",
       "      <td>1.38</td>\n",
       "      <td>2547.25</td>\n",
       "      <td>2017-10-12</td>\n",
       "      <td>7.00</td>\n",
       "    </tr>\n",
       "    <tr>\n",
       "      <th>max</th>\n",
       "      <td>875000000.00</td>\n",
       "      <td>123.00</td>\n",
       "      <td>198.00</td>\n",
       "      <td>100000.00</td>\n",
       "      <td>1450112.00</td>\n",
       "      <td>2023-03-01</td>\n",
       "      <td>36.00</td>\n",
       "    </tr>\n",
       "    <tr>\n",
       "      <th>std</th>\n",
       "      <td>1768768.91</td>\n",
       "      <td>2.03</td>\n",
       "      <td>2.00</td>\n",
       "      <td>1022.01</td>\n",
       "      <td>3141.46</td>\n",
       "      <td>NaN</td>\n",
       "      <td>5.37</td>\n",
       "    </tr>\n",
       "  </tbody>\n",
       "</table>\n",
       "</div>"
      ],
      "text/plain": [
       "             price       bed      bath  Lot area (acres)  \\\n",
       "count    733088.00 617177.00 621407.00         572378.00   \n",
       "mean     725701.66      3.42      2.54             19.06   \n",
       "min           0.00      1.00      1.00              0.00   \n",
       "25%      237500.00      2.00      2.00              0.14   \n",
       "50%      419000.00      3.00      2.00              0.35   \n",
       "75%      725000.00      4.00      3.00              1.38   \n",
       "max   875000000.00    123.00    198.00         100000.00   \n",
       "std     1768768.91      2.03      2.00           1022.01   \n",
       "\n",
       "       House size (square feet)   sold_date  shootings_count  \n",
       "count                 520772.00      347237        293781.00  \n",
       "mean                    2192.53  2008-11-08             4.79  \n",
       "min                      100.00  1901-01-01             1.00  \n",
       "25%                     1195.00  2002-08-26             1.00  \n",
       "50%                     1714.00  2009-07-22             3.00  \n",
       "75%                     2547.25  2017-10-12             7.00  \n",
       "max                  1450112.00  2023-03-01            36.00  \n",
       "std                     3141.46         NaN             5.37  "
      ]
     },
     "execution_count": 71,
     "metadata": {},
     "output_type": "execute_result"
    }
   ],
   "source": [
    "df.describe()"
   ]
  },
  {
   "cell_type": "code",
   "execution_count": 72,
   "id": "g86JraONEN9y",
   "metadata": {
    "colab": {
     "base_uri": "https://localhost:8080/",
     "height": 899
    },
    "id": "g86JraONEN9y",
    "outputId": "c07ae217-1725-42d1-9dcf-e89aaf7dec4e"
   },
   "outputs": [
    {
     "data": {
      "image/png": "[encoded data removed]",
      "text/plain": [
       "<Figure size 1200x900 with 9 Axes>"
      ]
     },
     "metadata": {},
     "output_type": "display_data"
    }
   ],
   "source": [
    "df.hist(figsize=(12, 9))\n",
    "plt.tight_layout()\n",
    "plt.show()"
   ]
  },
  {
   "cell_type": "markdown",
   "id": "0a46a3fd",
   "metadata": {
    "id": "0a46a3fd"
   },
   "source": [
    "### Histogramas"
   ]
  },
  {
   "cell_type": "code",
   "execution_count": 73,
   "id": "9473fe9a",
   "metadata": {
    "colab": {
     "base_uri": "https://localhost:8080/",
     "height": 465
    },
    "id": "9473fe9a",
    "outputId": "820b9cc2-0b08-428b-9578-0979876fda54"
   },
   "outputs": [
    {
     "data": {
      "text/plain": [
       "<Axes: >"
      ]
     },
     "execution_count": 73,
     "metadata": {},
     "output_type": "execute_result"
    },
    {
     "data": {
      "image/png": "[encoded data removed]",
      "text/plain": [
       "<Figure size 640x480 with 1 Axes>"
      ]
     },
     "metadata": {},
     "output_type": "display_data"
    }
   ],
   "source": [
    "df['price'].hist(bins=10)"
   ]
  },
  {
   "cell_type": "code",
   "execution_count": 74,
   "id": "7a8d43aa",
   "metadata": {
    "colab": {
     "base_uri": "https://localhost:8080/",
     "height": 448
    },
    "id": "7a8d43aa",
    "outputId": "31389f62-75e5-4ae3-9a1f-d1c7d61586d9"
   },
   "outputs": [
    {
     "data": {
      "text/plain": [
       "<Axes: >"
      ]
     },
     "execution_count": 74,
     "metadata": {},
     "output_type": "execute_result"
    },
    {
     "data": {
      "image/png": "[encoded data removed]",
      "text/plain": [
       "<Figure size 640x480 with 1 Axes>"
      ]
     },
     "metadata": {},
     "output_type": "display_data"
    }
   ],
   "source": [
    "df['bed'].hist(bins=50)"
   ]
  },
  {
   "cell_type": "markdown",
   "id": "15dd259e",
   "metadata": {
    "id": "15dd259e"
   },
   "source": [
    "### Valores Nulos"
   ]
  },
  {
   "cell_type": "code",
   "execution_count": 75,
   "id": "69836e0e",
   "metadata": {
    "colab": {
     "base_uri": "https://localhost:8080/"
    },
    "id": "69836e0e",
    "outputId": "55076b67-3c7b-48db-95d6-235a9c0394a6"
   },
   "outputs": [
    {
     "data": {
      "text/plain": [
       "status                           0\n",
       "price                           71\n",
       "bed                         115982\n",
       "bath                        111752\n",
       "Lot area (acres)            160781\n",
       "Full Address                     0\n",
       "street                        1090\n",
       "city                            72\n",
       "state                        27252\n",
       "Zip code                       202\n",
       "House size (square feet)    212387\n",
       "sold_date                   385922\n",
       "shootings_count             439378\n",
       "bath_tub                    733159\n",
       "dtype: int64"
      ]
     },
     "execution_count": 75,
     "metadata": {},
     "output_type": "execute_result"
    }
   ],
   "source": [
    "df.isna().sum()"
   ]
  },
  {
   "cell_type": "code",
   "execution_count": 76,
   "id": "199f26a1",
   "metadata": {},
   "outputs": [
    {
     "data": {
      "image/png": "[encoded data removed]",
      "text/plain": [
       "<Figure size 1200x800 with 1 Axes>"
      ]
     },
     "metadata": {},
     "output_type": "display_data"
    }
   ],
   "source": [
    "# Calculate missing values\n",
    "missing_data = df.isnull().sum()\n",
    "\n",
    "# Plot missing values\n",
    "plt.figure(figsize=(12, 8))\n",
    "missing_data.plot(kind='bar', color='salmon')\n",
    "plt.title('Missing Values by Column')\n",
    "plt.ylabel('Number of Missing Values')\n",
    "plt.xlabel('Columns')\n",
    "plt.xticks(rotation=45)\n",
    "plt.show()\n"
   ]
  },
  {
   "cell_type": "markdown",
   "id": "bc72e7ab",
   "metadata": {
    "id": "bc72e7ab"
   },
   "source": [
    "## Limpieza de datos"
   ]
  },
  {
   "cell_type": "code",
   "execution_count": 77,
   "id": "437211e0",
   "metadata": {
    "id": "437211e0"
   },
   "outputs": [],
   "source": [
    "def calculate_outliers(df: pd.DataFrame, field_name:str) -> float:\n",
    "    mean = df[field_name].mean()\n",
    "    std = df[field_name].std()\n",
    "\n",
    "    print(f'{field_name} Promedio: {mean:,.2f} Desviacion standard {std:,.2f}')\n",
    "    outliers = mean + 3 * std\n",
    "    return outliers"
   ]
  },
  {
   "cell_type": "markdown",
   "id": "6b417533",
   "metadata": {
    "id": "6b417533"
   },
   "source": [
    "### Renombrando columnas\n",
    "\n",
    "Porqué?\n",
    "- Estandarización\n",
    "- Caracteres especiales\n",
    "- Uso de la notacion ."
   ]
  },
  {
   "cell_type": "code",
   "execution_count": 78,
   "id": "35MD3K2G_vTg",
   "metadata": {
    "colab": {
     "base_uri": "https://localhost:8080/"
    },
    "id": "35MD3K2G_vTg",
    "outputId": "e42206cf-7334-4f8e-b09c-23a03820287c"
   },
   "outputs": [
    {
     "name": "stdout",
     "output_type": "stream",
     "text": [
      "Price max: 875,000,000.0\n"
     ]
    }
   ],
   "source": [
    "print(f'Price max: {df.price.max():,}')"
   ]
  },
  {
   "cell_type": "code",
   "execution_count": 79,
   "id": "e3ca9ba4",
   "metadata": {
    "id": "e3ca9ba4"
   },
   "outputs": [],
   "source": [
    "column_dict = {\n",
    "  \"Lot area (acres)\": \"area_acres\",\n",
    "  \"Full Address\": 'full_address',\n",
    "  \"Zip code\": \"zip_code\",\n",
    "  \"House size (square feet)\": 'house_area_square_feet',\n",
    "}"
   ]
  },
  {
   "cell_type": "code",
   "execution_count": 80,
   "id": "12b4f8c2",
   "metadata": {
    "id": "12b4f8c2"
   },
   "outputs": [],
   "source": [
    "df = df.rename(columns=column_dict)"
   ]
  },
  {
   "cell_type": "code",
   "execution_count": 81,
   "id": "96f3173f",
   "metadata": {
    "colab": {
     "base_uri": "https://localhost:8080/"
    },
    "id": "96f3173f",
    "outputId": "02a086b2-9eac-477f-892c-9097c7c5a2bc"
   },
   "outputs": [
    {
     "name": "stdout",
     "output_type": "stream",
     "text": [
      "<class 'pandas.core.frame.DataFrame'>\n",
      "RangeIndex: 733159 entries, 0 to 733158\n",
      "Data columns (total 14 columns):\n",
      " #   Column                  Non-Null Count   Dtype               \n",
      "---  ------                  --------------   -----               \n",
      " 0   status                  733159 non-null  category            \n",
      " 1   price                   733088 non-null  double[pyarrow]     \n",
      " 2   bed                     617177 non-null  double[pyarrow]     \n",
      " 3   bath                    621407 non-null  double[pyarrow]     \n",
      " 4   area_acres              572378 non-null  double[pyarrow]     \n",
      " 5   full_address            733159 non-null  string[pyarrow]     \n",
      " 6   street                  732069 non-null  string[pyarrow]     \n",
      " 7   city                    733087 non-null  category            \n",
      " 8   state                   705907 non-null  string[pyarrow]     \n",
      " 9   zip_code                732957 non-null  category            \n",
      " 10  house_area_square_feet  520772 non-null  double[pyarrow]     \n",
      " 11  sold_date               347237 non-null  date32[day][pyarrow]\n",
      " 12  shootings_count         293781 non-null  double[pyarrow]     \n",
      " 13  bath_tub                0 non-null       null[pyarrow]       \n",
      "dtypes: category(3), date32[day][pyarrow](1), double[pyarrow](6), null[pyarrow](1), string[pyarrow](3)\n",
      "memory usage: 88.8 MB\n"
     ]
    }
   ],
   "source": [
    "df.info()"
   ]
  },
  {
   "cell_type": "markdown",
   "id": "f599879f",
   "metadata": {
    "id": "f599879f"
   },
   "source": [
    "### Eliminando los valores nulos\n",
    "\n",
    "\n",
    "1. **Imputation**: Replace missing values with the mean, median, or mode of the column.\n",
    "2. **Drop**: Remove rows with missing values. This approach will reduce our dataset size, which might not be ideal, especially if a large portion of the data is affected.\n",
    "3. **Predictive Imputation**: Use machine learning models to predict and fill in missing values. This approach is more complex and might be overkill for our current analysis."
   ]
  },
  {
   "cell_type": "markdown",
   "id": "40c3084c",
   "metadata": {},
   "source": [
    "#### Usando dropna"
   ]
  },
  {
   "cell_type": "code",
   "execution_count": 82,
   "id": "3bf8b933",
   "metadata": {
    "colab": {
     "base_uri": "https://localhost:8080/"
    },
    "id": "3bf8b933",
    "outputId": "0d5ec1a0-686b-4291-e7b4-dcf614ee64e8"
   },
   "outputs": [
    {
     "data": {
      "text/plain": [
       "status                         0\n",
       "price                         71\n",
       "bed                       115982\n",
       "bath                      111752\n",
       "area_acres                160781\n",
       "full_address                   0\n",
       "street                      1090\n",
       "city                          72\n",
       "state                      27252\n",
       "zip_code                     202\n",
       "house_area_square_feet    212387\n",
       "sold_date                 385922\n",
       "shootings_count           439378\n",
       "bath_tub                  733159\n",
       "dtype: int64"
      ]
     },
     "execution_count": 82,
     "metadata": {},
     "output_type": "execute_result"
    }
   ],
   "source": [
    "df.isna().sum()"
   ]
  },
  {
   "cell_type": "code",
   "execution_count": 83,
   "id": "2bc9f2ff",
   "metadata": {
    "id": "2bc9f2ff"
   },
   "outputs": [],
   "source": [
    "df = df.dropna(subset=['price', 'house_area_square_feet', 'area_acres', 'bed', 'bath'])"
   ]
  },
  {
   "cell_type": "code",
   "execution_count": 84,
   "id": "f22af622",
   "metadata": {
    "colab": {
     "base_uri": "https://localhost:8080/"
    },
    "id": "f22af622",
    "outputId": "325c7155-2016-45ef-cd12-ce40109a1b75"
   },
   "outputs": [
    {
     "name": "stdout",
     "output_type": "stream",
     "text": [
      "Filas: 383,547 Porcentaje datos eliminados: 47.685700%\n"
     ]
    }
   ],
   "source": [
    "df.shape\n",
    "\n",
    "print(f'Filas: {df.shape[0]:,} Porcentaje datos eliminados: {1-df.shape[0]/original_row_count:%}')"
   ]
  },
  {
   "cell_type": "markdown",
   "id": "ea54a3a0",
   "metadata": {},
   "source": [
    "#### Imputando values\n"
   ]
  },
  {
   "cell_type": "markdown",
   "id": "6f414d71",
   "metadata": {},
   "source": [
    "Out of scope"
   ]
  },
  {
   "cell_type": "markdown",
   "id": "f37a4298",
   "metadata": {
    "id": "f37a4298"
   },
   "source": [
    "### Camas"
   ]
  },
  {
   "cell_type": "code",
   "execution_count": 85,
   "id": "ebd37941",
   "metadata": {
    "colab": {
     "base_uri": "https://localhost:8080/"
    },
    "id": "ebd37941",
    "outputId": "ef8938ea-94da-4c61-facc-2e8c765c2a9e"
   },
   "outputs": [
    {
     "name": "stdout",
     "output_type": "stream",
     "text": [
      "Promedio: 3.78 Desviacion standard 2.17\n",
      "Outliers: +/- 10.28\n"
     ]
    }
   ],
   "source": [
    "bed_mean = df['bed'].mean()\n",
    "bed_std = df['bed'].std()\n",
    "\n",
    "print(f'Promedio: {bed_mean:.2f} Desviacion standard {bed_std:.2f}')\n",
    "outliers = bed_mean + 3 * bed_std\n",
    "\n",
    "print(f'Outliers: +/- {outliers:.2f}')"
   ]
  },
  {
   "cell_type": "code",
   "execution_count": 86,
   "id": "9065cd7e",
   "metadata": {
    "colab": {
     "base_uri": "https://localhost:8080/"
    },
    "id": "9065cd7e",
    "outputId": "a5933cab-0173-452b-806a-2fac5e7cd88b"
   },
   "outputs": [
    {
     "name": "stdout",
     "output_type": "stream",
     "text": [
      "(4018, 14)\n"
     ]
    }
   ],
   "source": [
    "beds = df.loc[df['bed'] >= outliers]\n",
    "\n",
    "print(beds.shape)"
   ]
  },
  {
   "cell_type": "code",
   "execution_count": 87,
   "id": "bb9bfccb",
   "metadata": {
    "colab": {
     "base_uri": "https://localhost:8080/"
    },
    "id": "bb9bfccb",
    "outputId": "e6e387c2-678d-455d-c770-2fb9be7df419"
   },
   "outputs": [
    {
     "data": {
      "text/plain": [
       "count   4018.00\n",
       "mean      15.54\n",
       "std       10.30\n",
       "min       11.00\n",
       "25%       12.00\n",
       "50%       12.00\n",
       "75%       15.75\n",
       "max       99.00\n",
       "Name: bed, dtype: double[pyarrow]"
      ]
     },
     "execution_count": 87,
     "metadata": {},
     "output_type": "execute_result"
    }
   ],
   "source": [
    "beds['bed'].describe()"
   ]
  },
  {
   "cell_type": "code",
   "execution_count": 88,
   "id": "51ca1f7a",
   "metadata": {
    "id": "51ca1f7a"
   },
   "outputs": [],
   "source": [
    "df = df.drop(beds.index)"
   ]
  },
  {
   "cell_type": "code",
   "execution_count": 89,
   "id": "ae8d3ed2",
   "metadata": {
    "colab": {
     "base_uri": "https://localhost:8080/",
     "height": 447
    },
    "id": "ae8d3ed2",
    "outputId": "25a1362d-d451-4235-f729-c57a1762dc40"
   },
   "outputs": [
    {
     "data": {
      "text/plain": [
       "<Axes: >"
      ]
     },
     "execution_count": 89,
     "metadata": {},
     "output_type": "execute_result"
    },
    {
     "data": {
      "image/png": "[encoded data removed]",
      "text/plain": [
       "<Figure size 640x480 with 1 Axes>"
      ]
     },
     "metadata": {},
     "output_type": "display_data"
    }
   ],
   "source": [
    "df['bed'].hist(bins=10)"
   ]
  },
  {
   "cell_type": "markdown",
   "id": "7fa6183c",
   "metadata": {
    "id": "7fa6183c"
   },
   "source": [
    "### Banos"
   ]
  },
  {
   "cell_type": "code",
   "execution_count": 90,
   "id": "7e518f9d",
   "metadata": {
    "colab": {
     "base_uri": "https://localhost:8080/"
    },
    "id": "7e518f9d",
    "outputId": "d313a2ca-4c6e-46a1-d2fa-61baad147b6e"
   },
   "outputs": [
    {
     "data": {
      "text/plain": [
       "count   379529.00\n",
       "mean         2.60\n",
       "std          1.40\n",
       "min          1.00\n",
       "25%          2.00\n",
       "50%          2.00\n",
       "75%          3.00\n",
       "max         19.00\n",
       "Name: bath, dtype: double[pyarrow]"
      ]
     },
     "execution_count": 90,
     "metadata": {},
     "output_type": "execute_result"
    }
   ],
   "source": [
    "df['bath'].describe()"
   ]
  },
  {
   "cell_type": "code",
   "execution_count": 91,
   "id": "44ab8c04",
   "metadata": {
    "colab": {
     "base_uri": "https://localhost:8080/"
    },
    "id": "44ab8c04",
    "outputId": "b0c2af86-7e1d-41f2-ff66-6fcf5c97e490"
   },
   "outputs": [
    {
     "name": "stdout",
     "output_type": "stream",
     "text": [
      "Promedio: 2.60 Desviacion standard 1.40\n",
      "Outliers: +/- 6.79\n"
     ]
    }
   ],
   "source": [
    "bath_mean = df['bath'].mean()\n",
    "bath_std = df['bath'].std()\n",
    "\n",
    "print(f'Promedio: {bath_mean:.2f} Desviacion standard {bath_std:.2f}')\n",
    "bath_outliers = bath_mean + 3 * bath_std\n",
    "\n",
    "print(f'Outliers: +/- {bath_outliers:.2f}')"
   ]
  },
  {
   "cell_type": "code",
   "execution_count": 92,
   "id": "9b559ae4",
   "metadata": {
    "colab": {
     "base_uri": "https://localhost:8080/"
    },
    "id": "9b559ae4",
    "outputId": "157111fa-157b-4d48-83a1-10af3b96a8ec"
   },
   "outputs": [
    {
     "name": "stdout",
     "output_type": "stream",
     "text": [
      "(612, 14)\n"
     ]
    }
   ],
   "source": [
    "baths = df.loc[df['bath'] >= outliers]\n",
    "\n",
    "print(baths.shape)"
   ]
  },
  {
   "cell_type": "code",
   "execution_count": 93,
   "id": "1c2ce735",
   "metadata": {
    "colab": {
     "base_uri": "https://localhost:8080/"
    },
    "id": "1c2ce735",
    "outputId": "6307a57e-47b3-4a5f-ca94-b2edf5329ffa"
   },
   "outputs": [
    {
     "data": {
      "text/plain": [
       "count   612.00\n",
       "mean     12.15\n",
       "std       1.43\n",
       "min      11.00\n",
       "25%      11.00\n",
       "50%      12.00\n",
       "75%      13.00\n",
       "max      19.00\n",
       "Name: bath, dtype: double[pyarrow]"
      ]
     },
     "execution_count": 93,
     "metadata": {},
     "output_type": "execute_result"
    }
   ],
   "source": [
    "baths['bath'].describe()"
   ]
  },
  {
   "cell_type": "code",
   "execution_count": 94,
   "id": "48be39ad",
   "metadata": {
    "id": "48be39ad"
   },
   "outputs": [],
   "source": [
    "df = df.drop(baths.index)"
   ]
  },
  {
   "cell_type": "code",
   "execution_count": 95,
   "id": "d6eda1fb",
   "metadata": {
    "colab": {
     "base_uri": "https://localhost:8080/",
     "height": 447
    },
    "id": "d6eda1fb",
    "outputId": "e1f1c8b5-0520-480a-d557-0dbede720fa5"
   },
   "outputs": [
    {
     "data": {
      "text/plain": [
       "<Axes: >"
      ]
     },
     "execution_count": 95,
     "metadata": {},
     "output_type": "execute_result"
    },
    {
     "data": {
      "image/png": "[encoded data removed]",
      "text/plain": [
       "<Figure size 640x480 with 1 Axes>"
      ]
     },
     "metadata": {},
     "output_type": "display_data"
    }
   ],
   "source": [
    "df['bath'].hist(bins=9)"
   ]
  },
  {
   "cell_type": "markdown",
   "id": "a68640b2",
   "metadata": {
    "id": "a68640b2"
   },
   "source": [
    "### Precio"
   ]
  },
  {
   "cell_type": "code",
   "execution_count": 96,
   "id": "010f72ab",
   "metadata": {
    "colab": {
     "base_uri": "https://localhost:8080/"
    },
    "id": "010f72ab",
    "outputId": "104f61e2-1e3d-482e-a5f0-0c139538cc3c"
   },
   "outputs": [
    {
     "data": {
      "text/plain": [
       "count      378917.00\n",
       "mean       682288.21\n",
       "std       1137430.41\n",
       "min           500.00\n",
       "25%        270000.00\n",
       "50%        425000.00\n",
       "75%        700000.00\n",
       "max     100000000.00\n",
       "Name: price, dtype: double[pyarrow]"
      ]
     },
     "execution_count": 96,
     "metadata": {},
     "output_type": "execute_result"
    }
   ],
   "source": [
    "df['price'].describe()"
   ]
  },
  {
   "cell_type": "code",
   "execution_count": 97,
   "id": "40e3a37e",
   "metadata": {
    "colab": {
     "base_uri": "https://localhost:8080/"
    },
    "id": "40e3a37e",
    "outputId": "122ddb50-f010-4d3c-f1cd-07959f0cceae"
   },
   "outputs": [
    {
     "name": "stdout",
     "output_type": "stream",
     "text": [
      "Promedio: 682,288.21 Desviacion standard 1,137,430.41\n",
      "Outliers: +/- 4,094,579.44\n"
     ]
    }
   ],
   "source": [
    "price_mean = df['price'].mean()\n",
    "price_std = df['price'].std()\n",
    "\n",
    "print(f'Promedio: {price_mean:,.2f} Desviacion standard {price_std:,.2f}')\n",
    "price_outliers = price_mean + 3 * price_std\n",
    "\n",
    "print(f'Outliers: +/- {price_outliers:,.2f}')"
   ]
  },
  {
   "cell_type": "code",
   "execution_count": 98,
   "id": "66812360",
   "metadata": {
    "colab": {
     "base_uri": "https://localhost:8080/"
    },
    "id": "66812360",
    "outputId": "8768dc48-743f-4b6c-c2d6-20be9b4894cb"
   },
   "outputs": [
    {
     "data": {
      "text/plain": [
       "(5175, 14)"
      ]
     },
     "execution_count": 98,
     "metadata": {},
     "output_type": "execute_result"
    }
   ],
   "source": [
    "extreme = df.loc[df['price'] >= price_outliers]\n",
    "\n",
    "extreme.shape"
   ]
  },
  {
   "cell_type": "code",
   "execution_count": 99,
   "id": "a4e1f123",
   "metadata": {
    "colab": {
     "base_uri": "https://localhost:8080/"
    },
    "id": "a4e1f123",
    "outputId": "a3416628-3132-41cc-f88d-28a435c3d5c8"
   },
   "outputs": [
    {
     "data": {
      "text/plain": [
       "(373742, 14)"
      ]
     },
     "execution_count": 99,
     "metadata": {},
     "output_type": "execute_result"
    }
   ],
   "source": [
    "df = df.drop(extreme.index)\n",
    "\n",
    "df.shape"
   ]
  },
  {
   "cell_type": "code",
   "execution_count": 100,
   "id": "6a453eaa",
   "metadata": {
    "colab": {
     "base_uri": "https://localhost:8080/",
     "height": 465
    },
    "id": "6a453eaa",
    "outputId": "2cfe8422-da23-422c-cf35-36c22349dce5"
   },
   "outputs": [
    {
     "data": {
      "text/plain": [
       "<Axes: >"
      ]
     },
     "execution_count": 100,
     "metadata": {},
     "output_type": "execute_result"
    },
    {
     "data": {
      "image/png": "[encoded data removed]",
      "text/plain": [
       "<Figure size 640x480 with 1 Axes>"
      ]
     },
     "metadata": {},
     "output_type": "display_data"
    }
   ],
   "source": [
    "df['price'].hist(bins=20)"
   ]
  },
  {
   "cell_type": "markdown",
   "id": "MVSkbko5neaS",
   "metadata": {
    "id": "MVSkbko5neaS"
   },
   "source": [
    "### Direcciones repetidas"
   ]
  },
  {
   "cell_type": "code",
   "execution_count": 101,
   "id": "ntR5Vk_xnjV4",
   "metadata": {
    "colab": {
     "base_uri": "https://localhost:8080/"
    },
    "id": "ntR5Vk_xnjV4",
    "outputId": "8ab488f0-a17f-4bd7-cf05-d1014df1eaa4"
   },
   "outputs": [
    {
     "ename": "NotImplementedError",
     "evalue": "",
     "output_type": "error",
     "traceback": [
      "\u001b[0;31m---------------------------------------------------------------------------\u001b[0m",
      "\u001b[0;31mNotImplementedError\u001b[0m                       Traceback (most recent call last)",
      "Cell \u001b[0;32mIn[101], line 1\u001b[0m\n\u001b[0;32m----> 1\u001b[0m \u001b[43mdf\u001b[49m\u001b[38;5;241;43m.\u001b[39;49m\u001b[43mduplicated\u001b[49m\u001b[43m(\u001b[49m\u001b[43msubset\u001b[49m\u001b[38;5;241;43m=\u001b[39;49m\u001b[43m[\u001b[49m\u001b[38;5;124;43m'\u001b[39;49m\u001b[38;5;124;43mfull_address\u001b[39;49m\u001b[38;5;124;43m'\u001b[39;49m\u001b[43m]\u001b[49m\u001b[43m)\u001b[49m\u001b[38;5;241m.\u001b[39msum()\n",
      "File \u001b[0;32m~/PycharmProjects/pylearn-data-101/venv/lib/python3.10/site-packages/pandas/core/frame.py:6705\u001b[0m, in \u001b[0;36mDataFrame.duplicated\u001b[0;34m(self, subset, keep)\u001b[0m\n\u001b[1;32m   6701\u001b[0m     \u001b[38;5;28;01mraise\u001b[39;00m \u001b[38;5;167;01mKeyError\u001b[39;00m(Index(diff))\n\u001b[1;32m   6703\u001b[0m \u001b[38;5;28;01mif\u001b[39;00m \u001b[38;5;28mlen\u001b[39m(subset) \u001b[38;5;241m==\u001b[39m \u001b[38;5;241m1\u001b[39m \u001b[38;5;129;01mand\u001b[39;00m \u001b[38;5;28mself\u001b[39m\u001b[38;5;241m.\u001b[39mcolumns\u001b[38;5;241m.\u001b[39mis_unique:\n\u001b[1;32m   6704\u001b[0m     \u001b[38;5;66;03m# GH#45236 This is faster than get_group_index below\u001b[39;00m\n\u001b[0;32m-> 6705\u001b[0m     result \u001b[38;5;241m=\u001b[39m \u001b[38;5;28;43mself\u001b[39;49m\u001b[43m[\u001b[49m\u001b[43msubset\u001b[49m\u001b[43m[\u001b[49m\u001b[38;5;241;43m0\u001b[39;49m\u001b[43m]\u001b[49m\u001b[43m]\u001b[49m\u001b[38;5;241;43m.\u001b[39;49m\u001b[43mduplicated\u001b[49m\u001b[43m(\u001b[49m\u001b[43mkeep\u001b[49m\u001b[43m)\u001b[49m\n\u001b[1;32m   6706\u001b[0m     result\u001b[38;5;241m.\u001b[39mname \u001b[38;5;241m=\u001b[39m \u001b[38;5;28;01mNone\u001b[39;00m\n\u001b[1;32m   6707\u001b[0m \u001b[38;5;28;01melse\u001b[39;00m:\n",
      "File \u001b[0;32m~/PycharmProjects/pylearn-data-101/venv/lib/python3.10/site-packages/pandas/core/series.py:2484\u001b[0m, in \u001b[0;36mSeries.duplicated\u001b[0;34m(self, keep)\u001b[0m\n\u001b[1;32m   2408\u001b[0m \u001b[38;5;28;01mdef\u001b[39;00m \u001b[38;5;21mduplicated\u001b[39m(\u001b[38;5;28mself\u001b[39m, keep: DropKeep \u001b[38;5;241m=\u001b[39m \u001b[38;5;124m\"\u001b[39m\u001b[38;5;124mfirst\u001b[39m\u001b[38;5;124m\"\u001b[39m) \u001b[38;5;241m-\u001b[39m\u001b[38;5;241m>\u001b[39m Series:\n\u001b[1;32m   2409\u001b[0m \u001b[38;5;250m    \u001b[39m\u001b[38;5;124;03m\"\"\"\u001b[39;00m\n\u001b[1;32m   2410\u001b[0m \u001b[38;5;124;03m    Indicate duplicate Series values.\u001b[39;00m\n\u001b[1;32m   2411\u001b[0m \n\u001b[0;32m   (...)\u001b[0m\n\u001b[1;32m   2482\u001b[0m \u001b[38;5;124;03m    dtype: bool\u001b[39;00m\n\u001b[1;32m   2483\u001b[0m \u001b[38;5;124;03m    \"\"\"\u001b[39;00m\n\u001b[0;32m-> 2484\u001b[0m     res \u001b[38;5;241m=\u001b[39m \u001b[38;5;28;43mself\u001b[39;49m\u001b[38;5;241;43m.\u001b[39;49m\u001b[43m_duplicated\u001b[49m\u001b[43m(\u001b[49m\u001b[43mkeep\u001b[49m\u001b[38;5;241;43m=\u001b[39;49m\u001b[43mkeep\u001b[49m\u001b[43m)\u001b[49m\n\u001b[1;32m   2485\u001b[0m     result \u001b[38;5;241m=\u001b[39m \u001b[38;5;28mself\u001b[39m\u001b[38;5;241m.\u001b[39m_constructor(res, index\u001b[38;5;241m=\u001b[39m\u001b[38;5;28mself\u001b[39m\u001b[38;5;241m.\u001b[39mindex, copy\u001b[38;5;241m=\u001b[39m\u001b[38;5;28;01mFalse\u001b[39;00m)\n\u001b[1;32m   2486\u001b[0m     \u001b[38;5;28;01mreturn\u001b[39;00m result\u001b[38;5;241m.\u001b[39m__finalize__(\u001b[38;5;28mself\u001b[39m, method\u001b[38;5;241m=\u001b[39m\u001b[38;5;124m\"\u001b[39m\u001b[38;5;124mduplicated\u001b[39m\u001b[38;5;124m\"\u001b[39m)\n",
      "File \u001b[0;32m~/PycharmProjects/pylearn-data-101/venv/lib/python3.10/site-packages/pandas/core/base.py:1368\u001b[0m, in \u001b[0;36mIndexOpsMixin._duplicated\u001b[0;34m(self, keep)\u001b[0m\n\u001b[1;32m   1366\u001b[0m \u001b[38;5;129m@final\u001b[39m\n\u001b[1;32m   1367\u001b[0m \u001b[38;5;28;01mdef\u001b[39;00m \u001b[38;5;21m_duplicated\u001b[39m(\u001b[38;5;28mself\u001b[39m, keep: DropKeep \u001b[38;5;241m=\u001b[39m \u001b[38;5;124m\"\u001b[39m\u001b[38;5;124mfirst\u001b[39m\u001b[38;5;124m\"\u001b[39m) \u001b[38;5;241m-\u001b[39m\u001b[38;5;241m>\u001b[39m npt\u001b[38;5;241m.\u001b[39mNDArray[np\u001b[38;5;241m.\u001b[39mbool_]:\n\u001b[0;32m-> 1368\u001b[0m     \u001b[38;5;28;01mreturn\u001b[39;00m \u001b[43malgorithms\u001b[49m\u001b[38;5;241;43m.\u001b[39;49m\u001b[43mduplicated\u001b[49m\u001b[43m(\u001b[49m\u001b[38;5;28;43mself\u001b[39;49m\u001b[38;5;241;43m.\u001b[39;49m\u001b[43m_values\u001b[49m\u001b[43m,\u001b[49m\u001b[43m \u001b[49m\u001b[43mkeep\u001b[49m\u001b[38;5;241;43m=\u001b[39;49m\u001b[43mkeep\u001b[49m\u001b[43m)\u001b[49m\n",
      "File \u001b[0;32m~/PycharmProjects/pylearn-data-101/venv/lib/python3.10/site-packages/pandas/core/algorithms.py:1002\u001b[0m, in \u001b[0;36mduplicated\u001b[0;34m(values, keep)\u001b[0m\n\u001b[1;32m   1000\u001b[0m \u001b[38;5;28;01mif\u001b[39;00m \u001b[38;5;28mhasattr\u001b[39m(values, \u001b[38;5;124m\"\u001b[39m\u001b[38;5;124mdtype\u001b[39m\u001b[38;5;124m\"\u001b[39m):\n\u001b[1;32m   1001\u001b[0m     \u001b[38;5;28;01mif\u001b[39;00m \u001b[38;5;28misinstance\u001b[39m(values\u001b[38;5;241m.\u001b[39mdtype, ArrowDtype):\n\u001b[0;32m-> 1002\u001b[0m         values \u001b[38;5;241m=\u001b[39m \u001b[43mvalues\u001b[49m\u001b[38;5;241;43m.\u001b[39;49m\u001b[43m_to_masked\u001b[49m\u001b[43m(\u001b[49m\u001b[43m)\u001b[49m  \u001b[38;5;66;03m# type: ignore[union-attr]\u001b[39;00m\n\u001b[1;32m   1004\u001b[0m     \u001b[38;5;28;01mif\u001b[39;00m \u001b[38;5;28misinstance\u001b[39m(values\u001b[38;5;241m.\u001b[39mdtype, BaseMaskedDtype):\n\u001b[1;32m   1005\u001b[0m         values \u001b[38;5;241m=\u001b[39m cast(\u001b[38;5;124m\"\u001b[39m\u001b[38;5;124mBaseMaskedArray\u001b[39m\u001b[38;5;124m\"\u001b[39m, values)\n",
      "File \u001b[0;32m~/PycharmProjects/pylearn-data-101/venv/lib/python3.10/site-packages/pandas/core/arrays/arrow/array.py:1964\u001b[0m, in \u001b[0;36mArrowExtensionArray._to_masked\u001b[0;34m(self)\u001b[0m\n\u001b[1;32m   1962\u001b[0m     na_value \u001b[38;5;241m=\u001b[39m \u001b[38;5;28;01mTrue\u001b[39;00m\n\u001b[1;32m   1963\u001b[0m \u001b[38;5;28;01melse\u001b[39;00m:\n\u001b[0;32m-> 1964\u001b[0m     \u001b[38;5;28;01mraise\u001b[39;00m \u001b[38;5;167;01mNotImplementedError\u001b[39;00m\n\u001b[1;32m   1966\u001b[0m dtype \u001b[38;5;241m=\u001b[39m _arrow_dtype_mapping()[pa_dtype]\n\u001b[1;32m   1967\u001b[0m mask \u001b[38;5;241m=\u001b[39m \u001b[38;5;28mself\u001b[39m\u001b[38;5;241m.\u001b[39misna()\n",
      "\u001b[0;31mNotImplementedError\u001b[0m: "
     ]
    }
   ],
   "source": [
    "\n",
    "df.duplicated(subset=['full_address']).sum()"
   ]
  },
  {
   "cell_type": "code",
   "execution_count": 50,
   "id": "BUjEzJ5dn9td",
   "metadata": {
    "id": "BUjEzJ5dn9td"
   },
   "outputs": [
    {
     "ename": "NotImplementedError",
     "evalue": "",
     "output_type": "error",
     "traceback": [
      "\u001b[0;31m---------------------------------------------------------------------------\u001b[0m",
      "\u001b[0;31mNotImplementedError\u001b[0m                       Traceback (most recent call last)",
      "Cell \u001b[0;32mIn[50], line 2\u001b[0m\n\u001b[1;32m      1\u001b[0m df \u001b[38;5;241m=\u001b[39m df\u001b[38;5;241m.\u001b[39msort_values(by\u001b[38;5;241m=\u001b[39m\u001b[38;5;124m'\u001b[39m\u001b[38;5;124mfull_address\u001b[39m\u001b[38;5;124m'\u001b[39m)\n\u001b[0;32m----> 2\u001b[0m df \u001b[38;5;241m=\u001b[39m \u001b[43mdf\u001b[49m\u001b[38;5;241;43m.\u001b[39;49m\u001b[43mdrop_duplicates\u001b[49m\u001b[43m(\u001b[49m\u001b[43mkeep\u001b[49m\u001b[38;5;241;43m=\u001b[39;49m\u001b[38;5;124;43m'\u001b[39;49m\u001b[38;5;124;43mlast\u001b[39;49m\u001b[38;5;124;43m'\u001b[39;49m\u001b[43m,\u001b[49m\u001b[43m \u001b[49m\u001b[43msubset\u001b[49m\u001b[38;5;241;43m=\u001b[39;49m\u001b[43m[\u001b[49m\u001b[38;5;124;43m'\u001b[39;49m\u001b[38;5;124;43mfull_address\u001b[39;49m\u001b[38;5;124;43m'\u001b[39;49m\u001b[43m]\u001b[49m\u001b[43m)\u001b[49m\n",
      "File \u001b[0;32m~/PycharmProjects/pylearn-data-101/venv/lib/python3.10/site-packages/pandas/core/frame.py:6569\u001b[0m, in \u001b[0;36mDataFrame.drop_duplicates\u001b[0;34m(self, subset, keep, inplace, ignore_index)\u001b[0m\n\u001b[1;32m   6566\u001b[0m inplace \u001b[38;5;241m=\u001b[39m validate_bool_kwarg(inplace, \u001b[38;5;124m\"\u001b[39m\u001b[38;5;124minplace\u001b[39m\u001b[38;5;124m\"\u001b[39m)\n\u001b[1;32m   6567\u001b[0m ignore_index \u001b[38;5;241m=\u001b[39m validate_bool_kwarg(ignore_index, \u001b[38;5;124m\"\u001b[39m\u001b[38;5;124mignore_index\u001b[39m\u001b[38;5;124m\"\u001b[39m)\n\u001b[0;32m-> 6569\u001b[0m result \u001b[38;5;241m=\u001b[39m \u001b[38;5;28mself\u001b[39m[\u001b[38;5;241m-\u001b[39m\u001b[38;5;28;43mself\u001b[39;49m\u001b[38;5;241;43m.\u001b[39;49m\u001b[43mduplicated\u001b[49m\u001b[43m(\u001b[49m\u001b[43msubset\u001b[49m\u001b[43m,\u001b[49m\u001b[43m \u001b[49m\u001b[43mkeep\u001b[49m\u001b[38;5;241;43m=\u001b[39;49m\u001b[43mkeep\u001b[49m\u001b[43m)\u001b[49m]\n\u001b[1;32m   6570\u001b[0m \u001b[38;5;28;01mif\u001b[39;00m ignore_index:\n\u001b[1;32m   6571\u001b[0m     result\u001b[38;5;241m.\u001b[39mindex \u001b[38;5;241m=\u001b[39m default_index(\u001b[38;5;28mlen\u001b[39m(result))\n",
      "File \u001b[0;32m~/PycharmProjects/pylearn-data-101/venv/lib/python3.10/site-packages/pandas/core/frame.py:6705\u001b[0m, in \u001b[0;36mDataFrame.duplicated\u001b[0;34m(self, subset, keep)\u001b[0m\n\u001b[1;32m   6701\u001b[0m     \u001b[38;5;28;01mraise\u001b[39;00m \u001b[38;5;167;01mKeyError\u001b[39;00m(Index(diff))\n\u001b[1;32m   6703\u001b[0m \u001b[38;5;28;01mif\u001b[39;00m \u001b[38;5;28mlen\u001b[39m(subset) \u001b[38;5;241m==\u001b[39m \u001b[38;5;241m1\u001b[39m \u001b[38;5;129;01mand\u001b[39;00m \u001b[38;5;28mself\u001b[39m\u001b[38;5;241m.\u001b[39mcolumns\u001b[38;5;241m.\u001b[39mis_unique:\n\u001b[1;32m   6704\u001b[0m     \u001b[38;5;66;03m# GH#45236 This is faster than get_group_index below\u001b[39;00m\n\u001b[0;32m-> 6705\u001b[0m     result \u001b[38;5;241m=\u001b[39m \u001b[38;5;28;43mself\u001b[39;49m\u001b[43m[\u001b[49m\u001b[43msubset\u001b[49m\u001b[43m[\u001b[49m\u001b[38;5;241;43m0\u001b[39;49m\u001b[43m]\u001b[49m\u001b[43m]\u001b[49m\u001b[38;5;241;43m.\u001b[39;49m\u001b[43mduplicated\u001b[49m\u001b[43m(\u001b[49m\u001b[43mkeep\u001b[49m\u001b[43m)\u001b[49m\n\u001b[1;32m   6706\u001b[0m     result\u001b[38;5;241m.\u001b[39mname \u001b[38;5;241m=\u001b[39m \u001b[38;5;28;01mNone\u001b[39;00m\n\u001b[1;32m   6707\u001b[0m \u001b[38;5;28;01melse\u001b[39;00m:\n",
      "File \u001b[0;32m~/PycharmProjects/pylearn-data-101/venv/lib/python3.10/site-packages/pandas/core/series.py:2484\u001b[0m, in \u001b[0;36mSeries.duplicated\u001b[0;34m(self, keep)\u001b[0m\n\u001b[1;32m   2408\u001b[0m \u001b[38;5;28;01mdef\u001b[39;00m \u001b[38;5;21mduplicated\u001b[39m(\u001b[38;5;28mself\u001b[39m, keep: DropKeep \u001b[38;5;241m=\u001b[39m \u001b[38;5;124m\"\u001b[39m\u001b[38;5;124mfirst\u001b[39m\u001b[38;5;124m\"\u001b[39m) \u001b[38;5;241m-\u001b[39m\u001b[38;5;241m>\u001b[39m Series:\n\u001b[1;32m   2409\u001b[0m \u001b[38;5;250m    \u001b[39m\u001b[38;5;124;03m\"\"\"\u001b[39;00m\n\u001b[1;32m   2410\u001b[0m \u001b[38;5;124;03m    Indicate duplicate Series values.\u001b[39;00m\n\u001b[1;32m   2411\u001b[0m \n\u001b[0;32m   (...)\u001b[0m\n\u001b[1;32m   2482\u001b[0m \u001b[38;5;124;03m    dtype: bool\u001b[39;00m\n\u001b[1;32m   2483\u001b[0m \u001b[38;5;124;03m    \"\"\"\u001b[39;00m\n\u001b[0;32m-> 2484\u001b[0m     res \u001b[38;5;241m=\u001b[39m \u001b[38;5;28;43mself\u001b[39;49m\u001b[38;5;241;43m.\u001b[39;49m\u001b[43m_duplicated\u001b[49m\u001b[43m(\u001b[49m\u001b[43mkeep\u001b[49m\u001b[38;5;241;43m=\u001b[39;49m\u001b[43mkeep\u001b[49m\u001b[43m)\u001b[49m\n\u001b[1;32m   2485\u001b[0m     result \u001b[38;5;241m=\u001b[39m \u001b[38;5;28mself\u001b[39m\u001b[38;5;241m.\u001b[39m_constructor(res, index\u001b[38;5;241m=\u001b[39m\u001b[38;5;28mself\u001b[39m\u001b[38;5;241m.\u001b[39mindex, copy\u001b[38;5;241m=\u001b[39m\u001b[38;5;28;01mFalse\u001b[39;00m)\n\u001b[1;32m   2486\u001b[0m     \u001b[38;5;28;01mreturn\u001b[39;00m result\u001b[38;5;241m.\u001b[39m__finalize__(\u001b[38;5;28mself\u001b[39m, method\u001b[38;5;241m=\u001b[39m\u001b[38;5;124m\"\u001b[39m\u001b[38;5;124mduplicated\u001b[39m\u001b[38;5;124m\"\u001b[39m)\n",
      "File \u001b[0;32m~/PycharmProjects/pylearn-data-101/venv/lib/python3.10/site-packages/pandas/core/base.py:1368\u001b[0m, in \u001b[0;36mIndexOpsMixin._duplicated\u001b[0;34m(self, keep)\u001b[0m\n\u001b[1;32m   1366\u001b[0m \u001b[38;5;129m@final\u001b[39m\n\u001b[1;32m   1367\u001b[0m \u001b[38;5;28;01mdef\u001b[39;00m \u001b[38;5;21m_duplicated\u001b[39m(\u001b[38;5;28mself\u001b[39m, keep: DropKeep \u001b[38;5;241m=\u001b[39m \u001b[38;5;124m\"\u001b[39m\u001b[38;5;124mfirst\u001b[39m\u001b[38;5;124m\"\u001b[39m) \u001b[38;5;241m-\u001b[39m\u001b[38;5;241m>\u001b[39m npt\u001b[38;5;241m.\u001b[39mNDArray[np\u001b[38;5;241m.\u001b[39mbool_]:\n\u001b[0;32m-> 1368\u001b[0m     \u001b[38;5;28;01mreturn\u001b[39;00m \u001b[43malgorithms\u001b[49m\u001b[38;5;241;43m.\u001b[39;49m\u001b[43mduplicated\u001b[49m\u001b[43m(\u001b[49m\u001b[38;5;28;43mself\u001b[39;49m\u001b[38;5;241;43m.\u001b[39;49m\u001b[43m_values\u001b[49m\u001b[43m,\u001b[49m\u001b[43m \u001b[49m\u001b[43mkeep\u001b[49m\u001b[38;5;241;43m=\u001b[39;49m\u001b[43mkeep\u001b[49m\u001b[43m)\u001b[49m\n",
      "File \u001b[0;32m~/PycharmProjects/pylearn-data-101/venv/lib/python3.10/site-packages/pandas/core/algorithms.py:1002\u001b[0m, in \u001b[0;36mduplicated\u001b[0;34m(values, keep)\u001b[0m\n\u001b[1;32m   1000\u001b[0m \u001b[38;5;28;01mif\u001b[39;00m \u001b[38;5;28mhasattr\u001b[39m(values, \u001b[38;5;124m\"\u001b[39m\u001b[38;5;124mdtype\u001b[39m\u001b[38;5;124m\"\u001b[39m):\n\u001b[1;32m   1001\u001b[0m     \u001b[38;5;28;01mif\u001b[39;00m \u001b[38;5;28misinstance\u001b[39m(values\u001b[38;5;241m.\u001b[39mdtype, ArrowDtype):\n\u001b[0;32m-> 1002\u001b[0m         values \u001b[38;5;241m=\u001b[39m \u001b[43mvalues\u001b[49m\u001b[38;5;241;43m.\u001b[39;49m\u001b[43m_to_masked\u001b[49m\u001b[43m(\u001b[49m\u001b[43m)\u001b[49m  \u001b[38;5;66;03m# type: ignore[union-attr]\u001b[39;00m\n\u001b[1;32m   1004\u001b[0m     \u001b[38;5;28;01mif\u001b[39;00m \u001b[38;5;28misinstance\u001b[39m(values\u001b[38;5;241m.\u001b[39mdtype, BaseMaskedDtype):\n\u001b[1;32m   1005\u001b[0m         values \u001b[38;5;241m=\u001b[39m cast(\u001b[38;5;124m\"\u001b[39m\u001b[38;5;124mBaseMaskedArray\u001b[39m\u001b[38;5;124m\"\u001b[39m, values)\n",
      "File \u001b[0;32m~/PycharmProjects/pylearn-data-101/venv/lib/python3.10/site-packages/pandas/core/arrays/arrow/array.py:1964\u001b[0m, in \u001b[0;36mArrowExtensionArray._to_masked\u001b[0;34m(self)\u001b[0m\n\u001b[1;32m   1962\u001b[0m     na_value \u001b[38;5;241m=\u001b[39m \u001b[38;5;28;01mTrue\u001b[39;00m\n\u001b[1;32m   1963\u001b[0m \u001b[38;5;28;01melse\u001b[39;00m:\n\u001b[0;32m-> 1964\u001b[0m     \u001b[38;5;28;01mraise\u001b[39;00m \u001b[38;5;167;01mNotImplementedError\u001b[39;00m\n\u001b[1;32m   1966\u001b[0m dtype \u001b[38;5;241m=\u001b[39m _arrow_dtype_mapping()[pa_dtype]\n\u001b[1;32m   1967\u001b[0m mask \u001b[38;5;241m=\u001b[39m \u001b[38;5;28mself\u001b[39m\u001b[38;5;241m.\u001b[39misna()\n",
      "\u001b[0;31mNotImplementedError\u001b[0m: "
     ]
    }
   ],
   "source": [
    "df = df.sort_values(by='full_address')\n",
    "df = df.drop_duplicates(keep='last', subset=['full_address'])"
   ]
  },
  {
   "cell_type": "code",
   "execution_count": null,
   "id": "Wh5_cHT-n5yF",
   "metadata": {
    "colab": {
     "base_uri": "https://localhost:8080/"
    },
    "id": "Wh5_cHT-n5yF",
    "outputId": "acc81ff5-b444-4206-86a4-d0c082544ef5"
   },
   "outputs": [],
   "source": [
    "df.shape"
   ]
  },
  {
   "cell_type": "markdown",
   "id": "cb7c69de",
   "metadata": {
    "id": "cb7c69de"
   },
   "source": [
    "### Nuevos campos"
   ]
  },
  {
   "cell_type": "markdown",
   "id": "7dc71479",
   "metadata": {
    "id": "7dc71479"
   },
   "source": [
    "#### Area en metros cuadrados"
   ]
  },
  {
   "cell_type": "code",
   "execution_count": null,
   "id": "680d1dfa",
   "metadata": {
    "colab": {
     "base_uri": "https://localhost:8080/"
    },
    "id": "680d1dfa",
    "outputId": "e7bbd39c-03f4-4a2c-e6cf-6402258322b1"
   },
   "outputs": [],
   "source": [
    "df['house_size_m2'] = df['house_area_square_feet'] * 0.092903\n",
    "df['lot_size_m2'] = df['area_acres'] * 4046.86"
   ]
  },
  {
   "cell_type": "code",
   "execution_count": null,
   "id": "23954783",
   "metadata": {
    "colab": {
     "base_uri": "https://localhost:8080/"
    },
    "id": "23954783",
    "outputId": "4f7769c9-9fa2-4771-9560-3444b422ba72"
   },
   "outputs": [],
   "source": [
    "df['house_size_m2'].describe()"
   ]
  },
  {
   "cell_type": "code",
   "execution_count": null,
   "id": "2c81a5ab",
   "metadata": {
    "colab": {
     "base_uri": "https://localhost:8080/"
    },
    "id": "2c81a5ab",
    "outputId": "78cf36f2-bfe7-48de-f9c1-91d18aa2c030"
   },
   "outputs": [],
   "source": [
    "o = calculate_outliers(df, 'house_size_m2')\n",
    "\n",
    "print(f'Outliers +/- {o:,.2f}')"
   ]
  },
  {
   "cell_type": "code",
   "execution_count": null,
   "id": "6f394bd7",
   "metadata": {
    "colab": {
     "base_uri": "https://localhost:8080/"
    },
    "id": "6f394bd7",
    "outputId": "fa01559e-d4cd-41ee-d4df-58f3b7ef159f"
   },
   "outputs": [],
   "source": [
    "df['lot_size_m2'].describe()"
   ]
  },
  {
   "cell_type": "markdown",
   "id": "2553942d",
   "metadata": {
    "id": "2553942d"
   },
   "source": [
    "#### Precio por metro cuadrado"
   ]
  },
  {
   "cell_type": "code",
   "execution_count": null,
   "id": "5b40f6da",
   "metadata": {
    "id": "5b40f6da"
   },
   "outputs": [],
   "source": [
    "df['price_x_m2'] = df['price'] / df['house_size_m2']"
   ]
  },
  {
   "cell_type": "code",
   "execution_count": null,
   "id": "fd8ca8ab",
   "metadata": {
    "colab": {
     "base_uri": "https://localhost:8080/"
    },
    "id": "fd8ca8ab",
    "outputId": "b81754d1-b051-4b1a-e0b6-57d61da072db"
   },
   "outputs": [],
   "source": [
    "o = calculate_outliers(df, 'price_x_m2')\n",
    "\n",
    "print(f'Outliers +/- {o:,.2f}')"
   ]
  },
  {
   "cell_type": "code",
   "execution_count": null,
   "id": "300bcb2c",
   "metadata": {
    "colab": {
     "base_uri": "https://localhost:8080/"
    },
    "id": "300bcb2c",
    "outputId": "edac4941-303b-489c-edc8-657fe63197cf"
   },
   "outputs": [],
   "source": [
    "extreme_price_x_m2 = df.loc[df['price_x_m2'] >= o/3]\n",
    "\n",
    "print(extreme_price_x_m2.shape)"
   ]
  },
  {
   "cell_type": "code",
   "execution_count": null,
   "id": "d7d77fff",
   "metadata": {
    "id": "d7d77fff"
   },
   "outputs": [],
   "source": [
    "df = df.drop(extreme_price_x_m2.index)"
   ]
  },
  {
   "cell_type": "code",
   "execution_count": null,
   "id": "49ee73de",
   "metadata": {
    "colab": {
     "base_uri": "https://localhost:8080/"
    },
    "id": "49ee73de",
    "outputId": "c81b56b5-c8e9-46bf-8a76-1b4b790b4040"
   },
   "outputs": [],
   "source": [
    "df.shape"
   ]
  },
  {
   "cell_type": "code",
   "execution_count": null,
   "id": "a1085126",
   "metadata": {
    "colab": {
     "base_uri": "https://localhost:8080/",
     "height": 447
    },
    "id": "a1085126",
    "outputId": "c55d889c-8cf1-4407-cdc7-4002621dd07a"
   },
   "outputs": [],
   "source": [
    "df['price_x_m2'].hist(bins=12)"
   ]
  },
  {
   "cell_type": "code",
   "execution_count": null,
   "id": "22223ffd",
   "metadata": {
    "colab": {
     "base_uri": "https://localhost:8080/"
    },
    "id": "22223ffd",
    "outputId": "74207797-927e-49bc-cfa4-aec16c867d01"
   },
   "outputs": [],
   "source": [
    "df.isna().sum()"
   ]
  },
  {
   "cell_type": "markdown",
   "id": "641fcef5",
   "metadata": {
    "id": "641fcef5"
   },
   "source": [
    "## EDA"
   ]
  },
  {
   "cell_type": "markdown",
   "id": "b31036d6",
   "metadata": {
    "id": "b31036d6"
   },
   "source": [
    "### Precio\n"
   ]
  },
  {
   "cell_type": "code",
   "execution_count": null,
   "id": "7e4d8bd3",
   "metadata": {
    "colab": {
     "base_uri": "https://localhost:8080/",
     "height": 482
    },
    "id": "7e4d8bd3",
    "outputId": "0b9a83af-3447-4ac2-f3d9-1359ef6c3cb5"
   },
   "outputs": [],
   "source": [
    "sns.scatterplot(data=df, x=\"house_size_m2\", y=\"price\")"
   ]
  },
  {
   "cell_type": "markdown",
   "id": "1f42679d",
   "metadata": {
    "id": "1f42679d"
   },
   "source": [
    "### Limpieza de area\n"
   ]
  },
  {
   "cell_type": "code",
   "execution_count": null,
   "id": "2bbcdfba",
   "metadata": {
    "colab": {
     "base_uri": "https://localhost:8080/"
    },
    "id": "2bbcdfba",
    "outputId": "584e1b58-e8da-4e75-ad13-89ffe2cae6a1"
   },
   "outputs": [],
   "source": [
    "o = calculate_outliers(df, 'house_size_m2')\n",
    "\n",
    "print(f'Outliers +/- {o:,.2f}')"
   ]
  },
  {
   "cell_type": "code",
   "execution_count": null,
   "id": "bd5167f4",
   "metadata": {
    "colab": {
     "base_uri": "https://localhost:8080/"
    },
    "id": "bd5167f4",
    "outputId": "24799582-34b9-4aaf-e273-8effb095b5c3"
   },
   "outputs": [],
   "source": [
    "area_extreme = df.loc[df['house_size_m2'] >= o]\n",
    "\n",
    "print(area_extreme.shape)"
   ]
  },
  {
   "cell_type": "code",
   "execution_count": null,
   "id": "68d8a57a",
   "metadata": {
    "id": "68d8a57a"
   },
   "outputs": [],
   "source": [
    "df = df.drop(area_extreme.index)"
   ]
  },
  {
   "cell_type": "code",
   "execution_count": null,
   "id": "da3d7e96",
   "metadata": {
    "colab": {
     "base_uri": "https://localhost:8080/",
     "height": 482
    },
    "id": "da3d7e96",
    "outputId": "60e49428-446f-4039-9428-1b8c7ccaa1d2"
   },
   "outputs": [],
   "source": [
    "sns.scatterplot(data=df, x=\"house_size_m2\", y=\"price\", hue='state')"
   ]
  },
  {
   "cell_type": "markdown",
   "id": "81bf7d15",
   "metadata": {
    "id": "81bf7d15"
   },
   "source": [
    "## Distribucion por estado"
   ]
  },
  {
   "cell_type": "code",
   "execution_count": null,
   "id": "1ce43e35",
   "metadata": {
    "colab": {
     "base_uri": "https://localhost:8080/"
    },
    "id": "1ce43e35",
    "outputId": "05a4d533-16c2-4e64-cb47-a0ab298996bd"
   },
   "outputs": [],
   "source": [
    "df['state'].value_counts()"
   ]
  },
  {
   "cell_type": "code",
   "execution_count": null,
   "id": "acd22c59",
   "metadata": {
    "colab": {
     "base_uri": "https://localhost:8080/",
     "height": 427
    },
    "id": "acd22c59",
    "outputId": "6ed183f6-1a5f-4ef7-c9e2-6298af1fae9f"
   },
   "outputs": [],
   "source": [
    "fig, ax = plt.subplots(figsize=(8, 4))\n",
    "sns.countplot(data=df, x='state', color='steelblue', ax=ax)\n",
    "ax.set_title(f'Cantidad por Estado')"
   ]
  },
  {
   "cell_type": "code",
   "execution_count": null,
   "id": "3d4a2b0a",
   "metadata": {
    "colab": {
     "base_uri": "https://localhost:8080/",
     "height": 466
    },
    "id": "3d4a2b0a",
    "outputId": "780c21f4-e806-4615-99fa-f5fd1e922fcc"
   },
   "outputs": [],
   "source": [
    "\n",
    "sns.barplot(data=df, x=\"state\", y=\"price_x_m2\")"
   ]
  },
  {
   "cell_type": "code",
   "execution_count": null,
   "id": "8cf550f7",
   "metadata": {
    "colab": {
     "base_uri": "https://localhost:8080/"
    },
    "id": "8cf550f7",
    "outputId": "43e7960c-b188-483e-bb1e-9adf6e7c824e"
   },
   "outputs": [],
   "source": [
    "ga = df.loc[df['state'] == '']\n",
    "\n",
    "ga.shape"
   ]
  },
  {
   "cell_type": "code",
   "execution_count": null,
   "id": "a03a7f72",
   "metadata": {
    "colab": {
     "base_uri": "https://localhost:8080/"
    },
    "id": "a03a7f72",
    "outputId": "6e323b59-a55b-45a6-870c-96fe02e313f3"
   },
   "outputs": [],
   "source": [
    "m = ga['price_x_m2'].mean()\n",
    "\n",
    "print(f'Promedio {m}')"
   ]
  },
  {
   "cell_type": "code",
   "execution_count": null,
   "id": "44b8324b",
   "metadata": {
    "id": "44b8324b"
   },
   "outputs": [],
   "source": [
    "rango = 3e6\n"
   ]
  },
  {
   "cell_type": "code",
   "execution_count": null,
   "id": "npMzve5YHyrN",
   "metadata": {
    "colab": {
     "base_uri": "https://localhost:8080/"
    },
    "id": "npMzve5YHyrN",
    "outputId": "bad9606d-4b9d-463e-8357-459e6342a305"
   },
   "outputs": [],
   "source": [
    "df.shape"
   ]
  },
  {
   "cell_type": "markdown",
   "id": "sS6gbmDcH3mj",
   "metadata": {
    "id": "sS6gbmDcH3mj"
   },
   "source": [
    "## Analisis"
   ]
  },
  {
   "cell_type": "code",
   "execution_count": null,
   "id": "VtJ57V95H6Vw",
   "metadata": {
    "colab": {
     "base_uri": "https://localhost:8080/"
    },
    "id": "VtJ57V95H6Vw",
    "outputId": "3d817db6-ef75-4baf-d66f-40293612bfe7"
   },
   "outputs": [],
   "source": [
    "base_price =  550_000\n",
    "range_value = 0.10\n",
    "min_price = base_price * (1 - range_value)\n",
    "max_price = base_price * (1 + range_value)\n",
    "print(min_price, max_price)\n",
    "\n",
    "condition = (df['price'] <= max_price) & (df['price'] >= min_price) & (df['bed'] >= 3) & (df['bath'] >= 2)\n",
    "\n",
    "\n",
    "condition = (df['price'] <= max_price) & (df['price'] >= min_price) & (df['bed'] >= 3) & (df['bed'] <= 5) & (df['bath'] >= 2)\n",
    "fdf = df.loc[condition].copy()"
   ]
  },
  {
   "cell_type": "code",
   "execution_count": null,
   "id": "AcFAH22QI-Sa",
   "metadata": {
    "colab": {
     "base_uri": "https://localhost:8080/"
    },
    "id": "AcFAH22QI-Sa",
    "outputId": "dabae831-f80b-4dea-9276-7202a3da8ed8"
   },
   "outputs": [],
   "source": [
    "fdf.shape"
   ]
  },
  {
   "cell_type": "code",
   "execution_count": null,
   "id": "xL0zw17lJKI5",
   "metadata": {
    "colab": {
     "base_uri": "https://localhost:8080/"
    },
    "id": "xL0zw17lJKI5",
    "outputId": "9a7c83cd-aed2-4986-f641-6458d408ab7e"
   },
   "outputs": [],
   "source": [
    "fdf['price'].describe()"
   ]
  },
  {
   "cell_type": "code",
   "execution_count": null,
   "id": "ywe0BLoRLeM6",
   "metadata": {
    "id": "ywe0BLoRLeM6"
   },
   "outputs": [],
   "source": []
  },
  {
   "cell_type": "markdown",
   "id": "w3CwTz3cRF78",
   "metadata": {
    "id": "w3CwTz3cRF78"
   },
   "source": [
    "### Cantidad por estado"
   ]
  },
  {
   "cell_type": "code",
   "execution_count": null,
   "id": "Z8Zo7wPoMz03",
   "metadata": {
    "colab": {
     "base_uri": "https://localhost:8080/",
     "height": 487
    },
    "id": "Z8Zo7wPoMz03",
    "outputId": "19801d96-b672-4677-9452-0e13c1106446"
   },
   "outputs": [],
   "source": [
    "fig, ax = plt.subplots(figsize=(12, 5))\n",
    "sns.countplot(data=fdf, x='state', color='steelblue', ax=ax)\n",
    "ax.set_title(f'Cantidad por Estado')\n",
    "\n",
    "for rect in ax.patches:\n",
    "  x_position =  int(rect.get_x() + rect.get_width() / 2)\n",
    "  y_position = rect.get_height()+ 1\n",
    "  display_value = f'{int(rect.get_height()):,}'\n",
    "  ax.text(x_position ,y_position, display_value,horizontalalignment='center', fontsize = 11)"
   ]
  },
  {
   "cell_type": "code",
   "execution_count": null,
   "id": "71mflHUaTOSe",
   "metadata": {
    "id": "71mflHUaTOSe"
   },
   "outputs": [],
   "source": []
  },
  {
   "cell_type": "markdown",
   "id": "wpmo5YOJTPir",
   "metadata": {
    "id": "wpmo5YOJTPir"
   },
   "source": [
    "### Precio por metro cuadrado\n"
   ]
  },
  {
   "cell_type": "code",
   "execution_count": null,
   "id": "cm72rPRWTXWK",
   "metadata": {
    "colab": {
     "base_uri": "https://localhost:8080/",
     "height": 447
    },
    "id": "cm72rPRWTXWK",
    "outputId": "f9b4ffaf-5808-41f5-87f2-cbb562e418a3"
   },
   "outputs": [],
   "source": [
    "fdf['price_x_m2'].hist()"
   ]
  },
  {
   "cell_type": "markdown",
   "id": "SoBUQ1n1EcYs",
   "metadata": {
    "id": "SoBUQ1n1EcYs"
   },
   "source": [
    "#### Box plots"
   ]
  },
  {
   "cell_type": "code",
   "execution_count": null,
   "id": "L6AmS3rtM2dM",
   "metadata": {
    "colab": {
     "base_uri": "https://localhost:8080/",
     "height": 467
    },
    "id": "L6AmS3rtM2dM",
    "outputId": "27bc20ab-5ce7-48f4-faa2-9fa1a383b827"
   },
   "outputs": [],
   "source": [
    "sns.boxplot(data=fdf, x=\"price_x_m2\", y=\"state\")"
   ]
  },
  {
   "cell_type": "code",
   "execution_count": null,
   "id": "jvL4V6DMFX4v",
   "metadata": {
    "colab": {
     "base_uri": "https://localhost:8080/",
     "height": 485
    },
    "id": "jvL4V6DMFX4v",
    "outputId": "f7e616d2-24cc-471c-ac69-fe5981504edc"
   },
   "outputs": [],
   "source": [
    "print(df['price_x_m2'].median())\n",
    "sns.boxplot(data=fdf, x=\"price_x_m2\")"
   ]
  },
  {
   "cell_type": "code",
   "execution_count": null,
   "id": "8UaACNeoRUbS",
   "metadata": {
    "colab": {
     "base_uri": "https://localhost:8080/",
     "height": 467
    },
    "id": "8UaACNeoRUbS",
    "outputId": "602640fb-5ce9-4c89-e206-c10e49de4542"
   },
   "outputs": [],
   "source": [
    "sns.scatterplot(data=fdf, x=\"house_size_m2\", y=\"price_x_m2\")"
   ]
  },
  {
   "cell_type": "markdown",
   "id": "2golKj6BVD12",
   "metadata": {
    "id": "2golKj6BVD12"
   },
   "source": [
    "### Shootings"
   ]
  },
  {
   "cell_type": "code",
   "execution_count": null,
   "id": "cGvTQV1EUcEA",
   "metadata": {
    "id": "cGvTQV1EUcEA"
   },
   "outputs": [],
   "source": []
  },
  {
   "cell_type": "code",
   "execution_count": null,
   "id": "NINR_2V3VMUj",
   "metadata": {
    "colab": {
     "base_uri": "https://localhost:8080/",
     "height": 447
    },
    "id": "NINR_2V3VMUj",
    "outputId": "153b41e3-e79e-4ca5-ccd0-0635cd27aaf8"
   },
   "outputs": [],
   "source": [
    "fdf['shootings_count'].hist()"
   ]
  },
  {
   "cell_type": "code",
   "execution_count": null,
   "id": "WtHaIyBBVQJT",
   "metadata": {
    "colab": {
     "base_uri": "https://localhost:8080/",
     "height": 467
    },
    "id": "WtHaIyBBVQJT",
    "outputId": "730bbf58-9b08-4c9e-96b0-812fb95b8116"
   },
   "outputs": [],
   "source": [
    "sns.boxplot(data=fdf, x=\"shootings_count\", y=\"state\")"
   ]
  },
  {
   "cell_type": "markdown",
   "id": "CG95aPfoX0DU",
   "metadata": {
    "id": "CG95aPfoX0DU"
   },
   "source": [
    "## Ecuacion\n",
    "\n",
    "Puntos = 3 * price_x_m2 + 3 * house_size_m2 + 2 * lot_size_m2 + bed + bath\n",
    "\n",
    "psqm area lot beds bathrooms\n",
    "\n"
   ]
  },
  {
   "cell_type": "code",
   "execution_count": null,
   "id": "t2Vocaf4cTxg",
   "metadata": {
    "colab": {
     "base_uri": "https://localhost:8080/"
    },
    "id": "t2Vocaf4cTxg",
    "outputId": "67604071-f0cc-4b79-b512-8e86fd081b3a"
   },
   "outputs": [],
   "source": [
    "fdf.info()"
   ]
  },
  {
   "cell_type": "code",
   "execution_count": null,
   "id": "klwGsn41VuPG",
   "metadata": {
    "id": "klwGsn41VuPG"
   },
   "outputs": [],
   "source": [
    "fdf['price_x_m2_v'] = (fdf['price_x_m2'] - fdf['price_x_m2'].mean())/ fdf['price_x_m2'].std()"
   ]
  },
  {
   "cell_type": "code",
   "execution_count": null,
   "id": "JyYE7ZqeZWbw",
   "metadata": {
    "colab": {
     "base_uri": "https://localhost:8080/"
    },
    "id": "JyYE7ZqeZWbw",
    "outputId": "d3c35ca7-995a-4eca-a7cb-aa7018008e8b"
   },
   "outputs": [],
   "source": [
    "fdf['price_x_m2_v'].describe()"
   ]
  },
  {
   "cell_type": "markdown",
   "id": "-yKe7duRiQj4",
   "metadata": {
    "id": "-yKe7duRiQj4"
   },
   "source": [
    "### Escalando los valores\n",
    "\n",
    "\n",
    "\\begin{align}\n",
    "  x_{\\text{scaled}} = \\frac{x - \\min(x)}{\\max(x) - \\min(x)}\n",
    "\\end{align}\n"
   ]
  },
  {
   "cell_type": "markdown",
   "id": "GsRhH1yXAgMv",
   "metadata": {
    "id": "GsRhH1yXAgMv"
   },
   "source": []
  },
  {
   "cell_type": "code",
   "execution_count": null,
   "id": "E0BZ3mnjZeJk",
   "metadata": {
    "id": "E0BZ3mnjZeJk"
   },
   "outputs": [],
   "source": [
    "fdf['psqm'] =  (fdf['price_x_m2'] - fdf['price_x_m2'].min())/(fdf['price_x_m2'].max() - fdf['price_x_m2'].min())\n",
    "fdf['area'] =  (fdf['house_size_m2'] - fdf['house_size_m2'].min())/(fdf['house_size_m2'].max() - fdf['house_size_m2'].min())\n",
    "fdf['lot'] =  (fdf['lot_size_m2'] - fdf['lot_size_m2'].min())/(fdf['lot_size_m2'].max() - fdf['lot_size_m2'].min())\n",
    "fdf['beds'] =  (fdf['bed'] - fdf['bed'].min())/(fdf['bed'].max() - fdf['bed'].min())\n",
    "fdf['bathrooms'] =  (fdf['bath'] - fdf['bath'].min())/(fdf['bath'].max() - fdf['bath'].min())"
   ]
  },
  {
   "cell_type": "markdown",
   "id": "bf567d8c",
   "metadata": {},
   "source": [
    "### Explicacion de la ecuacion\n",
    "\n",
    "\n",
    "\\begin{align}\n",
    "  value_{i} = 2PSQM + 3Area + 2lot + beds + bathrooms\n",
    "\\end{align}"
   ]
  },
  {
   "cell_type": "code",
   "execution_count": null,
   "id": "7GG_zmc-bF8d",
   "metadata": {
    "id": "7GG_zmc-bF8d"
   },
   "outputs": [],
   "source": [
    "fdf['value'] = 3 * fdf['psqm'] + 3 * fdf['area'] + 2 * fdf['lot'] + fdf[a'beds'] +  fdf['bathrooms']"
   ]
  },
  {
   "cell_type": "code",
   "execution_count": null,
   "id": "mXeNHuDZMM7m",
   "metadata": {
    "id": "mXeNHuDZMM7m"
   },
   "outputs": [],
   "source": [
    "fdf['value'] = 3 * fdf['psqm'] + 3 * fdf['area'] + 2 * fdf['lot'] + fdf['beds'] +  fdf['bathrooms']"
   ]
  },
  {
   "cell_type": "code",
   "execution_count": null,
   "id": "zptGyepWbQVv",
   "metadata": {
    "colab": {
     "base_uri": "https://localhost:8080/"
    },
    "id": "zptGyepWbQVv",
    "outputId": "db21a404-d77b-43a2-a4fc-4c9392147211"
   },
   "outputs": [],
   "source": [
    "fdf['value'].describe()"
   ]
  },
  {
   "cell_type": "code",
   "execution_count": null,
   "id": "g2VUQmbdbSCj",
   "metadata": {
    "colab": {
     "base_uri": "https://localhost:8080/",
     "height": 447
    },
    "id": "g2VUQmbdbSCj",
    "outputId": "45989aef-058c-468b-dea7-63042b9dc9a1"
   },
   "outputs": [],
   "source": [
    "fdf['value'].hist()"
   ]
  },
  {
   "cell_type": "code",
   "execution_count": null,
   "id": "dStsKBYfkOot",
   "metadata": {
    "colab": {
     "base_uri": "https://localhost:8080/",
     "height": 466
    },
    "id": "dStsKBYfkOot",
    "outputId": "74861239-3b0b-447d-9799-b7b2ffe38009"
   },
   "outputs": [],
   "source": [
    "sns.boxplot(data=fdf, x=\"value\")"
   ]
  },
  {
   "cell_type": "code",
   "execution_count": null,
   "id": "3B-amhlXkXkI",
   "metadata": {
    "colab": {
     "base_uri": "https://localhost:8080/",
     "height": 466
    },
    "id": "3B-amhlXkXkI",
    "outputId": "98862e43-5b24-460d-992a-f81ee1d2775f"
   },
   "outputs": [],
   "source": [
    "sns.boxplot(data=fdf, x=\"value\", y=\"state\")"
   ]
  },
  {
   "cell_type": "code",
   "execution_count": null,
   "id": "YHBHcEsgOh-o",
   "metadata": {
    "id": "YHBHcEsgOh-o"
   },
   "outputs": [],
   "source": []
  },
  {
   "cell_type": "code",
   "execution_count": null,
   "id": "7U0wfKeCkZ1I",
   "metadata": {
    "colab": {
     "base_uri": "https://localhost:8080/",
     "height": 765
    },
    "id": "7U0wfKeCkZ1I",
    "outputId": "fb3c8bc7-6aa9-4fa8-c954-5cffb543b127"
   },
   "outputs": [],
   "source": [
    "fdf = fdf.sort_values(by=['value'], ascending=False)\n",
    "\n",
    "fdf.head(10)"
   ]
  },
  {
   "cell_type": "code",
   "execution_count": null,
   "id": "G5Q3_-YAlRDg",
   "metadata": {
    "colab": {
     "base_uri": "https://localhost:8080/"
    },
    "id": "G5Q3_-YAlRDg",
    "outputId": "759ac87c-189a-4b12-fe9c-d10ab5dc26e6"
   },
   "outputs": [],
   "source": [
    "fdf['full_address'].duplicated(keep='last').sum()"
   ]
  },
  {
   "cell_type": "code",
   "execution_count": null,
   "id": "Xe7FDQkZnD1x",
   "metadata": {
    "colab": {
     "base_uri": "https://localhost:8080/"
    },
    "id": "Xe7FDQkZnD1x",
    "outputId": "78a1367a-6d4b-4093-a7cf-40acdbb7242c"
   },
   "outputs": [],
   "source": [
    "fdf.shape"
   ]
  },
  {
   "cell_type": "code",
   "execution_count": null,
   "id": "VYqe6U6knPJ_",
   "metadata": {
    "id": "VYqe6U6knPJ_"
   },
   "outputs": [],
   "source": [
    "cols = ['price', 'value', 'price_x_m2', 'house_size_m2', 'lot_size_m2', 'bed', 'bath']\n",
    "df2 = fdf[cols]\n",
    "\n",
    "df2.head(10)"
   ]
  },
  {
   "cell_type": "code",
   "execution_count": null,
   "id": "28034a81",
   "metadata": {},
   "outputs": [],
   "source": []
  }
 ],
 "metadata": {
  "colab": {
   "provenance": [],
   "toc_visible": true
  },
  "kernelspec": {
   "display_name": "Python 3 (ipykernel)",
   "language": "python",
   "name": "python3"
  },
  "language_info": {
   "codemirror_mode": {
    "name": "ipython",
    "version": 3
   },
   "file_extension": ".py",
   "mimetype": "text/x-python",
   "name": "python",
   "nbconvert_exporter": "python",
   "pygments_lexer": "ipython3",
   "version": "3.10.12"
  },
  "toc": {
   "base_numbering": 1,
   "nav_menu": {},
   "number_sections": true,
   "sideBar": true,
   "skip_h1_title": true,
   "title_cell": "Table of Contents",
   "title_sidebar": "Contents",
   "toc_cell": false,
   "toc_position": {
    "height": "calc(100% - 180px)",
    "left": "10px",
    "top": "150px",
    "width": "383.984px"
   },
   "toc_section_display": true,
   "toc_window_display": true
  }
 },
 "nbformat": 4,
 "nbformat_minor": 5
}
