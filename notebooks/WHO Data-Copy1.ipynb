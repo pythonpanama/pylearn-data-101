{
 "cells": [
  {
   "cell_type": "markdown",
   "id": "09c4b086-6334-49c1-9a88-e2575de3ecf8",
   "metadata": {},
   "source": [
    "# Normally distributed data"
   ]
  },
  {
   "cell_type": "code",
   "execution_count": null,
   "id": "fc92a16f-b790-4f05-a526-f0ec74049cce",
   "metadata": {},
   "outputs": [],
   "source": []
  },
  {
   "cell_type": "code",
   "execution_count": 1,
   "id": "a27d7a39-755d-40f5-9613-08680dda9516",
   "metadata": {},
   "outputs": [],
   "source": [
    "from pathlib import Path\n",
    "\n",
    "import matplotlib.pyplot as plt\n",
    "import matplotlib as mpl\n",
    "import pandas as pd\n",
    "\n",
    "import seaborn as sns\n",
    "pd.set_option('display.max_columns', None)\n",
    "\n",
    "%matplotlib inline"
   ]
  },
  {
   "cell_type": "markdown",
   "id": "602ec40f-3bc4-4cd2-9c52-c8a28fa2547d",
   "metadata": {},
   "source": [
    "## Configuration"
   ]
  },
  {
   "cell_type": "code",
   "execution_count": 5,
   "id": "a366030c-3697-4cf9-ac14-0feb291de54d",
   "metadata": {},
   "outputs": [
    {
     "name": "stdout",
     "output_type": "stream",
     "text": [
      "Data folder: /home/luiscberrocal/PycharmProjects/pylearn-data-101/data/who_data exists: True\n"
     ]
    }
   ],
   "source": [
    "data_folder = Path.cwd().parent / 'data' / 'who_data'\n",
    "\n",
    "print(f'Data folder: {data_folder} exists: {data_folder.exists()}')"
   ]
  },
  {
   "cell_type": "code",
   "execution_count": 6,
   "id": "e4cda390-41a3-4341-9aab-89157e235065",
   "metadata": {},
   "outputs": [
    {
     "name": "stdout",
     "output_type": "stream",
     "text": [
      "1 /home/luiscberrocal/PycharmProjects/pylearn-data-101/data/who_data/uhcCoverage.csv\n",
      "2 /home/luiscberrocal/PycharmProjects/pylearn-data-101/data/who_data/airPollutionDeathRate.csv\n",
      "3 /home/luiscberrocal/PycharmProjects/pylearn-data-101/data/who_data/safelySanitization.csv\n",
      "4 /home/luiscberrocal/PycharmProjects/pylearn-data-101/data/who_data/nursingAndMidwife.csv\n",
      "5 /home/luiscberrocal/PycharmProjects/pylearn-data-101/data/who_data/under5MortalityRate.csv\n",
      "6 /home/luiscberrocal/PycharmProjects/pylearn-data-101/data/who_data/dentists.csv\n",
      "7 /home/luiscberrocal/PycharmProjects/pylearn-data-101/data/who_data/birthAttendedBySkilledPersonal.csv\n",
      "8 /home/luiscberrocal/PycharmProjects/pylearn-data-101/data/who_data/basicHandWashing.csv\n",
      "9 /home/luiscberrocal/PycharmProjects/pylearn-data-101/data/who_data/eliminateViolenceAgainstWomen.csv\n",
      "10 /home/luiscberrocal/PycharmProjects/pylearn-data-101/data/who_data/interventionAgianstNTDs.csv\n",
      "11 /home/luiscberrocal/PycharmProjects/pylearn-data-101/data/who_data/population10SDG3.8.2.csv\n",
      "12 /home/luiscberrocal/PycharmProjects/pylearn-data-101/data/who_data/HALeWHOregionLifeExpectancyAtBirth.csv\n",
      "13 /home/luiscberrocal/PycharmProjects/pylearn-data-101/data/who_data/newHivInfections.csv\n",
      "14 /home/luiscberrocal/PycharmProjects/pylearn-data-101/data/who_data/mortalityRateUnsafeWash.csv\n",
      "15 /home/luiscberrocal/PycharmProjects/pylearn-data-101/data/who_data/population25SDG3.8.2.csv\n",
      "16 /home/luiscberrocal/PycharmProjects/pylearn-data-101/data/who_data/hepatitusBsurfaceAntigen.csv\n",
      "17 /home/luiscberrocal/PycharmProjects/pylearn-data-101/data/who_data/dataAvailibilityForUhc.csv\n",
      "18 /home/luiscberrocal/PycharmProjects/pylearn-data-101/data/who_data/lifeExpectancyAtBirth.csv\n",
      "19 /home/luiscberrocal/PycharmProjects/pylearn-data-101/data/who_data/incedenceOfMalaria.csv\n",
      "20 /home/luiscberrocal/PycharmProjects/pylearn-data-101/data/who_data/maternalMortalityRatio.csv\n",
      "21 /home/luiscberrocal/PycharmProjects/pylearn-data-101/data/who_data/WHOregionLifeExpectancyAtBirth.csv\n",
      "22 /home/luiscberrocal/PycharmProjects/pylearn-data-101/data/who_data/atLeastBasicSanitizationServices.csv\n",
      "23 /home/luiscberrocal/PycharmProjects/pylearn-data-101/data/who_data/HALElifeExpectancyAtBirth.csv\n",
      "24 /home/luiscberrocal/PycharmProjects/pylearn-data-101/data/who_data/infantMortalityRate.csv\n",
      "25 /home/luiscberrocal/PycharmProjects/pylearn-data-101/data/who_data/cleanFuelAndTech.csv\n",
      "26 /home/luiscberrocal/PycharmProjects/pylearn-data-101/data/who_data/basicDrinkingWaterServices.csv\n",
      "27 /home/luiscberrocal/PycharmProjects/pylearn-data-101/data/who_data/adolescentBirthRate.csv\n",
      "28 /home/luiscberrocal/PycharmProjects/pylearn-data-101/data/who_data/ofHaleInLifeExpectancy.csv\n",
      "29 /home/luiscberrocal/PycharmProjects/pylearn-data-101/data/who_data/alcoholSubstanceAbuse.csv\n",
      "30 /home/luiscberrocal/PycharmProjects/pylearn-data-101/data/who_data/incedenceOfTuberculosis.csv\n",
      "31 /home/luiscberrocal/PycharmProjects/pylearn-data-101/data/who_data/tobaccoAge15.csv\n",
      "32 /home/luiscberrocal/PycharmProjects/pylearn-data-101/data/who_data/neonatalMortalityRate.csv\n",
      "33 /home/luiscberrocal/PycharmProjects/pylearn-data-101/data/who_data/30-70cancerChdEtc.csv\n",
      "34 /home/luiscberrocal/PycharmProjects/pylearn-data-101/data/who_data/pharmacists.csv\n",
      "35 /home/luiscberrocal/PycharmProjects/pylearn-data-101/data/who_data/reproductiveAgeWomen.csv\n",
      "36 /home/luiscberrocal/PycharmProjects/pylearn-data-101/data/who_data/mortalityRatePoisoning.csv\n",
      "37 /home/luiscberrocal/PycharmProjects/pylearn-data-101/data/who_data/crudeSuicideRates.csv\n",
      "38 /home/luiscberrocal/PycharmProjects/pylearn-data-101/data/who_data/medicalDoctors.csv\n",
      "39 /home/luiscberrocal/PycharmProjects/pylearn-data-101/data/who_data/roadTrafficDeaths.csv\n"
     ]
    }
   ],
   "source": [
    "csv_files = data_folder.glob('*.csv')\n",
    "for i, f in enumerate(csv_files, 1):\n",
    "    print(f'{i} {f}')"
   ]
  },
  {
   "cell_type": "markdown",
   "id": "21651881-b02f-4f44-8152-c120730b638d",
   "metadata": {},
   "source": [
    "## Population"
   ]
  },
  {
   "cell_type": "code",
   "execution_count": 7,
   "id": "e86c1775-f2e9-4dc6-81d8-b5b19b962854",
   "metadata": {},
   "outputs": [
    {
     "data": {
      "text/plain": [
       "(1795, 4)"
      ]
     },
     "execution_count": 7,
     "metadata": {},
     "output_type": "execute_result"
    }
   ],
   "source": [
    "pop_csv_file = data_folder / 'pharmacists.csv'\n",
    "\n",
    "df = pd.read_csv(pop_csv_file)\n",
    "\n",
    "df.shape"
   ]
  },
  {
   "cell_type": "code",
   "execution_count": 9,
   "id": "327cb050-68a3-41b8-ab26-e867176ccdbc",
   "metadata": {},
   "outputs": [
    {
     "data": {
      "text/html": [
       "<div>\n",
       "<style scoped>\n",
       "    .dataframe tbody tr th:only-of-type {\n",
       "        vertical-align: middle;\n",
       "    }\n",
       "\n",
       "    .dataframe tbody tr th {\n",
       "        vertical-align: top;\n",
       "    }\n",
       "\n",
       "    .dataframe thead th {\n",
       "        text-align: right;\n",
       "    }\n",
       "</style>\n",
       "<table border=\"1\" class=\"dataframe\">\n",
       "  <thead>\n",
       "    <tr style=\"text-align: right;\">\n",
       "      <th></th>\n",
       "      <th>Location</th>\n",
       "      <th>Period</th>\n",
       "      <th>Indicator</th>\n",
       "      <th>First Tooltip</th>\n",
       "    </tr>\n",
       "  </thead>\n",
       "  <tbody>\n",
       "    <tr>\n",
       "      <th>0</th>\n",
       "      <td>Afghanistan</td>\n",
       "      <td>2016</td>\n",
       "      <td>Pharmacists  (per 10,000)</td>\n",
       "      <td>0.47</td>\n",
       "    </tr>\n",
       "    <tr>\n",
       "      <th>1</th>\n",
       "      <td>Afghanistan</td>\n",
       "      <td>2015</td>\n",
       "      <td>Pharmacists  (per 10,000)</td>\n",
       "      <td>0.50</td>\n",
       "    </tr>\n",
       "    <tr>\n",
       "      <th>2</th>\n",
       "      <td>Afghanistan</td>\n",
       "      <td>2014</td>\n",
       "      <td>Pharmacists  (per 10,000)</td>\n",
       "      <td>0.51</td>\n",
       "    </tr>\n",
       "    <tr>\n",
       "      <th>3</th>\n",
       "      <td>Afghanistan</td>\n",
       "      <td>2012</td>\n",
       "      <td>Pharmacists  (per 10,000)</td>\n",
       "      <td>0.27</td>\n",
       "    </tr>\n",
       "    <tr>\n",
       "      <th>4</th>\n",
       "      <td>Afghanistan</td>\n",
       "      <td>2011</td>\n",
       "      <td>Pharmacists  (per 10,000)</td>\n",
       "      <td>0.28</td>\n",
       "    </tr>\n",
       "  </tbody>\n",
       "</table>\n",
       "</div>"
      ],
      "text/plain": [
       "      Location  Period                  Indicator  First Tooltip\n",
       "0  Afghanistan    2016  Pharmacists  (per 10,000)           0.47\n",
       "1  Afghanistan    2015  Pharmacists  (per 10,000)           0.50\n",
       "2  Afghanistan    2014  Pharmacists  (per 10,000)           0.51\n",
       "3  Afghanistan    2012  Pharmacists  (per 10,000)           0.27\n",
       "4  Afghanistan    2011  Pharmacists  (per 10,000)           0.28"
      ]
     },
     "execution_count": 9,
     "metadata": {},
     "output_type": "execute_result"
    }
   ],
   "source": [
    "df.head()"
   ]
  },
  {
   "cell_type": "code",
   "execution_count": 10,
   "id": "693037af-7f8c-4fa2-aa37-d930472a4ded",
   "metadata": {},
   "outputs": [
    {
     "data": {
      "text/plain": [
       "Location\n",
       "Hungary        29\n",
       "Austria        29\n",
       "Belgium        29\n",
       "Switzerland    28\n",
       "Poland         28\n",
       "               ..\n",
       "Guatemala       1\n",
       "Serbia          1\n",
       "Mexico          1\n",
       "Montenegro      1\n",
       "Panama          1\n",
       "Name: count, Length: 185, dtype: int64"
      ]
     },
     "execution_count": 10,
     "metadata": {},
     "output_type": "execute_result"
    }
   ],
   "source": [
    "df['Location'].value_counts()"
   ]
  },
  {
   "cell_type": "code",
   "execution_count": 12,
   "id": "97ae75fe-8a88-4c56-adda-d9b477a0653e",
   "metadata": {},
   "outputs": [
    {
     "data": {
      "text/plain": [
       "Indicator\n",
       "Pharmacists  (per 10,000)    1795\n",
       "Name: count, dtype: int64"
      ]
     },
     "execution_count": 12,
     "metadata": {},
     "output_type": "execute_result"
    }
   ],
   "source": [
    "df['Indicator'].value_counts()"
   ]
  },
  {
   "cell_type": "code",
   "execution_count": 11,
   "id": "f412b61d-2739-4746-8cfe-5942a687855d",
   "metadata": {},
   "outputs": [
    {
     "data": {
      "text/plain": [
       "<Axes: >"
      ]
     },
     "execution_count": 11,
     "metadata": {},
     "output_type": "execute_result"
    },
    {
     "data": {
      "image/png": "[encoded data removed]",
      "text/plain": [
       "<Figure size 640x480 with 1 Axes>"
      ]
     },
     "metadata": {},
     "output_type": "display_data"
    }
   ],
   "source": [
    "df['First Tooltip'].hist(bins=20)"
   ]
  },
  {
   "cell_type": "code",
   "execution_count": null,
   "id": "d2080f2d-83e7-4851-a617-7d7dad6bd8ad",
   "metadata": {},
   "outputs": [],
   "source": []
  }
 ],
 "metadata": {
  "kernelspec": {
   "display_name": "Python 3 (ipykernel)",
   "language": "python",
   "name": "python3"
  },
  "language_info": {
   "codemirror_mode": {
    "name": "ipython",
    "version": 3
   },
   "file_extension": ".py",
   "mimetype": "text/x-python",
   "name": "python",
   "nbconvert_exporter": "python",
   "pygments_lexer": "ipython3",
   "version": "3.8.17"
  }
 },
 "nbformat": 4,
 "nbformat_minor": 5
}
