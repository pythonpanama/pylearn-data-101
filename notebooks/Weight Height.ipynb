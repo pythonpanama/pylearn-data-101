{
 "cells": [
  {
   "cell_type": "markdown",
   "id": "09c4b086-6334-49c1-9a88-e2575de3ecf8",
   "metadata": {},
   "source": [
    "# Normally distributed data for Height and Wight"
   ]
  },
  {
   "cell_type": "code",
   "execution_count": null,
   "id": "fc92a16f-b790-4f05-a526-f0ec74049cce",
   "metadata": {},
   "outputs": [],
   "source": []
  },
  {
   "cell_type": "code",
   "execution_count": 1,
   "id": "a27d7a39-755d-40f5-9613-08680dda9516",
   "metadata": {},
   "outputs": [],
   "source": [
    "from pathlib import Path\n",
    "\n",
    "import matplotlib.pyplot as plt\n",
    "import matplotlib as mpl\n",
    "import pandas as pd\n",
    "\n",
    "import seaborn as sns\n",
    "pd.set_option('display.max_columns', None)\n",
    "\n",
    "%matplotlib inline"
   ]
  },
  {
   "cell_type": "markdown",
   "id": "602ec40f-3bc4-4cd2-9c52-c8a28fa2547d",
   "metadata": {},
   "source": [
    "## Configuration"
   ]
  },
  {
   "cell_type": "code",
   "execution_count": 13,
   "id": "a366030c-3697-4cf9-ac14-0feb291de54d",
   "metadata": {},
   "outputs": [
    {
     "name": "stdout",
     "output_type": "stream",
     "text": [
      "Data folder: /home/luiscberrocal/PycharmProjects/pylearn-data-101/data/height_weight exists: True\n"
     ]
    }
   ],
   "source": [
    "data_folder = Path.cwd().parent / 'data' / 'height_weight'\n",
    "\n",
    "print(f'Data folder: {data_folder} exists: {data_folder.exists()}')"
   ]
  },
  {
   "cell_type": "markdown",
   "id": "21651881-b02f-4f44-8152-c120730b638d",
   "metadata": {},
   "source": [
    "## Load Data"
   ]
  },
  {
   "cell_type": "code",
   "execution_count": 14,
   "id": "e86c1775-f2e9-4dc6-81d8-b5b19b962854",
   "metadata": {},
   "outputs": [
    {
     "data": {
      "text/plain": [
       "(10000, 3)"
      ]
     },
     "execution_count": 14,
     "metadata": {},
     "output_type": "execute_result"
    }
   ],
   "source": [
    "pop_csv_file = data_folder / 'weight-height.csv'\n",
    "\n",
    "df = pd.read_csv(pop_csv_file)\n",
    "\n",
    "df.shape"
   ]
  },
  {
   "cell_type": "code",
   "execution_count": 15,
   "id": "327cb050-68a3-41b8-ab26-e867176ccdbc",
   "metadata": {},
   "outputs": [
    {
     "data": {
      "text/html": [
       "<div>\n",
       "<style scoped>\n",
       "    .dataframe tbody tr th:only-of-type {\n",
       "        vertical-align: middle;\n",
       "    }\n",
       "\n",
       "    .dataframe tbody tr th {\n",
       "        vertical-align: top;\n",
       "    }\n",
       "\n",
       "    .dataframe thead th {\n",
       "        text-align: right;\n",
       "    }\n",
       "</style>\n",
       "<table border=\"1\" class=\"dataframe\">\n",
       "  <thead>\n",
       "    <tr style=\"text-align: right;\">\n",
       "      <th></th>\n",
       "      <th>Gender</th>\n",
       "      <th>Height</th>\n",
       "      <th>Weight</th>\n",
       "    </tr>\n",
       "  </thead>\n",
       "  <tbody>\n",
       "    <tr>\n",
       "      <th>0</th>\n",
       "      <td>Male</td>\n",
       "      <td>73.847017</td>\n",
       "      <td>241.893563</td>\n",
       "    </tr>\n",
       "    <tr>\n",
       "      <th>1</th>\n",
       "      <td>Male</td>\n",
       "      <td>68.781904</td>\n",
       "      <td>162.310473</td>\n",
       "    </tr>\n",
       "    <tr>\n",
       "      <th>2</th>\n",
       "      <td>Male</td>\n",
       "      <td>74.110105</td>\n",
       "      <td>212.740856</td>\n",
       "    </tr>\n",
       "    <tr>\n",
       "      <th>3</th>\n",
       "      <td>Male</td>\n",
       "      <td>71.730978</td>\n",
       "      <td>220.042470</td>\n",
       "    </tr>\n",
       "    <tr>\n",
       "      <th>4</th>\n",
       "      <td>Male</td>\n",
       "      <td>69.881796</td>\n",
       "      <td>206.349801</td>\n",
       "    </tr>\n",
       "  </tbody>\n",
       "</table>\n",
       "</div>"
      ],
      "text/plain": [
       "  Gender     Height      Weight\n",
       "0   Male  73.847017  241.893563\n",
       "1   Male  68.781904  162.310473\n",
       "2   Male  74.110105  212.740856\n",
       "3   Male  71.730978  220.042470\n",
       "4   Male  69.881796  206.349801"
      ]
     },
     "execution_count": 15,
     "metadata": {},
     "output_type": "execute_result"
    }
   ],
   "source": [
    "df.head()"
   ]
  },
  {
   "cell_type": "code",
   "execution_count": 16,
   "id": "693037af-7f8c-4fa2-aa37-d930472a4ded",
   "metadata": {},
   "outputs": [
    {
     "data": {
      "text/plain": [
       "Gender\n",
       "Male      5000\n",
       "Female    5000\n",
       "Name: count, dtype: int64"
      ]
     },
     "execution_count": 16,
     "metadata": {},
     "output_type": "execute_result"
    }
   ],
   "source": [
    "df['Gender'].value_counts()"
   ]
  },
  {
   "cell_type": "code",
   "execution_count": 24,
   "id": "f412b61d-2739-4746-8cfe-5942a687855d",
   "metadata": {},
   "outputs": [
    {
     "data": {
      "text/plain": [
       "<Axes: >"
      ]
     },
     "execution_count": 24,
     "metadata": {},
     "output_type": "execute_result"
    },
    {
     "data": {
      "image/png": "[encoded data removed]",
      "text/plain": [
       "<Figure size 640x480 with 1 Axes>"
      ]
     },
     "metadata": {},
     "output_type": "display_data"
    }
   ],
   "source": [
    "df['Height'].hist(bins=60)"
   ]
  },
  {
   "cell_type": "markdown",
   "id": "68692263-5bfb-4385-844d-5d0875c824df",
   "metadata": {},
   "source": [
    "### Compare mean, mode and median"
   ]
  },
  {
   "cell_type": "code",
   "execution_count": 18,
   "id": "d2080f2d-83e7-4851-a617-7d7dad6bd8ad",
   "metadata": {},
   "outputs": [
    {
     "name": "stdout",
     "output_type": "stream",
     "text": [
      "Height columns\n",
      "Promedio: 66.37\n",
      "Mediana : 66.32\n",
      "Moda    : 54.26\n",
      "--------------------------------------------------\n",
      "Weight columns\n",
      "Promedio: 161.44\n",
      "Mediana : 161.21\n",
      "Moda    : 64.70\n",
      "--------------------------------------------------\n"
     ]
    }
   ],
   "source": [
    "normally_dist_columns = ['Height', 'Weight']\n",
    "\n",
    "for c in normally_dist_columns:\n",
    "    print(f'{c} columns')\n",
    "    print(f'Promedio: {df[c].mean():,.2f}')\n",
    "    print(f'Mediana : {df[c].median():,.2f}')\n",
    "    print(f'Moda    : {df[c].mode()[0]:,.2f}')\n",
    "    print('-'*50)"
   ]
  },
  {
   "cell_type": "code",
   "execution_count": 21,
   "id": "4420b252-08ef-4e49-8c6a-1c26d527ec17",
   "metadata": {},
   "outputs": [
    {
     "name": "stdout",
     "output_type": "stream",
     "text": [
      "Height is not normally distributed\n",
      "--------------------------------------------------\n",
      "Weight is not normally distributed\n",
      "--------------------------------------------------\n"
     ]
    }
   ],
   "source": [
    "from scipy.stats import normaltest\n",
    "for c in normally_dist_columns:\n",
    "    stat1, p1 = normaltest(df[c])\n",
    "    if p1 > 0.05:\n",
    "        s1 = f'{c} is normally distributed.'\n",
    "    else:\n",
    "        s1 = f'{c} is not normally distributed'\n",
    "    print(s1)\n",
    "    print('-'*50)"
   ]
  },
  {
   "cell_type": "markdown",
   "id": "35eb2402-59e2-4ca7-b6b8-be7032bc93b9",
   "metadata": {},
   "source": [
    "### Men"
   ]
  },
  {
   "cell_type": "code",
   "execution_count": 19,
   "id": "1ae03c0a-c967-41ee-9306-0c14a4b9dd7e",
   "metadata": {},
   "outputs": [
    {
     "name": "stdout",
     "output_type": "stream",
     "text": [
      "Height columns\n",
      "Promedio: 69.03\n",
      "Mediana : 69.03\n",
      "Moda    : 58.41\n",
      "--------------------------------------------------\n",
      "Weight columns\n",
      "Promedio: 187.02\n",
      "Mediana : 187.03\n",
      "Moda    : 112.90\n",
      "--------------------------------------------------\n"
     ]
    }
   ],
   "source": [
    "men = df.loc[df['Gender'] == 'Male']\n",
    "\n",
    "normally_dist_columns = ['Height', 'Weight']\n",
    "\n",
    "for c in normally_dist_columns:\n",
    "    print(f'{c} columns')\n",
    "    print(f'Promedio: {men[c].mean():,.2f}')\n",
    "    print(f'Mediana : {men[c].median():,.2f}')\n",
    "    print(f'Moda    : {men[c].mode()[0]:,.2f}')\n",
    "    print('-'*50)"
   ]
  },
  {
   "cell_type": "code",
   "execution_count": 22,
   "id": "1f15c97f-28ec-4a09-8f56-26f095ca7a4b",
   "metadata": {},
   "outputs": [
    {
     "name": "stdout",
     "output_type": "stream",
     "text": [
      "Height is normally distributed.\n",
      "--------------------------------------------------\n",
      "Weight is normally distributed.\n",
      "--------------------------------------------------\n"
     ]
    }
   ],
   "source": [
    "from scipy.stats import normaltest\n",
    "for c in normally_dist_columns:\n",
    "    stat1, p1 = normaltest(men[c])\n",
    "    if p1 > 0.05:\n",
    "        s1 = f'{c} is normally distributed.'\n",
    "    else:\n",
    "        s1 = f'{c} is not normally distributed'\n",
    "    print(s1)\n",
    "    print('-'*50)"
   ]
  },
  {
   "cell_type": "code",
   "execution_count": null,
   "id": "6b07471f-bac3-44ab-9452-6f425055b36c",
   "metadata": {},
   "outputs": [],
   "source": []
  }
 ],
 "metadata": {
  "kernelspec": {
   "display_name": "Python 3 (ipykernel)",
   "language": "python",
   "name": "python3"
  },
  "language_info": {
   "codemirror_mode": {
    "name": "ipython",
    "version": 3
   },
   "file_extension": ".py",
   "mimetype": "text/x-python",
   "name": "python",
   "nbconvert_exporter": "python",
   "pygments_lexer": "ipython3",
   "version": "3.8.17"
  }
 },
 "nbformat": 4,
 "nbformat_minor": 5
}
